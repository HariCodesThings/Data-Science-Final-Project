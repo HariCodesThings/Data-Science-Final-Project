{
  "nbformat": 4,
  "nbformat_minor": 0,
  "metadata": {
    "colab": {
      "name": "Data_exploration_and_visualizations",
      "provenance": [],
      "include_colab_link": true
    },
    "kernelspec": {
      "name": "python3",
      "display_name": "Python 3"
    }
  },
  "cells": [
    {
      "cell_type": "markdown",
      "metadata": {
        "id": "view-in-github",
        "colab_type": "text"
      },
      "source": [
        "<a href=\"https://colab.research.google.com/github/HariCodesThings/Data-Science-Final-Project/blob/master/Data_exploration_and_visualizations.ipynb\" target=\"_parent\"><img src=\"https://colab.research.google.com/assets/colab-badge.svg\" alt=\"Open In Colab\"/></a>"
      ]
    },
    {
      "cell_type": "code",
      "metadata": {
        "id": "Giw9oNEgBZIf",
        "colab_type": "code",
        "colab": {}
      },
      "source": [
        "import pandas as pd\n",
        "import numpy as np\n",
        "\n",
        "from altair import *"
      ],
      "execution_count": 0,
      "outputs": []
    },
    {
      "cell_type": "markdown",
      "metadata": {
        "id": "8_8yPD3Ff4el",
        "colab_type": "text"
      },
      "source": [
        "## Installs and Loading Previous Data"
      ]
    },
    {
      "cell_type": "code",
      "metadata": {
        "id": "3BxKJVMiehcq",
        "colab_type": "code",
        "outputId": "7e983c2e-0901-4926-9785-abfc76af438e",
        "colab": {
          "base_uri": "https://localhost:8080/",
          "height": 739
        }
      },
      "source": [
        "!pip uninstall -y shapely\n",
        "!apt-get -qq install python-cartopy python3-cartopy"
      ],
      "execution_count": 0,
      "outputs": [
        {
          "output_type": "stream",
          "text": [
            "Uninstalling Shapely-1.7.0:\n",
            "  Successfully uninstalled Shapely-1.7.0\n",
            "Selecting previously unselected package python-pkg-resources.\n",
            "(Reading database ... 133872 files and directories currently installed.)\n",
            "Preparing to unpack .../0-python-pkg-resources_39.0.1-2_all.deb ...\n",
            "Unpacking python-pkg-resources (39.0.1-2) ...\n",
            "Selecting previously unselected package python-pyshp.\n",
            "Preparing to unpack .../1-python-pyshp_1.2.12+ds-1_all.deb ...\n",
            "Unpacking python-pyshp (1.2.12+ds-1) ...\n",
            "Selecting previously unselected package python-shapely.\n",
            "Preparing to unpack .../2-python-shapely_1.6.4-1_amd64.deb ...\n",
            "Unpacking python-shapely (1.6.4-1) ...\n",
            "Selecting previously unselected package python-six.\n",
            "Preparing to unpack .../3-python-six_1.11.0-2_all.deb ...\n",
            "Unpacking python-six (1.11.0-2) ...\n",
            "Selecting previously unselected package python-cartopy:amd64.\n",
            "Preparing to unpack .../4-python-cartopy_0.14.2+dfsg1-2build3_amd64.deb ...\n",
            "Unpacking python-cartopy:amd64 (0.14.2+dfsg1-2build3) ...\n",
            "Selecting previously unselected package python3-pkg-resources.\n",
            "Preparing to unpack .../5-python3-pkg-resources_39.0.1-2_all.deb ...\n",
            "Unpacking python3-pkg-resources (39.0.1-2) ...\n",
            "Selecting previously unselected package python3-pyshp.\n",
            "Preparing to unpack .../6-python3-pyshp_1.2.12+ds-1_all.deb ...\n",
            "Unpacking python3-pyshp (1.2.12+ds-1) ...\n",
            "Selecting previously unselected package python3-shapely.\n",
            "Preparing to unpack .../7-python3-shapely_1.6.4-1_amd64.deb ...\n",
            "Unpacking python3-shapely (1.6.4-1) ...\n",
            "Selecting previously unselected package python3-six.\n",
            "Preparing to unpack .../8-python3-six_1.11.0-2_all.deb ...\n",
            "Unpacking python3-six (1.11.0-2) ...\n",
            "Selecting previously unselected package python3-cartopy:amd64.\n",
            "Preparing to unpack .../9-python3-cartopy_0.14.2+dfsg1-2build3_amd64.deb ...\n",
            "Unpacking python3-cartopy:amd64 (0.14.2+dfsg1-2build3) ...\n",
            "Setting up python-shapely (1.6.4-1) ...\n",
            "Setting up python-pyshp (1.2.12+ds-1) ...\n",
            "Setting up python3-six (1.11.0-2) ...\n",
            "Setting up python3-shapely (1.6.4-1) ...\n",
            "Setting up python3-pyshp (1.2.12+ds-1) ...\n",
            "Setting up python3-pkg-resources (39.0.1-2) ...\n",
            "Setting up python-pkg-resources (39.0.1-2) ...\n",
            "Setting up python-six (1.11.0-2) ...\n",
            "Setting up python3-cartopy:amd64 (0.14.2+dfsg1-2build3) ...\n",
            "Setting up python-cartopy:amd64 (0.14.2+dfsg1-2build3) ...\n"
          ],
          "name": "stdout"
        }
      ]
    },
    {
      "cell_type": "code",
      "metadata": {
        "id": "X_hBuhjlbBoE",
        "colab_type": "code",
        "outputId": "84416152-dfcb-44d3-afd2-9a2d5611070c",
        "colab": {
          "base_uri": "https://localhost:8080/",
          "height": 121
        }
      },
      "source": [
        "from google.colab import drive\n",
        "drive.mount('/content/drive/', force_remount=True)\n"
      ],
      "execution_count": 0,
      "outputs": [
        {
          "output_type": "stream",
          "text": [
            "Go to this URL in a browser: https://accounts.google.com/o/oauth2/auth?client_id=947318989803-6bn6qk8qdgf4n4g3pfee6491hc0brc4i.apps.googleusercontent.com&redirect_uri=urn%3aietf%3awg%3aoauth%3a2.0%3aoob&response_type=code&scope=email%20https%3a%2f%2fwww.googleapis.com%2fauth%2fdocs.test%20https%3a%2f%2fwww.googleapis.com%2fauth%2fdrive%20https%3a%2f%2fwww.googleapis.com%2fauth%2fdrive.photos.readonly%20https%3a%2f%2fwww.googleapis.com%2fauth%2fpeopleapi.readonly\n",
            "\n",
            "Enter your authorization code:\n",
            "··········\n",
            "Mounted at /content/drive/\n"
          ],
          "name": "stdout"
        }
      ]
    },
    {
      "cell_type": "code",
      "metadata": {
        "id": "jgXvuQiNc-vM",
        "colab_type": "code",
        "colab": {}
      },
      "source": [
        "!cp \"/content/drive/My Drive/DATA301 Project/coronavirus_raw.csv\" \"coronavirus_raw.csv\"\n",
        "!cp \"/content/drive/My Drive/DATA301 Project/chinese_cities_cleaned.csv\" \"chinese_cities_cleaned.csv\"\n",
        "!cp \"/content/drive/My Drive/DATA301 Project/covid_by_country_filtered.csv\" \"covid_by_country_filtered.csv\""
      ],
      "execution_count": 0,
      "outputs": []
    },
    {
      "cell_type": "markdown",
      "metadata": {
        "id": "nyE5_F1Uz6n_",
        "colab_type": "text"
      },
      "source": [
        "### Duplicate code to reproduce cleaning for coronavirus country/province (time-series) data"
      ]
    },
    {
      "cell_type": "code",
      "metadata": {
        "id": "NCDFB_ahzyqB",
        "colab_type": "code",
        "outputId": "4b9fff55-3626-4632-dd6d-c4cdec6acd82",
        "colab": {
          "base_uri": "https://localhost:8080/",
          "height": 143
        }
      },
      "source": [
        "from datetime import datetime\n",
        "\n",
        "df_coronavirus = pd.read_csv(\"coronavirus_raw.csv\")\n",
        "cleaned = []\n",
        "for entry in range(len(df_coronavirus)):\n",
        "  cleaned.append(datetime.fromtimestamp(df_coronavirus['updateTime'][entry]/1000)\n",
        "                  .strftime(\"%x\"))\n",
        "  \n",
        "df_coronavirus['updateTime_cleaned'] = np.array(cleaned)\n",
        "df_coronavirus.head(2)"
      ],
      "execution_count": 0,
      "outputs": [
        {
          "output_type": "execute_result",
          "data": {
            "text/html": [
              "<div>\n",
              "<style scoped>\n",
              "    .dataframe tbody tr th:only-of-type {\n",
              "        vertical-align: middle;\n",
              "    }\n",
              "\n",
              "    .dataframe tbody tr th {\n",
              "        vertical-align: top;\n",
              "    }\n",
              "\n",
              "    .dataframe thead th {\n",
              "        text-align: right;\n",
              "    }\n",
              "</style>\n",
              "<table border=\"1\" class=\"dataframe\">\n",
              "  <thead>\n",
              "    <tr style=\"text-align: right;\">\n",
              "      <th></th>\n",
              "      <th>provinceName</th>\n",
              "      <th>currentConfirmedCount</th>\n",
              "      <th>confirmedCount</th>\n",
              "      <th>suspectedCount</th>\n",
              "      <th>curedCount</th>\n",
              "      <th>deadCount</th>\n",
              "      <th>comment</th>\n",
              "      <th>operator</th>\n",
              "      <th>locationId</th>\n",
              "      <th>countryShortCode</th>\n",
              "      <th>countryFullName</th>\n",
              "      <th>continentName</th>\n",
              "      <th>countryName</th>\n",
              "      <th>provinceShortName</th>\n",
              "      <th>continentEnglishName</th>\n",
              "      <th>countryEnglishName</th>\n",
              "      <th>provinceEnglishName</th>\n",
              "      <th>updateTime</th>\n",
              "      <th>statisticsData</th>\n",
              "      <th>cities</th>\n",
              "      <th>createTime</th>\n",
              "      <th>modifyTime</th>\n",
              "      <th>cityName</th>\n",
              "      <th>updateTime_cleaned</th>\n",
              "    </tr>\n",
              "  </thead>\n",
              "  <tbody>\n",
              "    <tr>\n",
              "      <th>0</th>\n",
              "      <td>关岛</td>\n",
              "      <td>3.0</td>\n",
              "      <td>3</td>\n",
              "      <td>0.0</td>\n",
              "      <td>0</td>\n",
              "      <td>0</td>\n",
              "      <td>NaN</td>\n",
              "      <td>chend</td>\n",
              "      <td>0</td>\n",
              "      <td>GU</td>\n",
              "      <td>Guam</td>\n",
              "      <td>北美洲</td>\n",
              "      <td>关岛</td>\n",
              "      <td>关岛</td>\n",
              "      <td>North America</td>\n",
              "      <td>Guam</td>\n",
              "      <td>Guam</td>\n",
              "      <td>1584487275191</td>\n",
              "      <td>NaN</td>\n",
              "      <td>NaN</td>\n",
              "      <td>NaN</td>\n",
              "      <td>NaN</td>\n",
              "      <td>NaN</td>\n",
              "      <td>03/17/20</td>\n",
              "    </tr>\n",
              "    <tr>\n",
              "      <th>1</th>\n",
              "      <td>美属维尔京群岛</td>\n",
              "      <td>2.0</td>\n",
              "      <td>2</td>\n",
              "      <td>0.0</td>\n",
              "      <td>0</td>\n",
              "      <td>0</td>\n",
              "      <td>NaN</td>\n",
              "      <td>chend</td>\n",
              "      <td>0</td>\n",
              "      <td>USVI</td>\n",
              "      <td>United States Virgin Islands</td>\n",
              "      <td>北美洲</td>\n",
              "      <td>美属维尔京群岛</td>\n",
              "      <td>美属维尔京群岛</td>\n",
              "      <td>North America</td>\n",
              "      <td>NaN</td>\n",
              "      <td>NaN</td>\n",
              "      <td>1584487275191</td>\n",
              "      <td>NaN</td>\n",
              "      <td>NaN</td>\n",
              "      <td>NaN</td>\n",
              "      <td>NaN</td>\n",
              "      <td>NaN</td>\n",
              "      <td>03/17/20</td>\n",
              "    </tr>\n",
              "  </tbody>\n",
              "</table>\n",
              "</div>"
            ],
            "text/plain": [
              "  provinceName  currentConfirmedCount  ...  cityName  updateTime_cleaned\n",
              "0           关岛                    3.0  ...       NaN            03/17/20\n",
              "1      美属维尔京群岛                    2.0  ...       NaN            03/17/20\n",
              "\n",
              "[2 rows x 24 columns]"
            ]
          },
          "metadata": {
            "tags": []
          },
          "execution_count": 5
        }
      ]
    },
    {
      "cell_type": "code",
      "metadata": {
        "id": "9bPUQ2ly0Wxy",
        "colab_type": "code",
        "outputId": "34edad85-5f6e-4128-f73a-46b935c09c1e",
        "colab": {
          "base_uri": "https://localhost:8080/",
          "height": 143
        }
      },
      "source": [
        "df_coronavirus['cities'].fillna('[]', inplace = True)\n",
        "df_coronavirus[df_coronavirus['cities']=='[]'].head(2)"
      ],
      "execution_count": 0,
      "outputs": [
        {
          "output_type": "execute_result",
          "data": {
            "text/html": [
              "<div>\n",
              "<style scoped>\n",
              "    .dataframe tbody tr th:only-of-type {\n",
              "        vertical-align: middle;\n",
              "    }\n",
              "\n",
              "    .dataframe tbody tr th {\n",
              "        vertical-align: top;\n",
              "    }\n",
              "\n",
              "    .dataframe thead th {\n",
              "        text-align: right;\n",
              "    }\n",
              "</style>\n",
              "<table border=\"1\" class=\"dataframe\">\n",
              "  <thead>\n",
              "    <tr style=\"text-align: right;\">\n",
              "      <th></th>\n",
              "      <th>provinceName</th>\n",
              "      <th>currentConfirmedCount</th>\n",
              "      <th>confirmedCount</th>\n",
              "      <th>suspectedCount</th>\n",
              "      <th>curedCount</th>\n",
              "      <th>deadCount</th>\n",
              "      <th>comment</th>\n",
              "      <th>operator</th>\n",
              "      <th>locationId</th>\n",
              "      <th>countryShortCode</th>\n",
              "      <th>countryFullName</th>\n",
              "      <th>continentName</th>\n",
              "      <th>countryName</th>\n",
              "      <th>provinceShortName</th>\n",
              "      <th>continentEnglishName</th>\n",
              "      <th>countryEnglishName</th>\n",
              "      <th>provinceEnglishName</th>\n",
              "      <th>updateTime</th>\n",
              "      <th>statisticsData</th>\n",
              "      <th>cities</th>\n",
              "      <th>createTime</th>\n",
              "      <th>modifyTime</th>\n",
              "      <th>cityName</th>\n",
              "      <th>updateTime_cleaned</th>\n",
              "    </tr>\n",
              "  </thead>\n",
              "  <tbody>\n",
              "    <tr>\n",
              "      <th>0</th>\n",
              "      <td>关岛</td>\n",
              "      <td>3.0</td>\n",
              "      <td>3</td>\n",
              "      <td>0.0</td>\n",
              "      <td>0</td>\n",
              "      <td>0</td>\n",
              "      <td>NaN</td>\n",
              "      <td>chend</td>\n",
              "      <td>0</td>\n",
              "      <td>GU</td>\n",
              "      <td>Guam</td>\n",
              "      <td>北美洲</td>\n",
              "      <td>关岛</td>\n",
              "      <td>关岛</td>\n",
              "      <td>North America</td>\n",
              "      <td>Guam</td>\n",
              "      <td>Guam</td>\n",
              "      <td>1584487275191</td>\n",
              "      <td>NaN</td>\n",
              "      <td>[]</td>\n",
              "      <td>NaN</td>\n",
              "      <td>NaN</td>\n",
              "      <td>NaN</td>\n",
              "      <td>03/17/20</td>\n",
              "    </tr>\n",
              "    <tr>\n",
              "      <th>1</th>\n",
              "      <td>美属维尔京群岛</td>\n",
              "      <td>2.0</td>\n",
              "      <td>2</td>\n",
              "      <td>0.0</td>\n",
              "      <td>0</td>\n",
              "      <td>0</td>\n",
              "      <td>NaN</td>\n",
              "      <td>chend</td>\n",
              "      <td>0</td>\n",
              "      <td>USVI</td>\n",
              "      <td>United States Virgin Islands</td>\n",
              "      <td>北美洲</td>\n",
              "      <td>美属维尔京群岛</td>\n",
              "      <td>美属维尔京群岛</td>\n",
              "      <td>North America</td>\n",
              "      <td>NaN</td>\n",
              "      <td>NaN</td>\n",
              "      <td>1584487275191</td>\n",
              "      <td>NaN</td>\n",
              "      <td>[]</td>\n",
              "      <td>NaN</td>\n",
              "      <td>NaN</td>\n",
              "      <td>NaN</td>\n",
              "      <td>03/17/20</td>\n",
              "    </tr>\n",
              "  </tbody>\n",
              "</table>\n",
              "</div>"
            ],
            "text/plain": [
              "  provinceName  currentConfirmedCount  ...  cityName  updateTime_cleaned\n",
              "0           关岛                    3.0  ...       NaN            03/17/20\n",
              "1      美属维尔京群岛                    2.0  ...       NaN            03/17/20\n",
              "\n",
              "[2 rows x 24 columns]"
            ]
          },
          "metadata": {
            "tags": []
          },
          "execution_count": 6
        }
      ]
    },
    {
      "cell_type": "code",
      "metadata": {
        "id": "4yv6JybB0mY-",
        "colab_type": "code",
        "outputId": "ce1b8eba-db49-4a1f-d722-429be0866547",
        "colab": {
          "base_uri": "https://localhost:8080/",
          "height": 126
        }
      },
      "source": [
        "df_coronavirus_filtered = df_coronavirus[df_coronavirus['countryEnglishName']\n",
        "                                         .isna() != True]\n",
        "df_coronavirus_filtered.head(2)"
      ],
      "execution_count": 0,
      "outputs": [
        {
          "output_type": "execute_result",
          "data": {
            "text/html": [
              "<div>\n",
              "<style scoped>\n",
              "    .dataframe tbody tr th:only-of-type {\n",
              "        vertical-align: middle;\n",
              "    }\n",
              "\n",
              "    .dataframe tbody tr th {\n",
              "        vertical-align: top;\n",
              "    }\n",
              "\n",
              "    .dataframe thead th {\n",
              "        text-align: right;\n",
              "    }\n",
              "</style>\n",
              "<table border=\"1\" class=\"dataframe\">\n",
              "  <thead>\n",
              "    <tr style=\"text-align: right;\">\n",
              "      <th></th>\n",
              "      <th>provinceName</th>\n",
              "      <th>currentConfirmedCount</th>\n",
              "      <th>confirmedCount</th>\n",
              "      <th>suspectedCount</th>\n",
              "      <th>curedCount</th>\n",
              "      <th>deadCount</th>\n",
              "      <th>comment</th>\n",
              "      <th>operator</th>\n",
              "      <th>locationId</th>\n",
              "      <th>countryShortCode</th>\n",
              "      <th>countryFullName</th>\n",
              "      <th>continentName</th>\n",
              "      <th>countryName</th>\n",
              "      <th>provinceShortName</th>\n",
              "      <th>continentEnglishName</th>\n",
              "      <th>countryEnglishName</th>\n",
              "      <th>provinceEnglishName</th>\n",
              "      <th>updateTime</th>\n",
              "      <th>statisticsData</th>\n",
              "      <th>cities</th>\n",
              "      <th>createTime</th>\n",
              "      <th>modifyTime</th>\n",
              "      <th>cityName</th>\n",
              "      <th>updateTime_cleaned</th>\n",
              "    </tr>\n",
              "  </thead>\n",
              "  <tbody>\n",
              "    <tr>\n",
              "      <th>0</th>\n",
              "      <td>关岛</td>\n",
              "      <td>3.0</td>\n",
              "      <td>3</td>\n",
              "      <td>0.0</td>\n",
              "      <td>0</td>\n",
              "      <td>0</td>\n",
              "      <td>NaN</td>\n",
              "      <td>chend</td>\n",
              "      <td>0</td>\n",
              "      <td>GU</td>\n",
              "      <td>Guam</td>\n",
              "      <td>北美洲</td>\n",
              "      <td>关岛</td>\n",
              "      <td>关岛</td>\n",
              "      <td>North America</td>\n",
              "      <td>Guam</td>\n",
              "      <td>Guam</td>\n",
              "      <td>1584487275191</td>\n",
              "      <td>NaN</td>\n",
              "      <td>[]</td>\n",
              "      <td>NaN</td>\n",
              "      <td>NaN</td>\n",
              "      <td>NaN</td>\n",
              "      <td>03/17/20</td>\n",
              "    </tr>\n",
              "    <tr>\n",
              "      <th>2</th>\n",
              "      <td>以色列</td>\n",
              "      <td>332.0</td>\n",
              "      <td>337</td>\n",
              "      <td>0.0</td>\n",
              "      <td>5</td>\n",
              "      <td>0</td>\n",
              "      <td>NaN</td>\n",
              "      <td>chend</td>\n",
              "      <td>955009</td>\n",
              "      <td>ISR</td>\n",
              "      <td>Israel</td>\n",
              "      <td>亚洲</td>\n",
              "      <td>以色列</td>\n",
              "      <td>以色列</td>\n",
              "      <td>Asia</td>\n",
              "      <td>Israel</td>\n",
              "      <td>Israel</td>\n",
              "      <td>1584484401599</td>\n",
              "      <td>https://file1.dxycdn.com/2020/0315/982/3402160...</td>\n",
              "      <td>[]</td>\n",
              "      <td>NaN</td>\n",
              "      <td>NaN</td>\n",
              "      <td>NaN</td>\n",
              "      <td>03/17/20</td>\n",
              "    </tr>\n",
              "  </tbody>\n",
              "</table>\n",
              "</div>"
            ],
            "text/plain": [
              "  provinceName  currentConfirmedCount  ...  cityName  updateTime_cleaned\n",
              "0           关岛                    3.0  ...       NaN            03/17/20\n",
              "2          以色列                  332.0  ...       NaN            03/17/20\n",
              "\n",
              "[2 rows x 24 columns]"
            ]
          },
          "metadata": {
            "tags": []
          },
          "execution_count": 7
        }
      ]
    },
    {
      "cell_type": "markdown",
      "metadata": {
        "id": "Vykpil8z0rVE",
        "colab_type": "text"
      },
      "source": [
        "# **Data visualizations for above (imported or reproduced data)**"
      ]
    },
    {
      "cell_type": "markdown",
      "metadata": {
        "id": "ItTIbf842E-a",
        "colab_type": "text"
      },
      "source": [
        "First, read in relevant clean data from previous notebook"
      ]
    },
    {
      "cell_type": "code",
      "metadata": {
        "id": "kzNYmoMVBlaR",
        "colab_type": "code",
        "outputId": "5241e456-f6bc-42ce-f654-0df3398c111e",
        "colab": {
          "base_uri": "https://localhost:8080/",
          "height": 215
        }
      },
      "source": [
        "df_cities = pd.read_csv(\"chinese_cities_cleaned.csv\")\n",
        "df_cities.head()"
      ],
      "execution_count": 0,
      "outputs": [
        {
          "output_type": "execute_result",
          "data": {
            "text/html": [
              "<div>\n",
              "<style scoped>\n",
              "    .dataframe tbody tr th:only-of-type {\n",
              "        vertical-align: middle;\n",
              "    }\n",
              "\n",
              "    .dataframe tbody tr th {\n",
              "        vertical-align: top;\n",
              "    }\n",
              "\n",
              "    .dataframe thead th {\n",
              "        text-align: right;\n",
              "    }\n",
              "</style>\n",
              "<table border=\"1\" class=\"dataframe\">\n",
              "  <thead>\n",
              "    <tr style=\"text-align: right;\">\n",
              "      <th></th>\n",
              "      <th>cityName</th>\n",
              "      <th>currentConfirmedCount</th>\n",
              "      <th>confirmedCount</th>\n",
              "      <th>suspectedCount</th>\n",
              "      <th>curedCount</th>\n",
              "      <th>deadCount</th>\n",
              "      <th>locationId</th>\n",
              "      <th>cityEnglishName</th>\n",
              "      <th>provinceName</th>\n",
              "      <th>countryName</th>\n",
              "      <th>lat</th>\n",
              "      <th>long</th>\n",
              "    </tr>\n",
              "  </thead>\n",
              "  <tbody>\n",
              "    <tr>\n",
              "      <th>0</th>\n",
              "      <td>丹东</td>\n",
              "      <td>2</td>\n",
              "      <td>11</td>\n",
              "      <td>0</td>\n",
              "      <td>9</td>\n",
              "      <td>0</td>\n",
              "      <td>210600</td>\n",
              "      <td>Dandong</td>\n",
              "      <td>Liaoning</td>\n",
              "      <td>China</td>\n",
              "      <td>40.128668</td>\n",
              "      <td>124.386340</td>\n",
              "    </tr>\n",
              "    <tr>\n",
              "      <th>1</th>\n",
              "      <td>沈阳</td>\n",
              "      <td>1</td>\n",
              "      <td>28</td>\n",
              "      <td>0</td>\n",
              "      <td>27</td>\n",
              "      <td>0</td>\n",
              "      <td>210100</td>\n",
              "      <td>Shenyang</td>\n",
              "      <td>Liaoning</td>\n",
              "      <td>China</td>\n",
              "      <td>41.804109</td>\n",
              "      <td>123.427636</td>\n",
              "    </tr>\n",
              "    <tr>\n",
              "      <th>2</th>\n",
              "      <td>朝阳</td>\n",
              "      <td>1</td>\n",
              "      <td>6</td>\n",
              "      <td>0</td>\n",
              "      <td>5</td>\n",
              "      <td>0</td>\n",
              "      <td>211300</td>\n",
              "      <td>Chaoyang</td>\n",
              "      <td>Liaoning</td>\n",
              "      <td>China</td>\n",
              "      <td>41.575477</td>\n",
              "      <td>120.439074</td>\n",
              "    </tr>\n",
              "    <tr>\n",
              "      <th>3</th>\n",
              "      <td>大连</td>\n",
              "      <td>0</td>\n",
              "      <td>19</td>\n",
              "      <td>0</td>\n",
              "      <td>19</td>\n",
              "      <td>0</td>\n",
              "      <td>210200</td>\n",
              "      <td>Dalian</td>\n",
              "      <td>Liaoning</td>\n",
              "      <td>China</td>\n",
              "      <td>38.918171</td>\n",
              "      <td>121.628295</td>\n",
              "    </tr>\n",
              "    <tr>\n",
              "      <th>4</th>\n",
              "      <td>锦州</td>\n",
              "      <td>0</td>\n",
              "      <td>12</td>\n",
              "      <td>0</td>\n",
              "      <td>12</td>\n",
              "      <td>0</td>\n",
              "      <td>210700</td>\n",
              "      <td>Jinzhou</td>\n",
              "      <td>Liaoning</td>\n",
              "      <td>China</td>\n",
              "      <td>41.108528</td>\n",
              "      <td>121.119422</td>\n",
              "    </tr>\n",
              "  </tbody>\n",
              "</table>\n",
              "</div>"
            ],
            "text/plain": [
              "  cityName  currentConfirmedCount  ...        lat        long\n",
              "0       丹东                      2  ...  40.128668  124.386340\n",
              "1       沈阳                      1  ...  41.804109  123.427636\n",
              "2       朝阳                      1  ...  41.575477  120.439074\n",
              "3       大连                      0  ...  38.918171  121.628295\n",
              "4       锦州                      0  ...  41.108528  121.119422\n",
              "\n",
              "[5 rows x 12 columns]"
            ]
          },
          "metadata": {
            "tags": []
          },
          "execution_count": 8
        }
      ]
    },
    {
      "cell_type": "code",
      "metadata": {
        "id": "k6sM9Cet1RPu",
        "colab_type": "code",
        "outputId": "ec318f1c-fed4-404a-b523-73139f7271a1",
        "colab": {
          "base_uri": "https://localhost:8080/",
          "height": 215
        }
      },
      "source": [
        "df_coronavirus_filtered.head()"
      ],
      "execution_count": 0,
      "outputs": [
        {
          "output_type": "execute_result",
          "data": {
            "text/html": [
              "<div>\n",
              "<style scoped>\n",
              "    .dataframe tbody tr th:only-of-type {\n",
              "        vertical-align: middle;\n",
              "    }\n",
              "\n",
              "    .dataframe tbody tr th {\n",
              "        vertical-align: top;\n",
              "    }\n",
              "\n",
              "    .dataframe thead th {\n",
              "        text-align: right;\n",
              "    }\n",
              "</style>\n",
              "<table border=\"1\" class=\"dataframe\">\n",
              "  <thead>\n",
              "    <tr style=\"text-align: right;\">\n",
              "      <th></th>\n",
              "      <th>provinceName</th>\n",
              "      <th>currentConfirmedCount</th>\n",
              "      <th>confirmedCount</th>\n",
              "      <th>suspectedCount</th>\n",
              "      <th>curedCount</th>\n",
              "      <th>deadCount</th>\n",
              "      <th>comment</th>\n",
              "      <th>operator</th>\n",
              "      <th>locationId</th>\n",
              "      <th>countryShortCode</th>\n",
              "      <th>countryFullName</th>\n",
              "      <th>continentName</th>\n",
              "      <th>countryName</th>\n",
              "      <th>provinceShortName</th>\n",
              "      <th>continentEnglishName</th>\n",
              "      <th>countryEnglishName</th>\n",
              "      <th>provinceEnglishName</th>\n",
              "      <th>updateTime</th>\n",
              "      <th>statisticsData</th>\n",
              "      <th>cities</th>\n",
              "      <th>createTime</th>\n",
              "      <th>modifyTime</th>\n",
              "      <th>cityName</th>\n",
              "      <th>updateTime_cleaned</th>\n",
              "    </tr>\n",
              "  </thead>\n",
              "  <tbody>\n",
              "    <tr>\n",
              "      <th>0</th>\n",
              "      <td>关岛</td>\n",
              "      <td>3.0</td>\n",
              "      <td>3</td>\n",
              "      <td>0.0</td>\n",
              "      <td>0</td>\n",
              "      <td>0</td>\n",
              "      <td>NaN</td>\n",
              "      <td>chend</td>\n",
              "      <td>0</td>\n",
              "      <td>GU</td>\n",
              "      <td>Guam</td>\n",
              "      <td>北美洲</td>\n",
              "      <td>关岛</td>\n",
              "      <td>关岛</td>\n",
              "      <td>North America</td>\n",
              "      <td>Guam</td>\n",
              "      <td>Guam</td>\n",
              "      <td>1584487275191</td>\n",
              "      <td>NaN</td>\n",
              "      <td>[]</td>\n",
              "      <td>NaN</td>\n",
              "      <td>NaN</td>\n",
              "      <td>NaN</td>\n",
              "      <td>03/17/20</td>\n",
              "    </tr>\n",
              "    <tr>\n",
              "      <th>2</th>\n",
              "      <td>以色列</td>\n",
              "      <td>332.0</td>\n",
              "      <td>337</td>\n",
              "      <td>0.0</td>\n",
              "      <td>5</td>\n",
              "      <td>0</td>\n",
              "      <td>NaN</td>\n",
              "      <td>chend</td>\n",
              "      <td>955009</td>\n",
              "      <td>ISR</td>\n",
              "      <td>Israel</td>\n",
              "      <td>亚洲</td>\n",
              "      <td>以色列</td>\n",
              "      <td>以色列</td>\n",
              "      <td>Asia</td>\n",
              "      <td>Israel</td>\n",
              "      <td>Israel</td>\n",
              "      <td>1584484401599</td>\n",
              "      <td>https://file1.dxycdn.com/2020/0315/982/3402160...</td>\n",
              "      <td>[]</td>\n",
              "      <td>NaN</td>\n",
              "      <td>NaN</td>\n",
              "      <td>NaN</td>\n",
              "      <td>03/17/20</td>\n",
              "    </tr>\n",
              "    <tr>\n",
              "      <th>3</th>\n",
              "      <td>斯洛伐克</td>\n",
              "      <td>97.0</td>\n",
              "      <td>97</td>\n",
              "      <td>0.0</td>\n",
              "      <td>0</td>\n",
              "      <td>0</td>\n",
              "      <td>NaN</td>\n",
              "      <td>chend</td>\n",
              "      <td>963007</td>\n",
              "      <td>SVK</td>\n",
              "      <td>Slovakia</td>\n",
              "      <td>欧洲</td>\n",
              "      <td>斯洛伐克</td>\n",
              "      <td>斯洛伐克</td>\n",
              "      <td>Europe</td>\n",
              "      <td>Slovakia</td>\n",
              "      <td>Slovakia</td>\n",
              "      <td>1584483818068</td>\n",
              "      <td>https://file1.dxycdn.com/2020/0315/353/3402160...</td>\n",
              "      <td>[]</td>\n",
              "      <td>NaN</td>\n",
              "      <td>NaN</td>\n",
              "      <td>NaN</td>\n",
              "      <td>03/17/20</td>\n",
              "    </tr>\n",
              "    <tr>\n",
              "      <th>4</th>\n",
              "      <td>冈比亚</td>\n",
              "      <td>1.0</td>\n",
              "      <td>1</td>\n",
              "      <td>0.0</td>\n",
              "      <td>0</td>\n",
              "      <td>0</td>\n",
              "      <td>NaN</td>\n",
              "      <td>chend</td>\n",
              "      <td>982005</td>\n",
              "      <td>GMB</td>\n",
              "      <td>Gambia</td>\n",
              "      <td>非洲</td>\n",
              "      <td>冈比亚</td>\n",
              "      <td>冈比亚</td>\n",
              "      <td>Africa</td>\n",
              "      <td>Gambia</td>\n",
              "      <td>Gambia</td>\n",
              "      <td>1584483753903</td>\n",
              "      <td>NaN</td>\n",
              "      <td>[]</td>\n",
              "      <td>NaN</td>\n",
              "      <td>NaN</td>\n",
              "      <td>NaN</td>\n",
              "      <td>03/17/20</td>\n",
              "    </tr>\n",
              "    <tr>\n",
              "      <th>5</th>\n",
              "      <td>阿曼</td>\n",
              "      <td>21.0</td>\n",
              "      <td>33</td>\n",
              "      <td>0.0</td>\n",
              "      <td>12</td>\n",
              "      <td>0</td>\n",
              "      <td>NaN</td>\n",
              "      <td>chend</td>\n",
              "      <td>955013</td>\n",
              "      <td>OMN</td>\n",
              "      <td>Oman</td>\n",
              "      <td>亚洲</td>\n",
              "      <td>阿曼</td>\n",
              "      <td>阿曼</td>\n",
              "      <td>Asia</td>\n",
              "      <td>Oman</td>\n",
              "      <td>Oman</td>\n",
              "      <td>1584483497693</td>\n",
              "      <td>https://file1.dxycdn.com/2020/0315/945/3402160...</td>\n",
              "      <td>[]</td>\n",
              "      <td>NaN</td>\n",
              "      <td>NaN</td>\n",
              "      <td>NaN</td>\n",
              "      <td>03/17/20</td>\n",
              "    </tr>\n",
              "  </tbody>\n",
              "</table>\n",
              "</div>"
            ],
            "text/plain": [
              "  provinceName  currentConfirmedCount  ...  cityName  updateTime_cleaned\n",
              "0           关岛                    3.0  ...       NaN            03/17/20\n",
              "2          以色列                  332.0  ...       NaN            03/17/20\n",
              "3         斯洛伐克                   97.0  ...       NaN            03/17/20\n",
              "4          冈比亚                    1.0  ...       NaN            03/17/20\n",
              "5           阿曼                   21.0  ...       NaN            03/17/20\n",
              "\n",
              "[5 rows x 24 columns]"
            ]
          },
          "metadata": {
            "tags": []
          },
          "execution_count": 9
        }
      ]
    },
    {
      "cell_type": "code",
      "metadata": {
        "id": "LW3B4Zvq1cDX",
        "colab_type": "code",
        "outputId": "1c56b3c8-926d-4380-e4bb-8b25ad68d58f",
        "colab": {
          "base_uri": "https://localhost:8080/",
          "height": 195
        }
      },
      "source": [
        "df_by_country_filtered = pd.read_csv(\"covid_by_country_filtered.csv\")\n",
        "df_by_country_filtered.head()"
      ],
      "execution_count": 0,
      "outputs": [
        {
          "output_type": "execute_result",
          "data": {
            "text/html": [
              "<div>\n",
              "<style scoped>\n",
              "    .dataframe tbody tr th:only-of-type {\n",
              "        vertical-align: middle;\n",
              "    }\n",
              "\n",
              "    .dataframe tbody tr th {\n",
              "        vertical-align: top;\n",
              "    }\n",
              "\n",
              "    .dataframe thead th {\n",
              "        text-align: right;\n",
              "    }\n",
              "</style>\n",
              "<table border=\"1\" class=\"dataframe\">\n",
              "  <thead>\n",
              "    <tr style=\"text-align: right;\">\n",
              "      <th></th>\n",
              "      <th>countryEnglishName</th>\n",
              "      <th>currentConfirmedCount</th>\n",
              "      <th>confirmedCount</th>\n",
              "      <th>suspectedCount</th>\n",
              "      <th>curedCount</th>\n",
              "      <th>deadCount</th>\n",
              "    </tr>\n",
              "  </thead>\n",
              "  <tbody>\n",
              "    <tr>\n",
              "      <th>0</th>\n",
              "      <td>Afghanistan</td>\n",
              "      <td>22</td>\n",
              "      <td>22</td>\n",
              "      <td>0</td>\n",
              "      <td>0</td>\n",
              "      <td>0</td>\n",
              "    </tr>\n",
              "    <tr>\n",
              "      <th>1</th>\n",
              "      <td>Albania</td>\n",
              "      <td>54</td>\n",
              "      <td>55</td>\n",
              "      <td>0</td>\n",
              "      <td>0</td>\n",
              "      <td>1</td>\n",
              "    </tr>\n",
              "    <tr>\n",
              "      <th>2</th>\n",
              "      <td>Algeria</td>\n",
              "      <td>45</td>\n",
              "      <td>60</td>\n",
              "      <td>0</td>\n",
              "      <td>10</td>\n",
              "      <td>5</td>\n",
              "    </tr>\n",
              "    <tr>\n",
              "      <th>3</th>\n",
              "      <td>Andorra</td>\n",
              "      <td>14</td>\n",
              "      <td>15</td>\n",
              "      <td>0</td>\n",
              "      <td>1</td>\n",
              "      <td>0</td>\n",
              "    </tr>\n",
              "    <tr>\n",
              "      <th>4</th>\n",
              "      <td>Antigua and Barbuda</td>\n",
              "      <td>1</td>\n",
              "      <td>1</td>\n",
              "      <td>0</td>\n",
              "      <td>0</td>\n",
              "      <td>0</td>\n",
              "    </tr>\n",
              "  </tbody>\n",
              "</table>\n",
              "</div>"
            ],
            "text/plain": [
              "    countryEnglishName  currentConfirmedCount  ...  curedCount  deadCount\n",
              "0          Afghanistan                     22  ...           0          0\n",
              "1              Albania                     54  ...           0          1\n",
              "2              Algeria                     45  ...          10          5\n",
              "3              Andorra                     14  ...           1          0\n",
              "4  Antigua and Barbuda                      1  ...           0          0\n",
              "\n",
              "[5 rows x 6 columns]"
            ]
          },
          "metadata": {
            "tags": []
          },
          "execution_count": 10
        }
      ]
    },
    {
      "cell_type": "markdown",
      "metadata": {
        "id": "hYIamHBSFrfO",
        "colab_type": "text"
      },
      "source": [
        "We are going to pull up current statistics for all countries right now to see which ones have confirmed cases of more than 500 (arbitrary signifier for relatively high confirm counts) so that we can compare confirmed count to death counts later on"
      ]
    },
    {
      "cell_type": "markdown",
      "metadata": {
        "id": "5_LBkOTOGcK3",
        "colab_type": "text"
      },
      "source": [
        "*NOTE: We kept the Diamond Princess Cruise Ship in even though it's not a country, since there have been many cases confirmed aboard the ship and it is a significant case to observe*"
      ]
    },
    {
      "cell_type": "code",
      "metadata": {
        "id": "xc_OE4pCBvdG",
        "colab_type": "code",
        "outputId": "b754d876-c2fa-446e-a6fc-02a334f28eea",
        "colab": {
          "base_uri": "https://localhost:8080/",
          "height": 610
        }
      },
      "source": [
        "df_high_confirmed_countries = df_by_country_filtered[df_by_country_filtered['confirmedCount'] > 500]\n",
        "df_high_confirmed_countries = df_high_confirmed_countries.sort_values(by='confirmedCount', ascending=False)\n",
        "df_high_confirmed_countries"
      ],
      "execution_count": 0,
      "outputs": [
        {
          "output_type": "execute_result",
          "data": {
            "text/html": [
              "<div>\n",
              "<style scoped>\n",
              "    .dataframe tbody tr th:only-of-type {\n",
              "        vertical-align: middle;\n",
              "    }\n",
              "\n",
              "    .dataframe tbody tr th {\n",
              "        vertical-align: top;\n",
              "    }\n",
              "\n",
              "    .dataframe thead th {\n",
              "        text-align: right;\n",
              "    }\n",
              "</style>\n",
              "<table border=\"1\" class=\"dataframe\">\n",
              "  <thead>\n",
              "    <tr style=\"text-align: right;\">\n",
              "      <th></th>\n",
              "      <th>countryEnglishName</th>\n",
              "      <th>currentConfirmedCount</th>\n",
              "      <th>confirmedCount</th>\n",
              "      <th>suspectedCount</th>\n",
              "      <th>curedCount</th>\n",
              "      <th>deadCount</th>\n",
              "    </tr>\n",
              "  </thead>\n",
              "  <tbody>\n",
              "    <tr>\n",
              "      <th>27</th>\n",
              "      <td>China</td>\n",
              "      <td>9084</td>\n",
              "      <td>81135</td>\n",
              "      <td>0</td>\n",
              "      <td>68820</td>\n",
              "      <td>3231</td>\n",
              "    </tr>\n",
              "    <tr>\n",
              "      <th>69</th>\n",
              "      <td>Italy</td>\n",
              "      <td>26062</td>\n",
              "      <td>31506</td>\n",
              "      <td>0</td>\n",
              "      <td>2941</td>\n",
              "      <td>2503</td>\n",
              "    </tr>\n",
              "    <tr>\n",
              "      <th>65</th>\n",
              "      <td>Iran</td>\n",
              "      <td>9792</td>\n",
              "      <td>16169</td>\n",
              "      <td>0</td>\n",
              "      <td>5389</td>\n",
              "      <td>988</td>\n",
              "    </tr>\n",
              "    <tr>\n",
              "      <th>131</th>\n",
              "      <td>Spain</td>\n",
              "      <td>9659</td>\n",
              "      <td>11178</td>\n",
              "      <td>0</td>\n",
              "      <td>1028</td>\n",
              "      <td>491</td>\n",
              "    </tr>\n",
              "    <tr>\n",
              "      <th>50</th>\n",
              "      <td>Germany</td>\n",
              "      <td>9075</td>\n",
              "      <td>9235</td>\n",
              "      <td>0</td>\n",
              "      <td>135</td>\n",
              "      <td>25</td>\n",
              "    </tr>\n",
              "    <tr>\n",
              "      <th>78</th>\n",
              "      <td>Korea</td>\n",
              "      <td>6838</td>\n",
              "      <td>8320</td>\n",
              "      <td>0</td>\n",
              "      <td>1401</td>\n",
              "      <td>81</td>\n",
              "    </tr>\n",
              "    <tr>\n",
              "      <th>44</th>\n",
              "      <td>France</td>\n",
              "      <td>6953</td>\n",
              "      <td>7730</td>\n",
              "      <td>0</td>\n",
              "      <td>602</td>\n",
              "      <td>175</td>\n",
              "    </tr>\n",
              "    <tr>\n",
              "      <th>152</th>\n",
              "      <td>United States of America</td>\n",
              "      <td>5538</td>\n",
              "      <td>5709</td>\n",
              "      <td>0</td>\n",
              "      <td>74</td>\n",
              "      <td>97</td>\n",
              "    </tr>\n",
              "    <tr>\n",
              "      <th>139</th>\n",
              "      <td>Switzerland</td>\n",
              "      <td>2247</td>\n",
              "      <td>2269</td>\n",
              "      <td>0</td>\n",
              "      <td>3</td>\n",
              "      <td>19</td>\n",
              "    </tr>\n",
              "    <tr>\n",
              "      <th>150</th>\n",
              "      <td>United Kingdom</td>\n",
              "      <td>1850</td>\n",
              "      <td>1970</td>\n",
              "      <td>0</td>\n",
              "      <td>60</td>\n",
              "      <td>60</td>\n",
              "    </tr>\n",
              "    <tr>\n",
              "      <th>97</th>\n",
              "      <td>Netherlands</td>\n",
              "      <td>1662</td>\n",
              "      <td>1705</td>\n",
              "      <td>0</td>\n",
              "      <td>0</td>\n",
              "      <td>43</td>\n",
              "    </tr>\n",
              "    <tr>\n",
              "      <th>102</th>\n",
              "      <td>Norway</td>\n",
              "      <td>1328</td>\n",
              "      <td>1331</td>\n",
              "      <td>0</td>\n",
              "      <td>0</td>\n",
              "      <td>3</td>\n",
              "    </tr>\n",
              "    <tr>\n",
              "      <th>15</th>\n",
              "      <td>Belgium</td>\n",
              "      <td>1232</td>\n",
              "      <td>1243</td>\n",
              "      <td>0</td>\n",
              "      <td>1</td>\n",
              "      <td>10</td>\n",
              "    </tr>\n",
              "    <tr>\n",
              "      <th>138</th>\n",
              "      <td>Sweden</td>\n",
              "      <td>1182</td>\n",
              "      <td>1191</td>\n",
              "      <td>0</td>\n",
              "      <td>1</td>\n",
              "      <td>8</td>\n",
              "    </tr>\n",
              "    <tr>\n",
              "      <th>8</th>\n",
              "      <td>Austria</td>\n",
              "      <td>1007</td>\n",
              "      <td>1016</td>\n",
              "      <td>0</td>\n",
              "      <td>6</td>\n",
              "      <td>3</td>\n",
              "    </tr>\n",
              "    <tr>\n",
              "      <th>35</th>\n",
              "      <td>Denmark</td>\n",
              "      <td>972</td>\n",
              "      <td>977</td>\n",
              "      <td>0</td>\n",
              "      <td>1</td>\n",
              "      <td>4</td>\n",
              "    </tr>\n",
              "    <tr>\n",
              "      <th>72</th>\n",
              "      <td>Japan</td>\n",
              "      <td>694</td>\n",
              "      <td>880</td>\n",
              "      <td>0</td>\n",
              "      <td>157</td>\n",
              "      <td>29</td>\n",
              "    </tr>\n",
              "    <tr>\n",
              "      <th>36</th>\n",
              "      <td>Diamond Princess Cruise Ship</td>\n",
              "      <td>247</td>\n",
              "      <td>712</td>\n",
              "      <td>0</td>\n",
              "      <td>458</td>\n",
              "      <td>7</td>\n",
              "    </tr>\n",
              "    <tr>\n",
              "      <th>86</th>\n",
              "      <td>Malaysia</td>\n",
              "      <td>622</td>\n",
              "      <td>673</td>\n",
              "      <td>0</td>\n",
              "      <td>49</td>\n",
              "      <td>2</td>\n",
              "    </tr>\n",
              "  </tbody>\n",
              "</table>\n",
              "</div>"
            ],
            "text/plain": [
              "               countryEnglishName  currentConfirmedCount  ...  curedCount  deadCount\n",
              "27                          China                   9084  ...       68820       3231\n",
              "69                          Italy                  26062  ...        2941       2503\n",
              "65                           Iran                   9792  ...        5389        988\n",
              "131                         Spain                   9659  ...        1028        491\n",
              "50                        Germany                   9075  ...         135         25\n",
              "78                          Korea                   6838  ...        1401         81\n",
              "44                         France                   6953  ...         602        175\n",
              "152      United States of America                   5538  ...          74         97\n",
              "139                   Switzerland                   2247  ...           3         19\n",
              "150                United Kingdom                   1850  ...          60         60\n",
              "97                    Netherlands                   1662  ...           0         43\n",
              "102                        Norway                   1328  ...           0          3\n",
              "15                        Belgium                   1232  ...           1         10\n",
              "138                        Sweden                   1182  ...           1          8\n",
              "8                         Austria                   1007  ...           6          3\n",
              "35                        Denmark                    972  ...           1          4\n",
              "72                          Japan                    694  ...         157         29\n",
              "36   Diamond Princess Cruise Ship                    247  ...         458          7\n",
              "86                       Malaysia                    622  ...          49          2\n",
              "\n",
              "[19 rows x 6 columns]"
            ]
          },
          "metadata": {
            "tags": []
          },
          "execution_count": 11
        }
      ]
    },
    {
      "cell_type": "code",
      "metadata": {
        "id": "9sTBrkvXAKfe",
        "colab_type": "code",
        "colab": {}
      },
      "source": [
        "df_high_confirmed_countries.to_csv('high_confirmed.csv')"
      ],
      "execution_count": 0,
      "outputs": []
    },
    {
      "cell_type": "code",
      "metadata": {
        "id": "7Ex9bAXbC44Z",
        "colab_type": "code",
        "outputId": "d11c0329-78a1-425a-8bb4-e7640ef5aeca",
        "colab": {
          "base_uri": "https://localhost:8080/",
          "height": 494
        }
      },
      "source": [
        "Chart(df_high_confirmed_countries).mark_bar().encode(\n",
        "        x='countryEnglishName',\n",
        "        y='confirmedCount')"
      ],
      "execution_count": 0,
      "outputs": [
        {
          "output_type": "execute_result",
          "data": {
            "text/plain": [
              "alt.Chart(...)"
            ],
            "text/html": [
              "\n",
              "<div id=\"altair-viz-326e4d72705a4f83a34fbe383a774989\"></div>\n",
              "<script type=\"text/javascript\">\n",
              "  (function(spec, embedOpt){\n",
              "    const outputDiv = document.getElementById(\"altair-viz-326e4d72705a4f83a34fbe383a774989\");\n",
              "    const paths = {\n",
              "      \"vega\": \"https://cdn.jsdelivr.net/npm//vega@5?noext\",\n",
              "      \"vega-lib\": \"https://cdn.jsdelivr.net/npm//vega-lib?noext\",\n",
              "      \"vega-lite\": \"https://cdn.jsdelivr.net/npm//vega-lite@4.0.2?noext\",\n",
              "      \"vega-embed\": \"https://cdn.jsdelivr.net/npm//vega-embed@6?noext\",\n",
              "    };\n",
              "\n",
              "    function loadScript(lib) {\n",
              "      return new Promise(function(resolve, reject) {\n",
              "        var s = document.createElement('script');\n",
              "        s.src = paths[lib];\n",
              "        s.async = true;\n",
              "        s.onload = () => resolve(paths[lib]);\n",
              "        s.onerror = () => reject(`Error loading script: ${paths[lib]}`);\n",
              "        document.getElementsByTagName(\"head\")[0].appendChild(s);\n",
              "      });\n",
              "    }\n",
              "\n",
              "    function showError(err) {\n",
              "      outputDiv.innerHTML = `<div class=\"error\" style=\"color:red;\">${err}</div>`;\n",
              "      throw err;\n",
              "    }\n",
              "\n",
              "    function displayChart(vegaEmbed) {\n",
              "      vegaEmbed(outputDiv, spec, embedOpt)\n",
              "        .catch(err => showError(`Javascript Error: ${err.message}<br>This usually means there's a typo in your chart specification. See the javascript console for the full traceback.`));\n",
              "    }\n",
              "\n",
              "    if(typeof define === \"function\" && define.amd) {\n",
              "      requirejs.config({paths});\n",
              "      require([\"vega-embed\"], displayChart, err => showError(`Error loading script: ${err.message}`));\n",
              "    } else if (typeof vegaEmbed === \"function\") {\n",
              "      displayChart(vegaEmbed);\n",
              "    } else {\n",
              "      loadScript(\"vega\")\n",
              "        .then(() => loadScript(\"vega-lite\"))\n",
              "        .then(() => loadScript(\"vega-embed\"))\n",
              "        .catch(showError)\n",
              "        .then(() => displayChart(vegaEmbed));\n",
              "    }\n",
              "  })({\"config\": {\"view\": {\"continuousWidth\": 400, \"continuousHeight\": 300}}, \"data\": {\"name\": \"data-1e7ae38d9bec527095c92c1054971fba\"}, \"mark\": \"bar\", \"encoding\": {\"x\": {\"type\": \"nominal\", \"field\": \"countryEnglishName\"}, \"y\": {\"type\": \"quantitative\", \"field\": \"confirmedCount\"}}, \"$schema\": \"https://vega.github.io/schema/vega-lite/v4.0.2.json\", \"datasets\": {\"data-1e7ae38d9bec527095c92c1054971fba\": [{\"countryEnglishName\": \"China\", \"currentConfirmedCount\": 9084, \"confirmedCount\": 81135, \"suspectedCount\": 0, \"curedCount\": 68820, \"deadCount\": 3231}, {\"countryEnglishName\": \"Italy\", \"currentConfirmedCount\": 26062, \"confirmedCount\": 31506, \"suspectedCount\": 0, \"curedCount\": 2941, \"deadCount\": 2503}, {\"countryEnglishName\": \"Iran\", \"currentConfirmedCount\": 9792, \"confirmedCount\": 16169, \"suspectedCount\": 0, \"curedCount\": 5389, \"deadCount\": 988}, {\"countryEnglishName\": \"Spain\", \"currentConfirmedCount\": 9659, \"confirmedCount\": 11178, \"suspectedCount\": 0, \"curedCount\": 1028, \"deadCount\": 491}, {\"countryEnglishName\": \"Germany\", \"currentConfirmedCount\": 9075, \"confirmedCount\": 9235, \"suspectedCount\": 0, \"curedCount\": 135, \"deadCount\": 25}, {\"countryEnglishName\": \"Korea\", \"currentConfirmedCount\": 6838, \"confirmedCount\": 8320, \"suspectedCount\": 0, \"curedCount\": 1401, \"deadCount\": 81}, {\"countryEnglishName\": \"France\", \"currentConfirmedCount\": 6953, \"confirmedCount\": 7730, \"suspectedCount\": 0, \"curedCount\": 602, \"deadCount\": 175}, {\"countryEnglishName\": \"United States of America\", \"currentConfirmedCount\": 5538, \"confirmedCount\": 5709, \"suspectedCount\": 0, \"curedCount\": 74, \"deadCount\": 97}, {\"countryEnglishName\": \"Switzerland\", \"currentConfirmedCount\": 2247, \"confirmedCount\": 2269, \"suspectedCount\": 0, \"curedCount\": 3, \"deadCount\": 19}, {\"countryEnglishName\": \"United Kingdom\", \"currentConfirmedCount\": 1850, \"confirmedCount\": 1970, \"suspectedCount\": 0, \"curedCount\": 60, \"deadCount\": 60}, {\"countryEnglishName\": \"Netherlands\", \"currentConfirmedCount\": 1662, \"confirmedCount\": 1705, \"suspectedCount\": 0, \"curedCount\": 0, \"deadCount\": 43}, {\"countryEnglishName\": \"Norway\", \"currentConfirmedCount\": 1328, \"confirmedCount\": 1331, \"suspectedCount\": 0, \"curedCount\": 0, \"deadCount\": 3}, {\"countryEnglishName\": \"Belgium\", \"currentConfirmedCount\": 1232, \"confirmedCount\": 1243, \"suspectedCount\": 0, \"curedCount\": 1, \"deadCount\": 10}, {\"countryEnglishName\": \"Sweden\", \"currentConfirmedCount\": 1182, \"confirmedCount\": 1191, \"suspectedCount\": 0, \"curedCount\": 1, \"deadCount\": 8}, {\"countryEnglishName\": \"Austria\", \"currentConfirmedCount\": 1007, \"confirmedCount\": 1016, \"suspectedCount\": 0, \"curedCount\": 6, \"deadCount\": 3}, {\"countryEnglishName\": \"Denmark\", \"currentConfirmedCount\": 972, \"confirmedCount\": 977, \"suspectedCount\": 0, \"curedCount\": 1, \"deadCount\": 4}, {\"countryEnglishName\": \"Japan\", \"currentConfirmedCount\": 694, \"confirmedCount\": 880, \"suspectedCount\": 0, \"curedCount\": 157, \"deadCount\": 29}, {\"countryEnglishName\": \"Diamond Princess Cruise Ship\", \"currentConfirmedCount\": 247, \"confirmedCount\": 712, \"suspectedCount\": 0, \"curedCount\": 458, \"deadCount\": 7}, {\"countryEnglishName\": \"Malaysia\", \"currentConfirmedCount\": 622, \"confirmedCount\": 673, \"suspectedCount\": 0, \"curedCount\": 49, \"deadCount\": 2}]}}, {\"mode\": \"vega-lite\"});\n",
              "</script>"
            ]
          },
          "metadata": {
            "tags": []
          },
          "execution_count": 13
        }
      ]
    },
    {
      "cell_type": "markdown",
      "metadata": {
        "id": "xIMoNOBUG8Vq",
        "colab_type": "text"
      },
      "source": [
        "Now let's look at some \"top\" confirmed deaths for overlap to see if there is a high correspondence of confirmed cases to deaths, or perhaps we can examine a ratio here... For this we will use the number of more than 5 deaths as our indicator of high casualty rate"
      ]
    },
    {
      "cell_type": "code",
      "metadata": {
        "id": "yYf9BNfqHKL4",
        "colab_type": "code",
        "outputId": "32602330-cc8e-4594-dc18-18e854d1c622",
        "colab": {
          "base_uri": "https://localhost:8080/",
          "height": 580
        }
      },
      "source": [
        "df_high_death_countries = df_by_country_filtered[df_by_country_filtered['deadCount'] > 5]\n",
        "df_high_death_countries = df_high_death_countries.sort_values(by='deadCount', ascending=False)\n",
        "df_high_death_countries"
      ],
      "execution_count": 0,
      "outputs": [
        {
          "output_type": "execute_result",
          "data": {
            "text/html": [
              "<div>\n",
              "<style scoped>\n",
              "    .dataframe tbody tr th:only-of-type {\n",
              "        vertical-align: middle;\n",
              "    }\n",
              "\n",
              "    .dataframe tbody tr th {\n",
              "        vertical-align: top;\n",
              "    }\n",
              "\n",
              "    .dataframe thead th {\n",
              "        text-align: right;\n",
              "    }\n",
              "</style>\n",
              "<table border=\"1\" class=\"dataframe\">\n",
              "  <thead>\n",
              "    <tr style=\"text-align: right;\">\n",
              "      <th></th>\n",
              "      <th>countryEnglishName</th>\n",
              "      <th>currentConfirmedCount</th>\n",
              "      <th>confirmedCount</th>\n",
              "      <th>suspectedCount</th>\n",
              "      <th>curedCount</th>\n",
              "      <th>deadCount</th>\n",
              "    </tr>\n",
              "  </thead>\n",
              "  <tbody>\n",
              "    <tr>\n",
              "      <th>27</th>\n",
              "      <td>China</td>\n",
              "      <td>9084</td>\n",
              "      <td>81135</td>\n",
              "      <td>0</td>\n",
              "      <td>68820</td>\n",
              "      <td>3231</td>\n",
              "    </tr>\n",
              "    <tr>\n",
              "      <th>69</th>\n",
              "      <td>Italy</td>\n",
              "      <td>26062</td>\n",
              "      <td>31506</td>\n",
              "      <td>0</td>\n",
              "      <td>2941</td>\n",
              "      <td>2503</td>\n",
              "    </tr>\n",
              "    <tr>\n",
              "      <th>65</th>\n",
              "      <td>Iran</td>\n",
              "      <td>9792</td>\n",
              "      <td>16169</td>\n",
              "      <td>0</td>\n",
              "      <td>5389</td>\n",
              "      <td>988</td>\n",
              "    </tr>\n",
              "    <tr>\n",
              "      <th>131</th>\n",
              "      <td>Spain</td>\n",
              "      <td>9659</td>\n",
              "      <td>11178</td>\n",
              "      <td>0</td>\n",
              "      <td>1028</td>\n",
              "      <td>491</td>\n",
              "    </tr>\n",
              "    <tr>\n",
              "      <th>44</th>\n",
              "      <td>France</td>\n",
              "      <td>6953</td>\n",
              "      <td>7730</td>\n",
              "      <td>0</td>\n",
              "      <td>602</td>\n",
              "      <td>175</td>\n",
              "    </tr>\n",
              "    <tr>\n",
              "      <th>152</th>\n",
              "      <td>United States of America</td>\n",
              "      <td>5538</td>\n",
              "      <td>5709</td>\n",
              "      <td>0</td>\n",
              "      <td>74</td>\n",
              "      <td>97</td>\n",
              "    </tr>\n",
              "    <tr>\n",
              "      <th>78</th>\n",
              "      <td>Korea</td>\n",
              "      <td>6838</td>\n",
              "      <td>8320</td>\n",
              "      <td>0</td>\n",
              "      <td>1401</td>\n",
              "      <td>81</td>\n",
              "    </tr>\n",
              "    <tr>\n",
              "      <th>150</th>\n",
              "      <td>United Kingdom</td>\n",
              "      <td>1850</td>\n",
              "      <td>1970</td>\n",
              "      <td>0</td>\n",
              "      <td>60</td>\n",
              "      <td>60</td>\n",
              "    </tr>\n",
              "    <tr>\n",
              "      <th>97</th>\n",
              "      <td>Netherlands</td>\n",
              "      <td>1662</td>\n",
              "      <td>1705</td>\n",
              "      <td>0</td>\n",
              "      <td>0</td>\n",
              "      <td>43</td>\n",
              "    </tr>\n",
              "    <tr>\n",
              "      <th>72</th>\n",
              "      <td>Japan</td>\n",
              "      <td>694</td>\n",
              "      <td>880</td>\n",
              "      <td>0</td>\n",
              "      <td>157</td>\n",
              "      <td>29</td>\n",
              "    </tr>\n",
              "    <tr>\n",
              "      <th>50</th>\n",
              "      <td>Germany</td>\n",
              "      <td>9075</td>\n",
              "      <td>9235</td>\n",
              "      <td>0</td>\n",
              "      <td>135</td>\n",
              "      <td>25</td>\n",
              "    </tr>\n",
              "    <tr>\n",
              "      <th>139</th>\n",
              "      <td>Switzerland</td>\n",
              "      <td>2247</td>\n",
              "      <td>2269</td>\n",
              "      <td>0</td>\n",
              "      <td>3</td>\n",
              "      <td>19</td>\n",
              "    </tr>\n",
              "    <tr>\n",
              "      <th>109</th>\n",
              "      <td>Philippines</td>\n",
              "      <td>172</td>\n",
              "      <td>187</td>\n",
              "      <td>0</td>\n",
              "      <td>1</td>\n",
              "      <td>14</td>\n",
              "    </tr>\n",
              "    <tr>\n",
              "      <th>66</th>\n",
              "      <td>Iraq</td>\n",
              "      <td>102</td>\n",
              "      <td>154</td>\n",
              "      <td>0</td>\n",
              "      <td>41</td>\n",
              "      <td>11</td>\n",
              "    </tr>\n",
              "    <tr>\n",
              "      <th>15</th>\n",
              "      <td>Belgium</td>\n",
              "      <td>1232</td>\n",
              "      <td>1243</td>\n",
              "      <td>0</td>\n",
              "      <td>1</td>\n",
              "      <td>10</td>\n",
              "    </tr>\n",
              "    <tr>\n",
              "      <th>138</th>\n",
              "      <td>Sweden</td>\n",
              "      <td>1182</td>\n",
              "      <td>1191</td>\n",
              "      <td>0</td>\n",
              "      <td>1</td>\n",
              "      <td>8</td>\n",
              "    </tr>\n",
              "    <tr>\n",
              "      <th>122</th>\n",
              "      <td>San Marino</td>\n",
              "      <td>89</td>\n",
              "      <td>98</td>\n",
              "      <td>0</td>\n",
              "      <td>2</td>\n",
              "      <td>7</td>\n",
              "    </tr>\n",
              "    <tr>\n",
              "      <th>36</th>\n",
              "      <td>Diamond Princess Cruise Ship</td>\n",
              "      <td>247</td>\n",
              "      <td>712</td>\n",
              "      <td>0</td>\n",
              "      <td>458</td>\n",
              "      <td>7</td>\n",
              "    </tr>\n",
              "  </tbody>\n",
              "</table>\n",
              "</div>"
            ],
            "text/plain": [
              "               countryEnglishName  currentConfirmedCount  ...  curedCount  deadCount\n",
              "27                          China                   9084  ...       68820       3231\n",
              "69                          Italy                  26062  ...        2941       2503\n",
              "65                           Iran                   9792  ...        5389        988\n",
              "131                         Spain                   9659  ...        1028        491\n",
              "44                         France                   6953  ...         602        175\n",
              "152      United States of America                   5538  ...          74         97\n",
              "78                          Korea                   6838  ...        1401         81\n",
              "150                United Kingdom                   1850  ...          60         60\n",
              "97                    Netherlands                   1662  ...           0         43\n",
              "72                          Japan                    694  ...         157         29\n",
              "50                        Germany                   9075  ...         135         25\n",
              "139                   Switzerland                   2247  ...           3         19\n",
              "109                   Philippines                    172  ...           1         14\n",
              "66                           Iraq                    102  ...          41         11\n",
              "15                        Belgium                   1232  ...           1         10\n",
              "138                        Sweden                   1182  ...           1          8\n",
              "122                    San Marino                     89  ...           2          7\n",
              "36   Diamond Princess Cruise Ship                    247  ...         458          7\n",
              "\n",
              "[18 rows x 6 columns]"
            ]
          },
          "metadata": {
            "tags": []
          },
          "execution_count": 14
        }
      ]
    },
    {
      "cell_type": "code",
      "metadata": {
        "id": "szz5ryxSIF5q",
        "colab_type": "code",
        "outputId": "36af81fa-2e2a-410a-a47c-740f701ef786",
        "colab": {
          "base_uri": "https://localhost:8080/",
          "height": 494
        }
      },
      "source": [
        "Chart(df_high_death_countries).mark_bar().encode(\n",
        "        x='countryEnglishName',\n",
        "        y='deadCount')"
      ],
      "execution_count": 0,
      "outputs": [
        {
          "output_type": "execute_result",
          "data": {
            "text/plain": [
              "alt.Chart(...)"
            ],
            "text/html": [
              "\n",
              "<div id=\"altair-viz-f281977d192748298fcac85d5693756a\"></div>\n",
              "<script type=\"text/javascript\">\n",
              "  (function(spec, embedOpt){\n",
              "    const outputDiv = document.getElementById(\"altair-viz-f281977d192748298fcac85d5693756a\");\n",
              "    const paths = {\n",
              "      \"vega\": \"https://cdn.jsdelivr.net/npm//vega@5?noext\",\n",
              "      \"vega-lib\": \"https://cdn.jsdelivr.net/npm//vega-lib?noext\",\n",
              "      \"vega-lite\": \"https://cdn.jsdelivr.net/npm//vega-lite@4.0.2?noext\",\n",
              "      \"vega-embed\": \"https://cdn.jsdelivr.net/npm//vega-embed@6?noext\",\n",
              "    };\n",
              "\n",
              "    function loadScript(lib) {\n",
              "      return new Promise(function(resolve, reject) {\n",
              "        var s = document.createElement('script');\n",
              "        s.src = paths[lib];\n",
              "        s.async = true;\n",
              "        s.onload = () => resolve(paths[lib]);\n",
              "        s.onerror = () => reject(`Error loading script: ${paths[lib]}`);\n",
              "        document.getElementsByTagName(\"head\")[0].appendChild(s);\n",
              "      });\n",
              "    }\n",
              "\n",
              "    function showError(err) {\n",
              "      outputDiv.innerHTML = `<div class=\"error\" style=\"color:red;\">${err}</div>`;\n",
              "      throw err;\n",
              "    }\n",
              "\n",
              "    function displayChart(vegaEmbed) {\n",
              "      vegaEmbed(outputDiv, spec, embedOpt)\n",
              "        .catch(err => showError(`Javascript Error: ${err.message}<br>This usually means there's a typo in your chart specification. See the javascript console for the full traceback.`));\n",
              "    }\n",
              "\n",
              "    if(typeof define === \"function\" && define.amd) {\n",
              "      requirejs.config({paths});\n",
              "      require([\"vega-embed\"], displayChart, err => showError(`Error loading script: ${err.message}`));\n",
              "    } else if (typeof vegaEmbed === \"function\") {\n",
              "      displayChart(vegaEmbed);\n",
              "    } else {\n",
              "      loadScript(\"vega\")\n",
              "        .then(() => loadScript(\"vega-lite\"))\n",
              "        .then(() => loadScript(\"vega-embed\"))\n",
              "        .catch(showError)\n",
              "        .then(() => displayChart(vegaEmbed));\n",
              "    }\n",
              "  })({\"config\": {\"view\": {\"continuousWidth\": 400, \"continuousHeight\": 300}}, \"data\": {\"name\": \"data-cbec8e8f98cb0ae1a9d9f7a0eb094c70\"}, \"mark\": \"bar\", \"encoding\": {\"x\": {\"type\": \"nominal\", \"field\": \"countryEnglishName\"}, \"y\": {\"type\": \"quantitative\", \"field\": \"deadCount\"}}, \"$schema\": \"https://vega.github.io/schema/vega-lite/v4.0.2.json\", \"datasets\": {\"data-cbec8e8f98cb0ae1a9d9f7a0eb094c70\": [{\"countryEnglishName\": \"China\", \"currentConfirmedCount\": 9084, \"confirmedCount\": 81135, \"suspectedCount\": 0, \"curedCount\": 68820, \"deadCount\": 3231}, {\"countryEnglishName\": \"Italy\", \"currentConfirmedCount\": 26062, \"confirmedCount\": 31506, \"suspectedCount\": 0, \"curedCount\": 2941, \"deadCount\": 2503}, {\"countryEnglishName\": \"Iran\", \"currentConfirmedCount\": 9792, \"confirmedCount\": 16169, \"suspectedCount\": 0, \"curedCount\": 5389, \"deadCount\": 988}, {\"countryEnglishName\": \"Spain\", \"currentConfirmedCount\": 9659, \"confirmedCount\": 11178, \"suspectedCount\": 0, \"curedCount\": 1028, \"deadCount\": 491}, {\"countryEnglishName\": \"France\", \"currentConfirmedCount\": 6953, \"confirmedCount\": 7730, \"suspectedCount\": 0, \"curedCount\": 602, \"deadCount\": 175}, {\"countryEnglishName\": \"United States of America\", \"currentConfirmedCount\": 5538, \"confirmedCount\": 5709, \"suspectedCount\": 0, \"curedCount\": 74, \"deadCount\": 97}, {\"countryEnglishName\": \"Korea\", \"currentConfirmedCount\": 6838, \"confirmedCount\": 8320, \"suspectedCount\": 0, \"curedCount\": 1401, \"deadCount\": 81}, {\"countryEnglishName\": \"United Kingdom\", \"currentConfirmedCount\": 1850, \"confirmedCount\": 1970, \"suspectedCount\": 0, \"curedCount\": 60, \"deadCount\": 60}, {\"countryEnglishName\": \"Netherlands\", \"currentConfirmedCount\": 1662, \"confirmedCount\": 1705, \"suspectedCount\": 0, \"curedCount\": 0, \"deadCount\": 43}, {\"countryEnglishName\": \"Japan\", \"currentConfirmedCount\": 694, \"confirmedCount\": 880, \"suspectedCount\": 0, \"curedCount\": 157, \"deadCount\": 29}, {\"countryEnglishName\": \"Germany\", \"currentConfirmedCount\": 9075, \"confirmedCount\": 9235, \"suspectedCount\": 0, \"curedCount\": 135, \"deadCount\": 25}, {\"countryEnglishName\": \"Switzerland\", \"currentConfirmedCount\": 2247, \"confirmedCount\": 2269, \"suspectedCount\": 0, \"curedCount\": 3, \"deadCount\": 19}, {\"countryEnglishName\": \"Philippines\", \"currentConfirmedCount\": 172, \"confirmedCount\": 187, \"suspectedCount\": 0, \"curedCount\": 1, \"deadCount\": 14}, {\"countryEnglishName\": \"Iraq\", \"currentConfirmedCount\": 102, \"confirmedCount\": 154, \"suspectedCount\": 0, \"curedCount\": 41, \"deadCount\": 11}, {\"countryEnglishName\": \"Belgium\", \"currentConfirmedCount\": 1232, \"confirmedCount\": 1243, \"suspectedCount\": 0, \"curedCount\": 1, \"deadCount\": 10}, {\"countryEnglishName\": \"Sweden\", \"currentConfirmedCount\": 1182, \"confirmedCount\": 1191, \"suspectedCount\": 0, \"curedCount\": 1, \"deadCount\": 8}, {\"countryEnglishName\": \"San Marino\", \"currentConfirmedCount\": 89, \"confirmedCount\": 98, \"suspectedCount\": 0, \"curedCount\": 2, \"deadCount\": 7}, {\"countryEnglishName\": \"Diamond Princess Cruise Ship\", \"currentConfirmedCount\": 247, \"confirmedCount\": 712, \"suspectedCount\": 0, \"curedCount\": 458, \"deadCount\": 7}]}}, {\"mode\": \"vega-lite\"});\n",
              "</script>"
            ]
          },
          "metadata": {
            "tags": []
          },
          "execution_count": 15
        }
      ]
    },
    {
      "cell_type": "markdown",
      "metadata": {
        "id": "Io9rMscsISmi",
        "colab_type": "text"
      },
      "source": [
        "Unsurprisingly, there is indeed quite a high correspondence of confirmed cases to deaths... yet the sorted lists for both are out of order--this could potentially be an indicator that some countries are doing better than others to mitigate the effects of spread of the virus (we can see that this may be true especially in the case of a country like Germany)... To get a better understanding of this measure: let's take some ratios of confirmed to dead and see which countries appear highest"
      ]
    },
    {
      "cell_type": "code",
      "metadata": {
        "id": "jL9HKmFfI16X",
        "colab_type": "code",
        "outputId": "bacf63f8-70d9-4d91-e4c0-5f98d5198031",
        "colab": {
          "base_uri": "https://localhost:8080/",
          "height": 195
        }
      },
      "source": [
        "df_by_country_filtered_deaths = df_by_country_filtered[df_by_country_filtered['deadCount'] > 1].copy()\n",
        "df_by_country_filtered_deaths['confirmedToDeadRatio'] = df_by_country_filtered_deaths['confirmedCount']\\\n",
        "                                                        / df_by_country_filtered_deaths['deadCount']\n",
        "df_by_country_filtered_deaths.sort_values(by='confirmedToDeadRatio').head(5)"
      ],
      "execution_count": 0,
      "outputs": [
        {
          "output_type": "execute_result",
          "data": {
            "text/html": [
              "<div>\n",
              "<style scoped>\n",
              "    .dataframe tbody tr th:only-of-type {\n",
              "        vertical-align: middle;\n",
              "    }\n",
              "\n",
              "    .dataframe tbody tr th {\n",
              "        vertical-align: top;\n",
              "    }\n",
              "\n",
              "    .dataframe thead th {\n",
              "        text-align: right;\n",
              "    }\n",
              "</style>\n",
              "<table border=\"1\" class=\"dataframe\">\n",
              "  <thead>\n",
              "    <tr style=\"text-align: right;\">\n",
              "      <th></th>\n",
              "      <th>countryEnglishName</th>\n",
              "      <th>currentConfirmedCount</th>\n",
              "      <th>confirmedCount</th>\n",
              "      <th>suspectedCount</th>\n",
              "      <th>curedCount</th>\n",
              "      <th>deadCount</th>\n",
              "      <th>confirmedToDeadRatio</th>\n",
              "    </tr>\n",
              "  </thead>\n",
              "  <tbody>\n",
              "    <tr>\n",
              "      <th>148</th>\n",
              "      <td>Ukraine</td>\n",
              "      <td>12</td>\n",
              "      <td>14</td>\n",
              "      <td>0</td>\n",
              "      <td>0</td>\n",
              "      <td>2</td>\n",
              "      <td>7.000000</td>\n",
              "    </tr>\n",
              "    <tr>\n",
              "      <th>2</th>\n",
              "      <td>Algeria</td>\n",
              "      <td>45</td>\n",
              "      <td>60</td>\n",
              "      <td>0</td>\n",
              "      <td>10</td>\n",
              "      <td>5</td>\n",
              "      <td>12.000000</td>\n",
              "    </tr>\n",
              "    <tr>\n",
              "      <th>69</th>\n",
              "      <td>Italy</td>\n",
              "      <td>26062</td>\n",
              "      <td>31506</td>\n",
              "      <td>0</td>\n",
              "      <td>2941</td>\n",
              "      <td>2503</td>\n",
              "      <td>12.587295</td>\n",
              "    </tr>\n",
              "    <tr>\n",
              "      <th>109</th>\n",
              "      <td>Philippines</td>\n",
              "      <td>172</td>\n",
              "      <td>187</td>\n",
              "      <td>0</td>\n",
              "      <td>1</td>\n",
              "      <td>14</td>\n",
              "      <td>13.357143</td>\n",
              "    </tr>\n",
              "    <tr>\n",
              "      <th>122</th>\n",
              "      <td>San Marino</td>\n",
              "      <td>89</td>\n",
              "      <td>98</td>\n",
              "      <td>0</td>\n",
              "      <td>2</td>\n",
              "      <td>7</td>\n",
              "      <td>14.000000</td>\n",
              "    </tr>\n",
              "  </tbody>\n",
              "</table>\n",
              "</div>"
            ],
            "text/plain": [
              "    countryEnglishName  currentConfirmedCount  ...  deadCount  confirmedToDeadRatio\n",
              "148            Ukraine                     12  ...          2              7.000000\n",
              "2              Algeria                     45  ...          5             12.000000\n",
              "69               Italy                  26062  ...       2503             12.587295\n",
              "109        Philippines                    172  ...         14             13.357143\n",
              "122         San Marino                     89  ...          7             14.000000\n",
              "\n",
              "[5 rows x 7 columns]"
            ]
          },
          "metadata": {
            "tags": []
          },
          "execution_count": 16
        }
      ]
    },
    {
      "cell_type": "markdown",
      "metadata": {
        "id": "jlyLHAaLMpA8",
        "colab_type": "text"
      },
      "source": [
        "Although this ratio arguably doesn't provide too much utility-- we can see one thing with respect to the United States and other \"high risk\" nations like China and Italy... We see that, by the high ratio, that the US has somewhat lower count of dead individuals compared to confirmed cases. By the same token, we see that Italy is suffering quite a bit... as seen by the low ratio-- even lower than China with a much higher confirmed count."
      ]
    },
    {
      "cell_type": "code",
      "metadata": {
        "id": "NBLVHMN6Kkud",
        "colab_type": "code",
        "outputId": "861e4cbb-ee82-4304-d3b9-0f33799f272a",
        "colab": {
          "base_uri": "https://localhost:8080/",
          "height": 669
        }
      },
      "source": [
        "df_by_country_filtered_deaths = df_by_country_filtered_deaths[df_by_country_filtered_deaths['confirmedToDeadRatio'] < 60]\n",
        "df_by_country_filtered_deaths = df_by_country_filtered_deaths.sort_values(by='confirmedToDeadRatio', ascending=False)\n",
        "df_by_country_filtered_deaths"
      ],
      "execution_count": 0,
      "outputs": [
        {
          "output_type": "execute_result",
          "data": {
            "text/html": [
              "<div>\n",
              "<style scoped>\n",
              "    .dataframe tbody tr th:only-of-type {\n",
              "        vertical-align: middle;\n",
              "    }\n",
              "\n",
              "    .dataframe tbody tr th {\n",
              "        vertical-align: top;\n",
              "    }\n",
              "\n",
              "    .dataframe thead th {\n",
              "        text-align: right;\n",
              "    }\n",
              "</style>\n",
              "<table border=\"1\" class=\"dataframe\">\n",
              "  <thead>\n",
              "    <tr style=\"text-align: right;\">\n",
              "      <th></th>\n",
              "      <th>countryEnglishName</th>\n",
              "      <th>currentConfirmedCount</th>\n",
              "      <th>confirmedCount</th>\n",
              "      <th>suspectedCount</th>\n",
              "      <th>curedCount</th>\n",
              "      <th>deadCount</th>\n",
              "      <th>confirmedToDeadRatio</th>\n",
              "    </tr>\n",
              "  </thead>\n",
              "  <tbody>\n",
              "    <tr>\n",
              "      <th>152</th>\n",
              "      <td>United States of America</td>\n",
              "      <td>5538</td>\n",
              "      <td>5709</td>\n",
              "      <td>0</td>\n",
              "      <td>74</td>\n",
              "      <td>97</td>\n",
              "      <td>58.855670</td>\n",
              "    </tr>\n",
              "    <tr>\n",
              "      <th>63</th>\n",
              "      <td>India</td>\n",
              "      <td>131</td>\n",
              "      <td>137</td>\n",
              "      <td>0</td>\n",
              "      <td>3</td>\n",
              "      <td>3</td>\n",
              "      <td>45.666667</td>\n",
              "    </tr>\n",
              "    <tr>\n",
              "      <th>44</th>\n",
              "      <td>France</td>\n",
              "      <td>6953</td>\n",
              "      <td>7730</td>\n",
              "      <td>0</td>\n",
              "      <td>602</td>\n",
              "      <td>175</td>\n",
              "      <td>44.171429</td>\n",
              "    </tr>\n",
              "    <tr>\n",
              "      <th>64</th>\n",
              "      <td>Indonesia</td>\n",
              "      <td>166</td>\n",
              "      <td>172</td>\n",
              "      <td>0</td>\n",
              "      <td>2</td>\n",
              "      <td>4</td>\n",
              "      <td>43.000000</td>\n",
              "    </tr>\n",
              "    <tr>\n",
              "      <th>20</th>\n",
              "      <td>Bulgaria</td>\n",
              "      <td>79</td>\n",
              "      <td>81</td>\n",
              "      <td>0</td>\n",
              "      <td>0</td>\n",
              "      <td>2</td>\n",
              "      <td>40.500000</td>\n",
              "    </tr>\n",
              "    <tr>\n",
              "      <th>81</th>\n",
              "      <td>Lebanon</td>\n",
              "      <td>116</td>\n",
              "      <td>120</td>\n",
              "      <td>0</td>\n",
              "      <td>1</td>\n",
              "      <td>3</td>\n",
              "      <td>40.000000</td>\n",
              "    </tr>\n",
              "    <tr>\n",
              "      <th>97</th>\n",
              "      <td>Netherlands</td>\n",
              "      <td>1662</td>\n",
              "      <td>1705</td>\n",
              "      <td>0</td>\n",
              "      <td>0</td>\n",
              "      <td>43</td>\n",
              "      <td>39.651163</td>\n",
              "    </tr>\n",
              "    <tr>\n",
              "      <th>150</th>\n",
              "      <td>United Kingdom</td>\n",
              "      <td>1850</td>\n",
              "      <td>1970</td>\n",
              "      <td>0</td>\n",
              "      <td>60</td>\n",
              "      <td>60</td>\n",
              "      <td>32.833333</td>\n",
              "    </tr>\n",
              "    <tr>\n",
              "      <th>5</th>\n",
              "      <td>Argentina</td>\n",
              "      <td>62</td>\n",
              "      <td>65</td>\n",
              "      <td>0</td>\n",
              "      <td>1</td>\n",
              "      <td>2</td>\n",
              "      <td>32.500000</td>\n",
              "    </tr>\n",
              "    <tr>\n",
              "      <th>72</th>\n",
              "      <td>Japan</td>\n",
              "      <td>694</td>\n",
              "      <td>880</td>\n",
              "      <td>0</td>\n",
              "      <td>157</td>\n",
              "      <td>29</td>\n",
              "      <td>30.344828</td>\n",
              "    </tr>\n",
              "    <tr>\n",
              "      <th>38</th>\n",
              "      <td>Ecuador</td>\n",
              "      <td>56</td>\n",
              "      <td>58</td>\n",
              "      <td>0</td>\n",
              "      <td>0</td>\n",
              "      <td>2</td>\n",
              "      <td>29.000000</td>\n",
              "    </tr>\n",
              "    <tr>\n",
              "      <th>27</th>\n",
              "      <td>China</td>\n",
              "      <td>9084</td>\n",
              "      <td>81135</td>\n",
              "      <td>0</td>\n",
              "      <td>68820</td>\n",
              "      <td>3231</td>\n",
              "      <td>25.111421</td>\n",
              "    </tr>\n",
              "    <tr>\n",
              "      <th>131</th>\n",
              "      <td>Spain</td>\n",
              "      <td>9659</td>\n",
              "      <td>11178</td>\n",
              "      <td>0</td>\n",
              "      <td>1028</td>\n",
              "      <td>491</td>\n",
              "      <td>22.765784</td>\n",
              "    </tr>\n",
              "    <tr>\n",
              "      <th>94</th>\n",
              "      <td>Morocco</td>\n",
              "      <td>35</td>\n",
              "      <td>38</td>\n",
              "      <td>0</td>\n",
              "      <td>1</td>\n",
              "      <td>2</td>\n",
              "      <td>19.000000</td>\n",
              "    </tr>\n",
              "    <tr>\n",
              "      <th>65</th>\n",
              "      <td>Iran</td>\n",
              "      <td>9792</td>\n",
              "      <td>16169</td>\n",
              "      <td>0</td>\n",
              "      <td>5389</td>\n",
              "      <td>988</td>\n",
              "      <td>16.365385</td>\n",
              "    </tr>\n",
              "    <tr>\n",
              "      <th>122</th>\n",
              "      <td>San Marino</td>\n",
              "      <td>89</td>\n",
              "      <td>98</td>\n",
              "      <td>0</td>\n",
              "      <td>2</td>\n",
              "      <td>7</td>\n",
              "      <td>14.000000</td>\n",
              "    </tr>\n",
              "    <tr>\n",
              "      <th>66</th>\n",
              "      <td>Iraq</td>\n",
              "      <td>102</td>\n",
              "      <td>154</td>\n",
              "      <td>0</td>\n",
              "      <td>41</td>\n",
              "      <td>11</td>\n",
              "      <td>14.000000</td>\n",
              "    </tr>\n",
              "    <tr>\n",
              "      <th>109</th>\n",
              "      <td>Philippines</td>\n",
              "      <td>172</td>\n",
              "      <td>187</td>\n",
              "      <td>0</td>\n",
              "      <td>1</td>\n",
              "      <td>14</td>\n",
              "      <td>13.357143</td>\n",
              "    </tr>\n",
              "    <tr>\n",
              "      <th>69</th>\n",
              "      <td>Italy</td>\n",
              "      <td>26062</td>\n",
              "      <td>31506</td>\n",
              "      <td>0</td>\n",
              "      <td>2941</td>\n",
              "      <td>2503</td>\n",
              "      <td>12.587295</td>\n",
              "    </tr>\n",
              "    <tr>\n",
              "      <th>2</th>\n",
              "      <td>Algeria</td>\n",
              "      <td>45</td>\n",
              "      <td>60</td>\n",
              "      <td>0</td>\n",
              "      <td>10</td>\n",
              "      <td>5</td>\n",
              "      <td>12.000000</td>\n",
              "    </tr>\n",
              "    <tr>\n",
              "      <th>148</th>\n",
              "      <td>Ukraine</td>\n",
              "      <td>12</td>\n",
              "      <td>14</td>\n",
              "      <td>0</td>\n",
              "      <td>0</td>\n",
              "      <td>2</td>\n",
              "      <td>7.000000</td>\n",
              "    </tr>\n",
              "  </tbody>\n",
              "</table>\n",
              "</div>"
            ],
            "text/plain": [
              "           countryEnglishName  ...  confirmedToDeadRatio\n",
              "152  United States of America  ...             58.855670\n",
              "63                      India  ...             45.666667\n",
              "44                     France  ...             44.171429\n",
              "64                  Indonesia  ...             43.000000\n",
              "20                   Bulgaria  ...             40.500000\n",
              "81                    Lebanon  ...             40.000000\n",
              "97                Netherlands  ...             39.651163\n",
              "150            United Kingdom  ...             32.833333\n",
              "5                   Argentina  ...             32.500000\n",
              "72                      Japan  ...             30.344828\n",
              "38                    Ecuador  ...             29.000000\n",
              "27                      China  ...             25.111421\n",
              "131                     Spain  ...             22.765784\n",
              "94                    Morocco  ...             19.000000\n",
              "65                       Iran  ...             16.365385\n",
              "122                San Marino  ...             14.000000\n",
              "66                       Iraq  ...             14.000000\n",
              "109               Philippines  ...             13.357143\n",
              "69                      Italy  ...             12.587295\n",
              "2                     Algeria  ...             12.000000\n",
              "148                   Ukraine  ...              7.000000\n",
              "\n",
              "[21 rows x 7 columns]"
            ]
          },
          "metadata": {
            "tags": []
          },
          "execution_count": 17
        }
      ]
    },
    {
      "cell_type": "code",
      "metadata": {
        "id": "F2FDjspiQhZG",
        "colab_type": "code",
        "outputId": "65af5cff-62f7-4a0b-a893-691392cf22f5",
        "colab": {
          "base_uri": "https://localhost:8080/",
          "height": 469
        }
      },
      "source": [
        "Chart(df_by_country_filtered_deaths).mark_bar().encode(\n",
        "        x='countryEnglishName',\n",
        "        y='confirmedToDeadRatio')"
      ],
      "execution_count": 0,
      "outputs": [
        {
          "output_type": "execute_result",
          "data": {
            "text/plain": [
              "alt.Chart(...)"
            ],
            "text/html": [
              "\n",
              "<div id=\"altair-viz-e065532160524f83bb41dabfea3c745c\"></div>\n",
              "<script type=\"text/javascript\">\n",
              "  (function(spec, embedOpt){\n",
              "    const outputDiv = document.getElementById(\"altair-viz-e065532160524f83bb41dabfea3c745c\");\n",
              "    const paths = {\n",
              "      \"vega\": \"https://cdn.jsdelivr.net/npm//vega@5?noext\",\n",
              "      \"vega-lib\": \"https://cdn.jsdelivr.net/npm//vega-lib?noext\",\n",
              "      \"vega-lite\": \"https://cdn.jsdelivr.net/npm//vega-lite@4.0.2?noext\",\n",
              "      \"vega-embed\": \"https://cdn.jsdelivr.net/npm//vega-embed@6?noext\",\n",
              "    };\n",
              "\n",
              "    function loadScript(lib) {\n",
              "      return new Promise(function(resolve, reject) {\n",
              "        var s = document.createElement('script');\n",
              "        s.src = paths[lib];\n",
              "        s.async = true;\n",
              "        s.onload = () => resolve(paths[lib]);\n",
              "        s.onerror = () => reject(`Error loading script: ${paths[lib]}`);\n",
              "        document.getElementsByTagName(\"head\")[0].appendChild(s);\n",
              "      });\n",
              "    }\n",
              "\n",
              "    function showError(err) {\n",
              "      outputDiv.innerHTML = `<div class=\"error\" style=\"color:red;\">${err}</div>`;\n",
              "      throw err;\n",
              "    }\n",
              "\n",
              "    function displayChart(vegaEmbed) {\n",
              "      vegaEmbed(outputDiv, spec, embedOpt)\n",
              "        .catch(err => showError(`Javascript Error: ${err.message}<br>This usually means there's a typo in your chart specification. See the javascript console for the full traceback.`));\n",
              "    }\n",
              "\n",
              "    if(typeof define === \"function\" && define.amd) {\n",
              "      requirejs.config({paths});\n",
              "      require([\"vega-embed\"], displayChart, err => showError(`Error loading script: ${err.message}`));\n",
              "    } else if (typeof vegaEmbed === \"function\") {\n",
              "      displayChart(vegaEmbed);\n",
              "    } else {\n",
              "      loadScript(\"vega\")\n",
              "        .then(() => loadScript(\"vega-lite\"))\n",
              "        .then(() => loadScript(\"vega-embed\"))\n",
              "        .catch(showError)\n",
              "        .then(() => displayChart(vegaEmbed));\n",
              "    }\n",
              "  })({\"config\": {\"view\": {\"continuousWidth\": 400, \"continuousHeight\": 300}}, \"data\": {\"name\": \"data-11afa0d9d29c9aff766c120d0f8073ea\"}, \"mark\": \"bar\", \"encoding\": {\"x\": {\"type\": \"nominal\", \"field\": \"countryEnglishName\"}, \"y\": {\"type\": \"quantitative\", \"field\": \"confirmedToDeadRatio\"}}, \"$schema\": \"https://vega.github.io/schema/vega-lite/v4.0.2.json\", \"datasets\": {\"data-11afa0d9d29c9aff766c120d0f8073ea\": [{\"countryEnglishName\": \"United States of America\", \"currentConfirmedCount\": 5538, \"confirmedCount\": 5709, \"suspectedCount\": 0, \"curedCount\": 74, \"deadCount\": 97, \"confirmedToDeadRatio\": 58.855670103092784}, {\"countryEnglishName\": \"India\", \"currentConfirmedCount\": 131, \"confirmedCount\": 137, \"suspectedCount\": 0, \"curedCount\": 3, \"deadCount\": 3, \"confirmedToDeadRatio\": 45.666666666666664}, {\"countryEnglishName\": \"France\", \"currentConfirmedCount\": 6953, \"confirmedCount\": 7730, \"suspectedCount\": 0, \"curedCount\": 602, \"deadCount\": 175, \"confirmedToDeadRatio\": 44.17142857142857}, {\"countryEnglishName\": \"Indonesia\", \"currentConfirmedCount\": 166, \"confirmedCount\": 172, \"suspectedCount\": 0, \"curedCount\": 2, \"deadCount\": 4, \"confirmedToDeadRatio\": 43.0}, {\"countryEnglishName\": \"Bulgaria\", \"currentConfirmedCount\": 79, \"confirmedCount\": 81, \"suspectedCount\": 0, \"curedCount\": 0, \"deadCount\": 2, \"confirmedToDeadRatio\": 40.5}, {\"countryEnglishName\": \"Lebanon\", \"currentConfirmedCount\": 116, \"confirmedCount\": 120, \"suspectedCount\": 0, \"curedCount\": 1, \"deadCount\": 3, \"confirmedToDeadRatio\": 40.0}, {\"countryEnglishName\": \"Netherlands\", \"currentConfirmedCount\": 1662, \"confirmedCount\": 1705, \"suspectedCount\": 0, \"curedCount\": 0, \"deadCount\": 43, \"confirmedToDeadRatio\": 39.651162790697676}, {\"countryEnglishName\": \"United Kingdom\", \"currentConfirmedCount\": 1850, \"confirmedCount\": 1970, \"suspectedCount\": 0, \"curedCount\": 60, \"deadCount\": 60, \"confirmedToDeadRatio\": 32.833333333333336}, {\"countryEnglishName\": \"Argentina\", \"currentConfirmedCount\": 62, \"confirmedCount\": 65, \"suspectedCount\": 0, \"curedCount\": 1, \"deadCount\": 2, \"confirmedToDeadRatio\": 32.5}, {\"countryEnglishName\": \"Japan\", \"currentConfirmedCount\": 694, \"confirmedCount\": 880, \"suspectedCount\": 0, \"curedCount\": 157, \"deadCount\": 29, \"confirmedToDeadRatio\": 30.344827586206897}, {\"countryEnglishName\": \"Ecuador\", \"currentConfirmedCount\": 56, \"confirmedCount\": 58, \"suspectedCount\": 0, \"curedCount\": 0, \"deadCount\": 2, \"confirmedToDeadRatio\": 29.0}, {\"countryEnglishName\": \"China\", \"currentConfirmedCount\": 9084, \"confirmedCount\": 81135, \"suspectedCount\": 0, \"curedCount\": 68820, \"deadCount\": 3231, \"confirmedToDeadRatio\": 25.11142061281337}, {\"countryEnglishName\": \"Spain\", \"currentConfirmedCount\": 9659, \"confirmedCount\": 11178, \"suspectedCount\": 0, \"curedCount\": 1028, \"deadCount\": 491, \"confirmedToDeadRatio\": 22.765784114052952}, {\"countryEnglishName\": \"Morocco\", \"currentConfirmedCount\": 35, \"confirmedCount\": 38, \"suspectedCount\": 0, \"curedCount\": 1, \"deadCount\": 2, \"confirmedToDeadRatio\": 19.0}, {\"countryEnglishName\": \"Iran\", \"currentConfirmedCount\": 9792, \"confirmedCount\": 16169, \"suspectedCount\": 0, \"curedCount\": 5389, \"deadCount\": 988, \"confirmedToDeadRatio\": 16.365384615384617}, {\"countryEnglishName\": \"San Marino\", \"currentConfirmedCount\": 89, \"confirmedCount\": 98, \"suspectedCount\": 0, \"curedCount\": 2, \"deadCount\": 7, \"confirmedToDeadRatio\": 14.0}, {\"countryEnglishName\": \"Iraq\", \"currentConfirmedCount\": 102, \"confirmedCount\": 154, \"suspectedCount\": 0, \"curedCount\": 41, \"deadCount\": 11, \"confirmedToDeadRatio\": 14.0}, {\"countryEnglishName\": \"Philippines\", \"currentConfirmedCount\": 172, \"confirmedCount\": 187, \"suspectedCount\": 0, \"curedCount\": 1, \"deadCount\": 14, \"confirmedToDeadRatio\": 13.357142857142858}, {\"countryEnglishName\": \"Italy\", \"currentConfirmedCount\": 26062, \"confirmedCount\": 31506, \"suspectedCount\": 0, \"curedCount\": 2941, \"deadCount\": 2503, \"confirmedToDeadRatio\": 12.587295245705153}, {\"countryEnglishName\": \"Algeria\", \"currentConfirmedCount\": 45, \"confirmedCount\": 60, \"suspectedCount\": 0, \"curedCount\": 10, \"deadCount\": 5, \"confirmedToDeadRatio\": 12.0}, {\"countryEnglishName\": \"Ukraine\", \"currentConfirmedCount\": 12, \"confirmedCount\": 14, \"suspectedCount\": 0, \"curedCount\": 0, \"deadCount\": 2, \"confirmedToDeadRatio\": 7.0}]}}, {\"mode\": \"vega-lite\"});\n",
              "</script>"
            ]
          },
          "metadata": {
            "tags": []
          },
          "execution_count": 18
        }
      ]
    },
    {
      "cell_type": "markdown",
      "metadata": {
        "id": "-FW1T_N2sRXh",
        "colab_type": "text"
      },
      "source": [
        "Here's an interactive altair plot with all the relavant variables referenced"
      ]
    },
    {
      "cell_type": "code",
      "metadata": {
        "id": "NkLNdjnfn920",
        "colab_type": "code",
        "outputId": "3b047125-9f34-4f8a-a254-479412bfc6e5",
        "colab": {
          "base_uri": "https://localhost:8080/",
          "height": 511
        }
      },
      "source": [
        "chart_by_conf = Chart(df_high_confirmed_countries).mark_bar().encode(\n",
        "                  x='countryEnglishName',\n",
        "                  y= 'confirmedCount',\n",
        "                  color = 'countryEnglishName',\n",
        "                  tooltip=['countryEnglishName', 'confirmedCount', 'curedCount', 'deadCount'])\n",
        "\n",
        "chart_by_conf.title = \"COVID-19 Case Overview (Global)\"\n",
        "chart_by_conf.interactive()\n"
      ],
      "execution_count": 0,
      "outputs": [
        {
          "output_type": "execute_result",
          "data": {
            "text/plain": [
              "alt.Chart(...)"
            ],
            "text/html": [
              "\n",
              "<div id=\"altair-viz-97a15f56df4d4d82b27662aa01a04353\"></div>\n",
              "<script type=\"text/javascript\">\n",
              "  (function(spec, embedOpt){\n",
              "    const outputDiv = document.getElementById(\"altair-viz-97a15f56df4d4d82b27662aa01a04353\");\n",
              "    const paths = {\n",
              "      \"vega\": \"https://cdn.jsdelivr.net/npm//vega@5?noext\",\n",
              "      \"vega-lib\": \"https://cdn.jsdelivr.net/npm//vega-lib?noext\",\n",
              "      \"vega-lite\": \"https://cdn.jsdelivr.net/npm//vega-lite@4.0.2?noext\",\n",
              "      \"vega-embed\": \"https://cdn.jsdelivr.net/npm//vega-embed@6?noext\",\n",
              "    };\n",
              "\n",
              "    function loadScript(lib) {\n",
              "      return new Promise(function(resolve, reject) {\n",
              "        var s = document.createElement('script');\n",
              "        s.src = paths[lib];\n",
              "        s.async = true;\n",
              "        s.onload = () => resolve(paths[lib]);\n",
              "        s.onerror = () => reject(`Error loading script: ${paths[lib]}`);\n",
              "        document.getElementsByTagName(\"head\")[0].appendChild(s);\n",
              "      });\n",
              "    }\n",
              "\n",
              "    function showError(err) {\n",
              "      outputDiv.innerHTML = `<div class=\"error\" style=\"color:red;\">${err}</div>`;\n",
              "      throw err;\n",
              "    }\n",
              "\n",
              "    function displayChart(vegaEmbed) {\n",
              "      vegaEmbed(outputDiv, spec, embedOpt)\n",
              "        .catch(err => showError(`Javascript Error: ${err.message}<br>This usually means there's a typo in your chart specification. See the javascript console for the full traceback.`));\n",
              "    }\n",
              "\n",
              "    if(typeof define === \"function\" && define.amd) {\n",
              "      requirejs.config({paths});\n",
              "      require([\"vega-embed\"], displayChart, err => showError(`Error loading script: ${err.message}`));\n",
              "    } else if (typeof vegaEmbed === \"function\") {\n",
              "      displayChart(vegaEmbed);\n",
              "    } else {\n",
              "      loadScript(\"vega\")\n",
              "        .then(() => loadScript(\"vega-lite\"))\n",
              "        .then(() => loadScript(\"vega-embed\"))\n",
              "        .catch(showError)\n",
              "        .then(() => displayChart(vegaEmbed));\n",
              "    }\n",
              "  })({\"config\": {\"view\": {\"continuousWidth\": 400, \"continuousHeight\": 300}}, \"data\": {\"name\": \"data-1e7ae38d9bec527095c92c1054971fba\"}, \"mark\": \"bar\", \"encoding\": {\"color\": {\"type\": \"nominal\", \"field\": \"countryEnglishName\"}, \"tooltip\": [{\"type\": \"nominal\", \"field\": \"countryEnglishName\"}, {\"type\": \"quantitative\", \"field\": \"confirmedCount\"}, {\"type\": \"quantitative\", \"field\": \"curedCount\"}, {\"type\": \"quantitative\", \"field\": \"deadCount\"}], \"x\": {\"type\": \"nominal\", \"field\": \"countryEnglishName\"}, \"y\": {\"type\": \"quantitative\", \"field\": \"confirmedCount\"}}, \"selection\": {\"selector001\": {\"type\": \"interval\", \"bind\": \"scales\", \"encodings\": [\"x\", \"y\"]}}, \"title\": \"COVID-19 Case Overview (Global)\", \"$schema\": \"https://vega.github.io/schema/vega-lite/v4.0.2.json\", \"datasets\": {\"data-1e7ae38d9bec527095c92c1054971fba\": [{\"countryEnglishName\": \"China\", \"currentConfirmedCount\": 9084, \"confirmedCount\": 81135, \"suspectedCount\": 0, \"curedCount\": 68820, \"deadCount\": 3231}, {\"countryEnglishName\": \"Italy\", \"currentConfirmedCount\": 26062, \"confirmedCount\": 31506, \"suspectedCount\": 0, \"curedCount\": 2941, \"deadCount\": 2503}, {\"countryEnglishName\": \"Iran\", \"currentConfirmedCount\": 9792, \"confirmedCount\": 16169, \"suspectedCount\": 0, \"curedCount\": 5389, \"deadCount\": 988}, {\"countryEnglishName\": \"Spain\", \"currentConfirmedCount\": 9659, \"confirmedCount\": 11178, \"suspectedCount\": 0, \"curedCount\": 1028, \"deadCount\": 491}, {\"countryEnglishName\": \"Germany\", \"currentConfirmedCount\": 9075, \"confirmedCount\": 9235, \"suspectedCount\": 0, \"curedCount\": 135, \"deadCount\": 25}, {\"countryEnglishName\": \"Korea\", \"currentConfirmedCount\": 6838, \"confirmedCount\": 8320, \"suspectedCount\": 0, \"curedCount\": 1401, \"deadCount\": 81}, {\"countryEnglishName\": \"France\", \"currentConfirmedCount\": 6953, \"confirmedCount\": 7730, \"suspectedCount\": 0, \"curedCount\": 602, \"deadCount\": 175}, {\"countryEnglishName\": \"United States of America\", \"currentConfirmedCount\": 5538, \"confirmedCount\": 5709, \"suspectedCount\": 0, \"curedCount\": 74, \"deadCount\": 97}, {\"countryEnglishName\": \"Switzerland\", \"currentConfirmedCount\": 2247, \"confirmedCount\": 2269, \"suspectedCount\": 0, \"curedCount\": 3, \"deadCount\": 19}, {\"countryEnglishName\": \"United Kingdom\", \"currentConfirmedCount\": 1850, \"confirmedCount\": 1970, \"suspectedCount\": 0, \"curedCount\": 60, \"deadCount\": 60}, {\"countryEnglishName\": \"Netherlands\", \"currentConfirmedCount\": 1662, \"confirmedCount\": 1705, \"suspectedCount\": 0, \"curedCount\": 0, \"deadCount\": 43}, {\"countryEnglishName\": \"Norway\", \"currentConfirmedCount\": 1328, \"confirmedCount\": 1331, \"suspectedCount\": 0, \"curedCount\": 0, \"deadCount\": 3}, {\"countryEnglishName\": \"Belgium\", \"currentConfirmedCount\": 1232, \"confirmedCount\": 1243, \"suspectedCount\": 0, \"curedCount\": 1, \"deadCount\": 10}, {\"countryEnglishName\": \"Sweden\", \"currentConfirmedCount\": 1182, \"confirmedCount\": 1191, \"suspectedCount\": 0, \"curedCount\": 1, \"deadCount\": 8}, {\"countryEnglishName\": \"Austria\", \"currentConfirmedCount\": 1007, \"confirmedCount\": 1016, \"suspectedCount\": 0, \"curedCount\": 6, \"deadCount\": 3}, {\"countryEnglishName\": \"Denmark\", \"currentConfirmedCount\": 972, \"confirmedCount\": 977, \"suspectedCount\": 0, \"curedCount\": 1, \"deadCount\": 4}, {\"countryEnglishName\": \"Japan\", \"currentConfirmedCount\": 694, \"confirmedCount\": 880, \"suspectedCount\": 0, \"curedCount\": 157, \"deadCount\": 29}, {\"countryEnglishName\": \"Diamond Princess Cruise Ship\", \"currentConfirmedCount\": 247, \"confirmedCount\": 712, \"suspectedCount\": 0, \"curedCount\": 458, \"deadCount\": 7}, {\"countryEnglishName\": \"Malaysia\", \"currentConfirmedCount\": 622, \"confirmedCount\": 673, \"suspectedCount\": 0, \"curedCount\": 49, \"deadCount\": 2}]}}, {\"mode\": \"vega-lite\"});\n",
              "</script>"
            ]
          },
          "metadata": {
            "tags": []
          },
          "execution_count": 19
        }
      ]
    },
    {
      "cell_type": "markdown",
      "metadata": {
        "id": "_rcPEXaHWtbS",
        "colab_type": "text"
      },
      "source": [
        "Moving on: we will also be looking at spread of the disease overtime for certain countries and compare the trends we see... First let's get all our data into a form for easy time series analysis..."
      ]
    },
    {
      "cell_type": "code",
      "metadata": {
        "id": "Y5BoiZIiXYME",
        "colab_type": "code",
        "outputId": "a3095d74-3892-435a-e8c5-65df6fcbf7a5",
        "colab": {
          "base_uri": "https://localhost:8080/",
          "height": 451
        }
      },
      "source": [
        "df_coronavirus_filtered.index = pd.to_datetime(df_coronavirus_filtered['updateTime_cleaned'])\n",
        "df_coronavirus_filtered"
      ],
      "execution_count": 0,
      "outputs": [
        {
          "output_type": "execute_result",
          "data": {
            "text/html": [
              "<div>\n",
              "<style scoped>\n",
              "    .dataframe tbody tr th:only-of-type {\n",
              "        vertical-align: middle;\n",
              "    }\n",
              "\n",
              "    .dataframe tbody tr th {\n",
              "        vertical-align: top;\n",
              "    }\n",
              "\n",
              "    .dataframe thead th {\n",
              "        text-align: right;\n",
              "    }\n",
              "</style>\n",
              "<table border=\"1\" class=\"dataframe\">\n",
              "  <thead>\n",
              "    <tr style=\"text-align: right;\">\n",
              "      <th></th>\n",
              "      <th>provinceName</th>\n",
              "      <th>currentConfirmedCount</th>\n",
              "      <th>confirmedCount</th>\n",
              "      <th>suspectedCount</th>\n",
              "      <th>curedCount</th>\n",
              "      <th>deadCount</th>\n",
              "      <th>comment</th>\n",
              "      <th>operator</th>\n",
              "      <th>locationId</th>\n",
              "      <th>countryShortCode</th>\n",
              "      <th>countryFullName</th>\n",
              "      <th>continentName</th>\n",
              "      <th>countryName</th>\n",
              "      <th>provinceShortName</th>\n",
              "      <th>continentEnglishName</th>\n",
              "      <th>countryEnglishName</th>\n",
              "      <th>provinceEnglishName</th>\n",
              "      <th>updateTime</th>\n",
              "      <th>statisticsData</th>\n",
              "      <th>cities</th>\n",
              "      <th>createTime</th>\n",
              "      <th>modifyTime</th>\n",
              "      <th>cityName</th>\n",
              "      <th>updateTime_cleaned</th>\n",
              "    </tr>\n",
              "    <tr>\n",
              "      <th>updateTime_cleaned</th>\n",
              "      <th></th>\n",
              "      <th></th>\n",
              "      <th></th>\n",
              "      <th></th>\n",
              "      <th></th>\n",
              "      <th></th>\n",
              "      <th></th>\n",
              "      <th></th>\n",
              "      <th></th>\n",
              "      <th></th>\n",
              "      <th></th>\n",
              "      <th></th>\n",
              "      <th></th>\n",
              "      <th></th>\n",
              "      <th></th>\n",
              "      <th></th>\n",
              "      <th></th>\n",
              "      <th></th>\n",
              "      <th></th>\n",
              "      <th></th>\n",
              "      <th></th>\n",
              "      <th></th>\n",
              "      <th></th>\n",
              "      <th></th>\n",
              "    </tr>\n",
              "  </thead>\n",
              "  <tbody>\n",
              "    <tr>\n",
              "      <th>2020-03-17</th>\n",
              "      <td>关岛</td>\n",
              "      <td>3.0</td>\n",
              "      <td>3</td>\n",
              "      <td>0.0</td>\n",
              "      <td>0</td>\n",
              "      <td>0</td>\n",
              "      <td>NaN</td>\n",
              "      <td>chend</td>\n",
              "      <td>0</td>\n",
              "      <td>GU</td>\n",
              "      <td>Guam</td>\n",
              "      <td>北美洲</td>\n",
              "      <td>关岛</td>\n",
              "      <td>关岛</td>\n",
              "      <td>North America</td>\n",
              "      <td>Guam</td>\n",
              "      <td>Guam</td>\n",
              "      <td>1584487275191</td>\n",
              "      <td>NaN</td>\n",
              "      <td>[]</td>\n",
              "      <td>NaN</td>\n",
              "      <td>NaN</td>\n",
              "      <td>NaN</td>\n",
              "      <td>03/17/20</td>\n",
              "    </tr>\n",
              "    <tr>\n",
              "      <th>2020-03-17</th>\n",
              "      <td>以色列</td>\n",
              "      <td>332.0</td>\n",
              "      <td>337</td>\n",
              "      <td>0.0</td>\n",
              "      <td>5</td>\n",
              "      <td>0</td>\n",
              "      <td>NaN</td>\n",
              "      <td>chend</td>\n",
              "      <td>955009</td>\n",
              "      <td>ISR</td>\n",
              "      <td>Israel</td>\n",
              "      <td>亚洲</td>\n",
              "      <td>以色列</td>\n",
              "      <td>以色列</td>\n",
              "      <td>Asia</td>\n",
              "      <td>Israel</td>\n",
              "      <td>Israel</td>\n",
              "      <td>1584484401599</td>\n",
              "      <td>https://file1.dxycdn.com/2020/0315/982/3402160...</td>\n",
              "      <td>[]</td>\n",
              "      <td>NaN</td>\n",
              "      <td>NaN</td>\n",
              "      <td>NaN</td>\n",
              "      <td>03/17/20</td>\n",
              "    </tr>\n",
              "    <tr>\n",
              "      <th>2020-03-17</th>\n",
              "      <td>斯洛伐克</td>\n",
              "      <td>97.0</td>\n",
              "      <td>97</td>\n",
              "      <td>0.0</td>\n",
              "      <td>0</td>\n",
              "      <td>0</td>\n",
              "      <td>NaN</td>\n",
              "      <td>chend</td>\n",
              "      <td>963007</td>\n",
              "      <td>SVK</td>\n",
              "      <td>Slovakia</td>\n",
              "      <td>欧洲</td>\n",
              "      <td>斯洛伐克</td>\n",
              "      <td>斯洛伐克</td>\n",
              "      <td>Europe</td>\n",
              "      <td>Slovakia</td>\n",
              "      <td>Slovakia</td>\n",
              "      <td>1584483818068</td>\n",
              "      <td>https://file1.dxycdn.com/2020/0315/353/3402160...</td>\n",
              "      <td>[]</td>\n",
              "      <td>NaN</td>\n",
              "      <td>NaN</td>\n",
              "      <td>NaN</td>\n",
              "      <td>03/17/20</td>\n",
              "    </tr>\n",
              "    <tr>\n",
              "      <th>2020-03-17</th>\n",
              "      <td>冈比亚</td>\n",
              "      <td>1.0</td>\n",
              "      <td>1</td>\n",
              "      <td>0.0</td>\n",
              "      <td>0</td>\n",
              "      <td>0</td>\n",
              "      <td>NaN</td>\n",
              "      <td>chend</td>\n",
              "      <td>982005</td>\n",
              "      <td>GMB</td>\n",
              "      <td>Gambia</td>\n",
              "      <td>非洲</td>\n",
              "      <td>冈比亚</td>\n",
              "      <td>冈比亚</td>\n",
              "      <td>Africa</td>\n",
              "      <td>Gambia</td>\n",
              "      <td>Gambia</td>\n",
              "      <td>1584483753903</td>\n",
              "      <td>NaN</td>\n",
              "      <td>[]</td>\n",
              "      <td>NaN</td>\n",
              "      <td>NaN</td>\n",
              "      <td>NaN</td>\n",
              "      <td>03/17/20</td>\n",
              "    </tr>\n",
              "    <tr>\n",
              "      <th>2020-03-17</th>\n",
              "      <td>阿曼</td>\n",
              "      <td>21.0</td>\n",
              "      <td>33</td>\n",
              "      <td>0.0</td>\n",
              "      <td>12</td>\n",
              "      <td>0</td>\n",
              "      <td>NaN</td>\n",
              "      <td>chend</td>\n",
              "      <td>955013</td>\n",
              "      <td>OMN</td>\n",
              "      <td>Oman</td>\n",
              "      <td>亚洲</td>\n",
              "      <td>阿曼</td>\n",
              "      <td>阿曼</td>\n",
              "      <td>Asia</td>\n",
              "      <td>Oman</td>\n",
              "      <td>Oman</td>\n",
              "      <td>1584483497693</td>\n",
              "      <td>https://file1.dxycdn.com/2020/0315/945/3402160...</td>\n",
              "      <td>[]</td>\n",
              "      <td>NaN</td>\n",
              "      <td>NaN</td>\n",
              "      <td>NaN</td>\n",
              "      <td>03/17/20</td>\n",
              "    </tr>\n",
              "    <tr>\n",
              "      <th>...</th>\n",
              "      <td>...</td>\n",
              "      <td>...</td>\n",
              "      <td>...</td>\n",
              "      <td>...</td>\n",
              "      <td>...</td>\n",
              "      <td>...</td>\n",
              "      <td>...</td>\n",
              "      <td>...</td>\n",
              "      <td>...</td>\n",
              "      <td>...</td>\n",
              "      <td>...</td>\n",
              "      <td>...</td>\n",
              "      <td>...</td>\n",
              "      <td>...</td>\n",
              "      <td>...</td>\n",
              "      <td>...</td>\n",
              "      <td>...</td>\n",
              "      <td>...</td>\n",
              "      <td>...</td>\n",
              "      <td>...</td>\n",
              "      <td>...</td>\n",
              "      <td>...</td>\n",
              "      <td>...</td>\n",
              "      <td>...</td>\n",
              "    </tr>\n",
              "    <tr>\n",
              "      <th>2020-01-21</th>\n",
              "      <td>辽宁省</td>\n",
              "      <td>NaN</td>\n",
              "      <td>0</td>\n",
              "      <td>1.0</td>\n",
              "      <td>0</td>\n",
              "      <td>0</td>\n",
              "      <td>NaN</td>\n",
              "      <td>zyyun</td>\n",
              "      <td>210000</td>\n",
              "      <td>NaN</td>\n",
              "      <td>NaN</td>\n",
              "      <td>亚洲</td>\n",
              "      <td>中国</td>\n",
              "      <td>辽宁</td>\n",
              "      <td>Asia</td>\n",
              "      <td>China</td>\n",
              "      <td>Liaoning</td>\n",
              "      <td>1579634890131</td>\n",
              "      <td>NaN</td>\n",
              "      <td>[]</td>\n",
              "      <td>1.579626e+12</td>\n",
              "      <td>1.579626e+12</td>\n",
              "      <td>NaN</td>\n",
              "      <td>01/21/20</td>\n",
              "    </tr>\n",
              "    <tr>\n",
              "      <th>2020-01-21</th>\n",
              "      <td>台湾</td>\n",
              "      <td>NaN</td>\n",
              "      <td>1</td>\n",
              "      <td>0.0</td>\n",
              "      <td>0</td>\n",
              "      <td>0</td>\n",
              "      <td>NaN</td>\n",
              "      <td>huanshi</td>\n",
              "      <td>710000</td>\n",
              "      <td>NaN</td>\n",
              "      <td>NaN</td>\n",
              "      <td>亚洲</td>\n",
              "      <td>中国</td>\n",
              "      <td>台湾</td>\n",
              "      <td>Asia</td>\n",
              "      <td>China</td>\n",
              "      <td>Taiwan</td>\n",
              "      <td>1579634890131</td>\n",
              "      <td>NaN</td>\n",
              "      <td>[]</td>\n",
              "      <td>1.579617e+12</td>\n",
              "      <td>1.579617e+12</td>\n",
              "      <td>NaN</td>\n",
              "      <td>01/21/20</td>\n",
              "    </tr>\n",
              "    <tr>\n",
              "      <th>2020-01-21</th>\n",
              "      <td>香港</td>\n",
              "      <td>NaN</td>\n",
              "      <td>0</td>\n",
              "      <td>117.0</td>\n",
              "      <td>0</td>\n",
              "      <td>0</td>\n",
              "      <td>NaN</td>\n",
              "      <td>huanshi</td>\n",
              "      <td>810000</td>\n",
              "      <td>NaN</td>\n",
              "      <td>NaN</td>\n",
              "      <td>亚洲</td>\n",
              "      <td>中国</td>\n",
              "      <td>香港</td>\n",
              "      <td>Asia</td>\n",
              "      <td>Hongkong</td>\n",
              "      <td>Hongkong</td>\n",
              "      <td>1579634890131</td>\n",
              "      <td>NaN</td>\n",
              "      <td>[]</td>\n",
              "      <td>1.579617e+12</td>\n",
              "      <td>1.579617e+12</td>\n",
              "      <td>NaN</td>\n",
              "      <td>01/21/20</td>\n",
              "    </tr>\n",
              "    <tr>\n",
              "      <th>2020-01-21</th>\n",
              "      <td>黑龙江省</td>\n",
              "      <td>NaN</td>\n",
              "      <td>0</td>\n",
              "      <td>1.0</td>\n",
              "      <td>0</td>\n",
              "      <td>0</td>\n",
              "      <td>NaN</td>\n",
              "      <td>huanshi</td>\n",
              "      <td>230000</td>\n",
              "      <td>NaN</td>\n",
              "      <td>NaN</td>\n",
              "      <td>亚洲</td>\n",
              "      <td>中国</td>\n",
              "      <td>黑龙江</td>\n",
              "      <td>Asia</td>\n",
              "      <td>China</td>\n",
              "      <td>Heilongjiang</td>\n",
              "      <td>1579634890131</td>\n",
              "      <td>NaN</td>\n",
              "      <td>[]</td>\n",
              "      <td>1.579621e+12</td>\n",
              "      <td>1.579621e+12</td>\n",
              "      <td>NaN</td>\n",
              "      <td>01/21/20</td>\n",
              "    </tr>\n",
              "    <tr>\n",
              "      <th>2020-01-21</th>\n",
              "      <td>湖南省</td>\n",
              "      <td>NaN</td>\n",
              "      <td>1</td>\n",
              "      <td>0.0</td>\n",
              "      <td>0</td>\n",
              "      <td>0</td>\n",
              "      <td>NaN</td>\n",
              "      <td>huanshi</td>\n",
              "      <td>430000</td>\n",
              "      <td>NaN</td>\n",
              "      <td>NaN</td>\n",
              "      <td>亚洲</td>\n",
              "      <td>中国</td>\n",
              "      <td>湖南</td>\n",
              "      <td>Asia</td>\n",
              "      <td>China</td>\n",
              "      <td>Hunan</td>\n",
              "      <td>1579634890131</td>\n",
              "      <td>NaN</td>\n",
              "      <td>[]</td>\n",
              "      <td>1.579623e+12</td>\n",
              "      <td>1.579623e+12</td>\n",
              "      <td>NaN</td>\n",
              "      <td>01/21/20</td>\n",
              "    </tr>\n",
              "  </tbody>\n",
              "</table>\n",
              "<p>15879 rows × 24 columns</p>\n",
              "</div>"
            ],
            "text/plain": [
              "                   provinceName  ...  updateTime_cleaned\n",
              "updateTime_cleaned               ...                    \n",
              "2020-03-17                   关岛  ...            03/17/20\n",
              "2020-03-17                  以色列  ...            03/17/20\n",
              "2020-03-17                 斯洛伐克  ...            03/17/20\n",
              "2020-03-17                  冈比亚  ...            03/17/20\n",
              "2020-03-17                   阿曼  ...            03/17/20\n",
              "...                         ...  ...                 ...\n",
              "2020-01-21                  辽宁省  ...            01/21/20\n",
              "2020-01-21                   台湾  ...            01/21/20\n",
              "2020-01-21                   香港  ...            01/21/20\n",
              "2020-01-21                 黑龙江省  ...            01/21/20\n",
              "2020-01-21                  湖南省  ...            01/21/20\n",
              "\n",
              "[15879 rows x 24 columns]"
            ]
          },
          "metadata": {
            "tags": []
          },
          "execution_count": 20
        }
      ]
    },
    {
      "cell_type": "markdown",
      "metadata": {
        "id": "k0gpe5MfYYpo",
        "colab_type": "text"
      },
      "source": [
        "Plotting for all countries, we see the general trend is upward--as it should be..."
      ]
    },
    {
      "cell_type": "code",
      "metadata": {
        "id": "RWQF60AZX-J0",
        "colab_type": "code",
        "outputId": "43c3c1b9-1916-48b8-e510-0566c05adf7f",
        "colab": {
          "base_uri": "https://localhost:8080/",
          "height": 303
        }
      },
      "source": [
        "df_coronavirus_filtered[\"confirmedCount\"].plot.line()"
      ],
      "execution_count": 0,
      "outputs": [
        {
          "output_type": "execute_result",
          "data": {
            "text/plain": [
              "<matplotlib.axes._subplots.AxesSubplot at 0x7f6910412c88>"
            ]
          },
          "metadata": {
            "tags": []
          },
          "execution_count": 21
        },
        {
          "output_type": "display_data",
          "data": {
            "image/png": "[encoded data removed]",
            "text/plain": [
              "<Figure size 432x288 with 1 Axes>"
            ]
          },
          "metadata": {
            "tags": []
          }
        }
      ]
    },
    {
      "cell_type": "markdown",
      "metadata": {
        "id": "Sb0QlosjaPKN",
        "colab_type": "text"
      },
      "source": [
        "Let's look at the US, Italy, and Hubei specifically (US compared to two very high risk areas)"
      ]
    },
    {
      "cell_type": "code",
      "metadata": {
        "id": "P-RUjbHFYgId",
        "colab_type": "code",
        "colab": {}
      },
      "source": [
        "df_time_series_us = df_coronavirus_filtered[\n",
        "    df_coronavirus_filtered[\"countryEnglishName\"] == \"United States of America\"]\n",
        "df_time_series_it = df_coronavirus_filtered[\n",
        "    df_coronavirus_filtered[\"countryEnglishName\"] == \"Italy\"]   \n",
        "df_time_series_hub = df_coronavirus_filtered[\n",
        "    df_coronavirus_filtered[\"provinceEnglishName\"] == \"Hubei\"]"
      ],
      "execution_count": 0,
      "outputs": []
    },
    {
      "cell_type": "markdown",
      "metadata": {
        "id": "MdbgPv9Sc0m4",
        "colab_type": "text"
      },
      "source": [
        "In the US, confirmed cases and deaths are climbing quite quickly..."
      ]
    },
    {
      "cell_type": "code",
      "metadata": {
        "id": "p1w1nADCZGHI",
        "colab_type": "code",
        "outputId": "28803f99-893d-4b97-9b49-25cda9baf838",
        "colab": {
          "base_uri": "https://localhost:8080/",
          "height": 303
        }
      },
      "source": [
        "df_time_series_us[\"confirmedCount\"].plot.line()"
      ],
      "execution_count": 0,
      "outputs": [
        {
          "output_type": "execute_result",
          "data": {
            "text/plain": [
              "<matplotlib.axes._subplots.AxesSubplot at 0x7f690edd7b38>"
            ]
          },
          "metadata": {
            "tags": []
          },
          "execution_count": 23
        },
        {
          "output_type": "display_data",
          "data": {
            "image/png": "[encoded data removed]",
            "text/plain": [
              "<Figure size 432x288 with 1 Axes>"
            ]
          },
          "metadata": {
            "tags": []
          }
        }
      ]
    },
    {
      "cell_type": "code",
      "metadata": {
        "id": "5ktSsohMcdbD",
        "colab_type": "code",
        "outputId": "0779f86a-101b-46b9-fa62-b6ebb3c6795b",
        "colab": {
          "base_uri": "https://localhost:8080/",
          "height": 303
        }
      },
      "source": [
        "df_time_series_us[\"curedCount\"].plot.line()"
      ],
      "execution_count": 0,
      "outputs": [
        {
          "output_type": "execute_result",
          "data": {
            "text/plain": [
              "<matplotlib.axes._subplots.AxesSubplot at 0x7f690ed4c7f0>"
            ]
          },
          "metadata": {
            "tags": []
          },
          "execution_count": 24
        },
        {
          "output_type": "display_data",
          "data": {
            "image/png": "[encoded data removed]",
            "text/plain": [
              "<Figure size 432x288 with 1 Axes>"
            ]
          },
          "metadata": {
            "tags": []
          }
        }
      ]
    },
    {
      "cell_type": "code",
      "metadata": {
        "id": "NP32gpmQcKrQ",
        "colab_type": "code",
        "outputId": "9ea5aac7-94a3-4419-9b70-b3a47f250853",
        "colab": {
          "base_uri": "https://localhost:8080/",
          "height": 304
        }
      },
      "source": [
        "df_time_series_us[\"deadCount\"].plot.line()"
      ],
      "execution_count": 0,
      "outputs": [
        {
          "output_type": "execute_result",
          "data": {
            "text/plain": [
              "<matplotlib.axes._subplots.AxesSubplot at 0x7f690edbff60>"
            ]
          },
          "metadata": {
            "tags": []
          },
          "execution_count": 25
        },
        {
          "output_type": "display_data",
          "data": {
            "image/png": "[encoded data removed]",
            "text/plain": [
              "<Figure size 432x288 with 1 Axes>"
            ]
          },
          "metadata": {
            "tags": []
          }
        }
      ]
    },
    {
      "cell_type": "markdown",
      "metadata": {
        "id": "OEE9BkEBc9Qq",
        "colab_type": "text"
      },
      "source": [
        "We see the same thing in Italy, but even more significant and with more confirmed and dead cases"
      ]
    },
    {
      "cell_type": "code",
      "metadata": {
        "id": "sThbLGiQZ0LV",
        "colab_type": "code",
        "outputId": "dd077c4a-2bb6-412f-f086-27acb5c7a29a",
        "colab": {
          "base_uri": "https://localhost:8080/",
          "height": 303
        }
      },
      "source": [
        "df_time_series_it[\"confirmedCount\"].plot.line()"
      ],
      "execution_count": 0,
      "outputs": [
        {
          "output_type": "execute_result",
          "data": {
            "text/plain": [
              "<matplotlib.axes._subplots.AxesSubplot at 0x7f690ed050b8>"
            ]
          },
          "metadata": {
            "tags": []
          },
          "execution_count": 26
        },
        {
          "output_type": "display_data",
          "data": {
            "image/png": "[encoded data removed]",
            "text/plain": [
              "<Figure size 432x288 with 1 Axes>"
            ]
          },
          "metadata": {
            "tags": []
          }
        }
      ]
    },
    {
      "cell_type": "code",
      "metadata": {
        "id": "9b6hm_Yccigc",
        "colab_type": "code",
        "outputId": "efcdd9a2-061a-4dfd-ce93-97ed828ae68c",
        "colab": {
          "base_uri": "https://localhost:8080/",
          "height": 303
        }
      },
      "source": [
        "df_time_series_it[\"curedCount\"].plot.line()"
      ],
      "execution_count": 0,
      "outputs": [
        {
          "output_type": "execute_result",
          "data": {
            "text/plain": [
              "<matplotlib.axes._subplots.AxesSubplot at 0x7f690ecbcbe0>"
            ]
          },
          "metadata": {
            "tags": []
          },
          "execution_count": 27
        },
        {
          "output_type": "display_data",
          "data": {
            "image/png": "[encoded data removed]",
            "text/plain": [
              "<Figure size 432x288 with 1 Axes>"
            ]
          },
          "metadata": {
            "tags": []
          }
        }
      ]
    },
    {
      "cell_type": "code",
      "metadata": {
        "id": "GRyrVH9UcPZO",
        "colab_type": "code",
        "outputId": "fc2885fb-a7ff-455d-baa5-a23483356faf",
        "colab": {
          "base_uri": "https://localhost:8080/",
          "height": 303
        }
      },
      "source": [
        "df_time_series_it[\"deadCount\"].plot.line()"
      ],
      "execution_count": 0,
      "outputs": [
        {
          "output_type": "execute_result",
          "data": {
            "text/plain": [
              "<matplotlib.axes._subplots.AxesSubplot at 0x7f690ec3a0f0>"
            ]
          },
          "metadata": {
            "tags": []
          },
          "execution_count": 28
        },
        {
          "output_type": "display_data",
          "data": {
            "image/png": "[encoded data removed]",
            "text/plain": [
              "<Figure size 432x288 with 1 Axes>"
            ]
          },
          "metadata": {
            "tags": []
          }
        }
      ]
    },
    {
      "cell_type": "markdown",
      "metadata": {
        "id": "qnJ1JcftdI7-",
        "colab_type": "text"
      },
      "source": [
        "Interestingly, in China, the confirmed cases and deaths are starting to plateau... unlike the other two"
      ]
    },
    {
      "cell_type": "code",
      "metadata": {
        "id": "LxJoMt54ZJbO",
        "colab_type": "code",
        "outputId": "e51c86bb-2079-4b3f-d935-2cfacb944d4b",
        "colab": {
          "base_uri": "https://localhost:8080/",
          "height": 304
        }
      },
      "source": [
        "df_time_series_hub[\"confirmedCount\"].plot.line()"
      ],
      "execution_count": 0,
      "outputs": [
        {
          "output_type": "execute_result",
          "data": {
            "text/plain": [
              "<matplotlib.axes._subplots.AxesSubplot at 0x7f690ebb5860>"
            ]
          },
          "metadata": {
            "tags": []
          },
          "execution_count": 29
        },
        {
          "output_type": "display_data",
          "data": {
            "image/png": "[encoded data removed]",
            "text/plain": [
              "<Figure size 432x288 with 1 Axes>"
            ]
          },
          "metadata": {
            "tags": []
          }
        }
      ]
    },
    {
      "cell_type": "code",
      "metadata": {
        "id": "fIb5CCytcref",
        "colab_type": "code",
        "outputId": "dbd00801-c1bc-41bb-e1f1-675e2c035946",
        "colab": {
          "base_uri": "https://localhost:8080/",
          "height": 303
        }
      },
      "source": [
        "df_time_series_hub[\"curedCount\"].plot.line()"
      ],
      "execution_count": 0,
      "outputs": [
        {
          "output_type": "execute_result",
          "data": {
            "text/plain": [
              "<matplotlib.axes._subplots.AxesSubplot at 0x7f690eb86978>"
            ]
          },
          "metadata": {
            "tags": []
          },
          "execution_count": 30
        },
        {
          "output_type": "display_data",
          "data": {
            "image/png": "[encoded data removed]",
            "text/plain": [
              "<Figure size 432x288 with 1 Axes>"
            ]
          },
          "metadata": {
            "tags": []
          }
        }
      ]
    },
    {
      "cell_type": "code",
      "metadata": {
        "id": "TXGML5dKcUjj",
        "colab_type": "code",
        "outputId": "2f938e08-e718-48d2-fffd-512a6806bb0d",
        "colab": {
          "base_uri": "https://localhost:8080/",
          "height": 303
        }
      },
      "source": [
        "df_time_series_hub[\"deadCount\"].plot.line()"
      ],
      "execution_count": 0,
      "outputs": [
        {
          "output_type": "execute_result",
          "data": {
            "text/plain": [
              "<matplotlib.axes._subplots.AxesSubplot at 0x7f690ea93e80>"
            ]
          },
          "metadata": {
            "tags": []
          },
          "execution_count": 31
        },
        {
          "output_type": "display_data",
          "data": {
            "image/png": "[encoded data removed]",
            "text/plain": [
              "<Figure size 432x288 with 1 Axes>"
            ]
          },
          "metadata": {
            "tags": []
          }
        }
      ]
    },
    {
      "cell_type": "markdown",
      "metadata": {
        "id": "U530txdKehWE",
        "colab_type": "text"
      },
      "source": [
        "With a focus on China, let's look at how the virus is propogating in cities within provinces"
      ]
    },
    {
      "cell_type": "code",
      "metadata": {
        "id": "5VTbZDKMetJh",
        "colab_type": "code",
        "outputId": "c441b8c7-dca7-4162-d718-428db420e475",
        "colab": {
          "base_uri": "https://localhost:8080/",
          "height": 489
        }
      },
      "source": [
        "df_cities.sort_values(by='confirmedCount', ascending=False)"
      ],
      "execution_count": 0,
      "outputs": [
        {
          "output_type": "execute_result",
          "data": {
            "text/html": [
              "<div>\n",
              "<style scoped>\n",
              "    .dataframe tbody tr th:only-of-type {\n",
              "        vertical-align: middle;\n",
              "    }\n",
              "\n",
              "    .dataframe tbody tr th {\n",
              "        vertical-align: top;\n",
              "    }\n",
              "\n",
              "    .dataframe thead th {\n",
              "        text-align: right;\n",
              "    }\n",
              "</style>\n",
              "<table border=\"1\" class=\"dataframe\">\n",
              "  <thead>\n",
              "    <tr style=\"text-align: right;\">\n",
              "      <th></th>\n",
              "      <th>cityName</th>\n",
              "      <th>currentConfirmedCount</th>\n",
              "      <th>confirmedCount</th>\n",
              "      <th>suspectedCount</th>\n",
              "      <th>curedCount</th>\n",
              "      <th>deadCount</th>\n",
              "      <th>locationId</th>\n",
              "      <th>cityEnglishName</th>\n",
              "      <th>provinceName</th>\n",
              "      <th>countryName</th>\n",
              "      <th>lat</th>\n",
              "      <th>long</th>\n",
              "    </tr>\n",
              "  </thead>\n",
              "  <tbody>\n",
              "    <tr>\n",
              "      <th>13</th>\n",
              "      <td>武汉</td>\n",
              "      <td>8304</td>\n",
              "      <td>50004</td>\n",
              "      <td>0</td>\n",
              "      <td>39220</td>\n",
              "      <td>2480</td>\n",
              "      <td>420100</td>\n",
              "      <td>Wuhan</td>\n",
              "      <td>Hubei</td>\n",
              "      <td>China</td>\n",
              "      <td>30.595105</td>\n",
              "      <td>114.299935</td>\n",
              "    </tr>\n",
              "    <tr>\n",
              "      <th>14</th>\n",
              "      <td>孝感</td>\n",
              "      <td>113</td>\n",
              "      <td>3518</td>\n",
              "      <td>0</td>\n",
              "      <td>3278</td>\n",
              "      <td>127</td>\n",
              "      <td>420900</td>\n",
              "      <td>Xiaogan</td>\n",
              "      <td>Hubei</td>\n",
              "      <td>China</td>\n",
              "      <td>30.920344</td>\n",
              "      <td>113.949652</td>\n",
              "    </tr>\n",
              "    <tr>\n",
              "      <th>22</th>\n",
              "      <td>黄冈</td>\n",
              "      <td>17</td>\n",
              "      <td>2907</td>\n",
              "      <td>0</td>\n",
              "      <td>2765</td>\n",
              "      <td>125</td>\n",
              "      <td>421100</td>\n",
              "      <td>Huanggang</td>\n",
              "      <td>Hubei</td>\n",
              "      <td>China</td>\n",
              "      <td>30.449424</td>\n",
              "      <td>114.865338</td>\n",
              "    </tr>\n",
              "    <tr>\n",
              "      <th>17</th>\n",
              "      <td>荆州</td>\n",
              "      <td>32</td>\n",
              "      <td>1580</td>\n",
              "      <td>0</td>\n",
              "      <td>1498</td>\n",
              "      <td>50</td>\n",
              "      <td>421000</td>\n",
              "      <td>Jingzhou</td>\n",
              "      <td>Hubei</td>\n",
              "      <td>China</td>\n",
              "      <td>30.354383</td>\n",
              "      <td>112.188096</td>\n",
              "    </tr>\n",
              "    <tr>\n",
              "      <th>15</th>\n",
              "      <td>鄂州</td>\n",
              "      <td>52</td>\n",
              "      <td>1394</td>\n",
              "      <td>0</td>\n",
              "      <td>1285</td>\n",
              "      <td>57</td>\n",
              "      <td>420700</td>\n",
              "      <td>Ezhou</td>\n",
              "      <td>Hubei</td>\n",
              "      <td>China</td>\n",
              "      <td>30.407908</td>\n",
              "      <td>114.878430</td>\n",
              "    </tr>\n",
              "    <tr>\n",
              "      <th>...</th>\n",
              "      <td>...</td>\n",
              "      <td>...</td>\n",
              "      <td>...</td>\n",
              "      <td>...</td>\n",
              "      <td>...</td>\n",
              "      <td>...</td>\n",
              "      <td>...</td>\n",
              "      <td>...</td>\n",
              "      <td>...</td>\n",
              "      <td>...</td>\n",
              "      <td>...</td>\n",
              "      <td>...</td>\n",
              "    </tr>\n",
              "    <tr>\n",
              "      <th>421</th>\n",
              "      <td>拉萨</td>\n",
              "      <td>0</td>\n",
              "      <td>1</td>\n",
              "      <td>0</td>\n",
              "      <td>1</td>\n",
              "      <td>0</td>\n",
              "      <td>540100</td>\n",
              "      <td>Lhasa</td>\n",
              "      <td>Xizang</td>\n",
              "      <td>China</td>\n",
              "      <td>29.655390</td>\n",
              "      <td>91.170474</td>\n",
              "    </tr>\n",
              "    <tr>\n",
              "      <th>221</th>\n",
              "      <td>待明确地区</td>\n",
              "      <td>-1</td>\n",
              "      <td>0</td>\n",
              "      <td>0</td>\n",
              "      <td>1</td>\n",
              "      <td>0</td>\n",
              "      <td>0</td>\n",
              "      <td>Area not defined</td>\n",
              "      <td>Hainan</td>\n",
              "      <td>China</td>\n",
              "      <td>35.000000</td>\n",
              "      <td>105.000000</td>\n",
              "    </tr>\n",
              "    <tr>\n",
              "      <th>46</th>\n",
              "      <td>待明确地区</td>\n",
              "      <td>-335</td>\n",
              "      <td>0</td>\n",
              "      <td>0</td>\n",
              "      <td>327</td>\n",
              "      <td>8</td>\n",
              "      <td>0</td>\n",
              "      <td>Area not defined</td>\n",
              "      <td>Beijing</td>\n",
              "      <td>China</td>\n",
              "      <td>35.000000</td>\n",
              "      <td>105.000000</td>\n",
              "    </tr>\n",
              "    <tr>\n",
              "      <th>139</th>\n",
              "      <td>待明确地区</td>\n",
              "      <td>-1</td>\n",
              "      <td>0</td>\n",
              "      <td>0</td>\n",
              "      <td>1</td>\n",
              "      <td>0</td>\n",
              "      <td>0</td>\n",
              "      <td>Area not defined</td>\n",
              "      <td>Guangdong</td>\n",
              "      <td>China</td>\n",
              "      <td>35.000000</td>\n",
              "      <td>105.000000</td>\n",
              "    </tr>\n",
              "    <tr>\n",
              "      <th>118</th>\n",
              "      <td>待明确地区</td>\n",
              "      <td>-2</td>\n",
              "      <td>0</td>\n",
              "      <td>0</td>\n",
              "      <td>0</td>\n",
              "      <td>2</td>\n",
              "      <td>0</td>\n",
              "      <td>Area not defined</td>\n",
              "      <td>Shanghai</td>\n",
              "      <td>China</td>\n",
              "      <td>35.000000</td>\n",
              "      <td>105.000000</td>\n",
              "    </tr>\n",
              "  </tbody>\n",
              "</table>\n",
              "<p>422 rows × 12 columns</p>\n",
              "</div>"
            ],
            "text/plain": [
              "    cityName  currentConfirmedCount  ...        lat        long\n",
              "13        武汉                   8304  ...  30.595105  114.299935\n",
              "14        孝感                    113  ...  30.920344  113.949652\n",
              "22        黄冈                     17  ...  30.449424  114.865338\n",
              "17        荆州                     32  ...  30.354383  112.188096\n",
              "15        鄂州                     52  ...  30.407908  114.878430\n",
              "..       ...                    ...  ...        ...         ...\n",
              "421       拉萨                      0  ...  29.655390   91.170474\n",
              "221    待明确地区                     -1  ...  35.000000  105.000000\n",
              "46     待明确地区                   -335  ...  35.000000  105.000000\n",
              "139    待明确地区                     -1  ...  35.000000  105.000000\n",
              "118    待明确地区                     -2  ...  35.000000  105.000000\n",
              "\n",
              "[422 rows x 12 columns]"
            ]
          },
          "metadata": {
            "tags": []
          },
          "execution_count": 32
        }
      ]
    },
    {
      "cell_type": "markdown",
      "metadata": {
        "id": "kYx2Q1HOfFMY",
        "colab_type": "text"
      },
      "source": [
        "Clear cluster around Wuhan, and within Hubei in general..."
      ]
    },
    {
      "cell_type": "code",
      "metadata": {
        "id": "KjiTZcj1BsBB",
        "colab_type": "code",
        "outputId": "8ad7481e-dc8b-4be7-deda-b6e20d60065e",
        "colab": {
          "base_uri": "https://localhost:8080/",
          "height": 598
        }
      },
      "source": [
        "import cartopy.crs as ccrs\n",
        "import matplotlib.pyplot as plt\n",
        "\n",
        "ax = plt.axes(projection=ccrs.Robinson())\n",
        "ax.coastlines()\n",
        "\n",
        "df_cities.plot.scatter(ax=ax,\n",
        "                       x=\"long\", y=\"lat\",\n",
        "                       c=\"red\",\n",
        "                       s = df_cities['confirmedCount']/200,\n",
        "                       figsize = (10, 10),\n",
        "                       transform=ccrs.Geodetic())\n",
        "ax.set_extent([150, 100, 5, 80])"
      ],
      "execution_count": 0,
      "outputs": [
        {
          "output_type": "stream",
          "text": [
            "/usr/lib/python3/dist-packages/cartopy/io/__init__.py:264: DownloadWarning: Downloading: http://naciscdn.org/naturalearth/110m/physical/ne_110m_coastline.zip\n",
            "  warnings.warn('Downloading: {}'.format(url), DownloadWarning)\n"
          ],
          "name": "stderr"
        },
        {
          "output_type": "display_data",
          "data": {
            "image/png": "[encoded data removed]",
            "text/plain": [
              "<Figure size 720x720 with 1 Axes>"
            ]
          },
          "metadata": {
            "tags": []
          }
        }
      ]
    },
    {
      "cell_type": "code",
      "metadata": {
        "id": "2Zt9ZfnWfbZh",
        "colab_type": "code",
        "outputId": "bc454d24-d906-4a64-842b-fb967202c350",
        "colab": {
          "base_uri": "https://localhost:8080/",
          "height": 545
        }
      },
      "source": [
        "import cartopy.crs as ccrs\n",
        "import matplotlib.pyplot as plt\n",
        "\n",
        "ax = plt.axes(projection=ccrs.Robinson())\n",
        "ax.coastlines()\n",
        "\n",
        "df_cities.plot.scatter(ax=ax,\n",
        "                       x=\"long\", y=\"lat\",\n",
        "                       c=\"red\",\n",
        "                       s = df_cities['deadCount']/10,\n",
        "                       figsize = (10, 10),\n",
        "                       transform=ccrs.Geodetic())\n",
        "ax.set_extent([150, 100, 5, 80])"
      ],
      "execution_count": 0,
      "outputs": [
        {
          "output_type": "display_data",
          "data": {
            "image/png": "[encoded data removed]",
            "text/plain": [
              "<Figure size 720x720 with 1 Axes>"
            ]
          },
          "metadata": {
            "tags": []
          }
        }
      ]
    }
  ]
}