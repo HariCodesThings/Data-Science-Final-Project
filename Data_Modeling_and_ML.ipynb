{
  "nbformat": 4,
  "nbformat_minor": 0,
  "metadata": {
    "colab": {
      "name": "Data_Modeling_and_ML.ipynb",
      "provenance": [],
      "collapsed_sections": [],
      "include_colab_link": true
    },
    "kernelspec": {
      "name": "python3",
      "display_name": "Python 3"
    },
    "accelerator": "GPU"
  },
  "cells": [
    {
      "cell_type": "markdown",
      "metadata": {
        "id": "view-in-github",
        "colab_type": "text"
      },
      "source": [
        "<a href=\"https://colab.research.google.com/github/HariCodesThings/Data-Science-Final-Project/blob/master/Data_Modeling_and_ML.ipynb\" target=\"_parent\"><img src=\"https://colab.research.google.com/assets/colab-badge.svg\" alt=\"Open In Colab\"/></a>"
      ]
    },
    {
      "cell_type": "code",
      "metadata": {
        "id": "07BV95Y6xT5a",
        "colab_type": "code",
        "colab": {}
      },
      "source": [
        "import pandas as pd\n",
        "import numpy as np\n",
        "\n",
        "from sklearn import linear_model\n",
        "from sklearn.linear_model import LinearRegression\n",
        "from sklearn.neighbors import  KNeighborsRegressor\n",
        "from sklearn.model_selection import GridSearchCV\n",
        "\n",
        "import matplotlib.pyplot as plt\n",
        "%matplotlib inline\n",
        "\n",
        "from sklearn.compose import make_column_transformer\n",
        "from sklearn.pipeline import make_pipeline\n",
        "from sklearn.model_selection import cross_val_score\n",
        "from sklearn.metrics import mean_absolute_error, mean_squared_error\n",
        "\n",
        "from sklearn.preprocessing import StandardScaler"
      ],
      "execution_count": 0,
      "outputs": []
    },
    {
      "cell_type": "markdown",
      "metadata": {
        "id": "8_8yPD3Ff4el",
        "colab_type": "text"
      },
      "source": [
        "## Installs and Loading Previous Data"
      ]
    },
    {
      "cell_type": "code",
      "metadata": {
        "id": "X_hBuhjlbBoE",
        "colab_type": "code",
        "outputId": "246baadf-33e4-4761-b3bb-c70fb3f897d4",
        "colab": {
          "base_uri": "https://localhost:8080/",
          "height": 34
        }
      },
      "source": [
        "from google.colab import drive\n",
        "drive.mount('/content/drive/', force_remount=True)\n"
      ],
      "execution_count": 409,
      "outputs": [
        {
          "output_type": "stream",
          "text": [
            "Mounted at /content/drive/\n"
          ],
          "name": "stdout"
        }
      ]
    },
    {
      "cell_type": "code",
      "metadata": {
        "id": "jgXvuQiNc-vM",
        "colab_type": "code",
        "colab": {}
      },
      "source": [
        "!cp \"/content/drive/My Drive/DATA301 Project/coronavirus_raw.csv\" \"coronavirus_raw.csv\"\n",
        "!cp \"/content/drive/My Drive/DATA301 Project/chinese_cities_cleaned.csv\" \"chinese_cities_cleaned.csv\"\n",
        "!cp \"/content/drive/My Drive/DATA301 Project/covid_by_country_filtered.csv\" \"covid_by_country_filtered.csv\""
      ],
      "execution_count": 0,
      "outputs": []
    },
    {
      "cell_type": "markdown",
      "metadata": {
        "id": "nyE5_F1Uz6n_",
        "colab_type": "text"
      },
      "source": [
        "### Duplicate code to reproduce cleaning for coronavirus country/province (time-series) data"
      ]
    },
    {
      "cell_type": "code",
      "metadata": {
        "id": "NCDFB_ahzyqB",
        "colab_type": "code",
        "outputId": "c5acf34b-53be-4e3f-ad32-e35aeb8263c7",
        "colab": {
          "base_uri": "https://localhost:8080/",
          "height": 148
        }
      },
      "source": [
        "from datetime import datetime\n",
        "\n",
        "df_coronavirus = pd.read_csv(\"coronavirus_raw.csv\")\n",
        "cleaned = []\n",
        "for entry in range(len(df_coronavirus)):\n",
        "  cleaned.append(datetime.fromtimestamp(df_coronavirus['updateTime'][entry]/1000)\n",
        "                  .strftime(\"%x\"))\n",
        "  \n",
        "df_coronavirus['updateTime_cleaned'] = np.array(cleaned)\n",
        "df_coronavirus.head(2)"
      ],
      "execution_count": 411,
      "outputs": [
        {
          "output_type": "execute_result",
          "data": {
            "text/html": [
              "<div>\n",
              "<style scoped>\n",
              "    .dataframe tbody tr th:only-of-type {\n",
              "        vertical-align: middle;\n",
              "    }\n",
              "\n",
              "    .dataframe tbody tr th {\n",
              "        vertical-align: top;\n",
              "    }\n",
              "\n",
              "    .dataframe thead th {\n",
              "        text-align: right;\n",
              "    }\n",
              "</style>\n",
              "<table border=\"1\" class=\"dataframe\">\n",
              "  <thead>\n",
              "    <tr style=\"text-align: right;\">\n",
              "      <th></th>\n",
              "      <th>provinceName</th>\n",
              "      <th>currentConfirmedCount</th>\n",
              "      <th>confirmedCount</th>\n",
              "      <th>suspectedCount</th>\n",
              "      <th>curedCount</th>\n",
              "      <th>deadCount</th>\n",
              "      <th>comment</th>\n",
              "      <th>operator</th>\n",
              "      <th>locationId</th>\n",
              "      <th>countryShortCode</th>\n",
              "      <th>countryFullName</th>\n",
              "      <th>continentName</th>\n",
              "      <th>countryName</th>\n",
              "      <th>provinceShortName</th>\n",
              "      <th>continentEnglishName</th>\n",
              "      <th>countryEnglishName</th>\n",
              "      <th>provinceEnglishName</th>\n",
              "      <th>updateTime</th>\n",
              "      <th>statisticsData</th>\n",
              "      <th>cities</th>\n",
              "      <th>createTime</th>\n",
              "      <th>modifyTime</th>\n",
              "      <th>cityName</th>\n",
              "      <th>updateTime_cleaned</th>\n",
              "    </tr>\n",
              "  </thead>\n",
              "  <tbody>\n",
              "    <tr>\n",
              "      <th>0</th>\n",
              "      <td>关岛</td>\n",
              "      <td>3.0</td>\n",
              "      <td>3</td>\n",
              "      <td>0.0</td>\n",
              "      <td>0</td>\n",
              "      <td>0</td>\n",
              "      <td>NaN</td>\n",
              "      <td>chend</td>\n",
              "      <td>0</td>\n",
              "      <td>GU</td>\n",
              "      <td>Guam</td>\n",
              "      <td>北美洲</td>\n",
              "      <td>关岛</td>\n",
              "      <td>关岛</td>\n",
              "      <td>North America</td>\n",
              "      <td>Guam</td>\n",
              "      <td>Guam</td>\n",
              "      <td>1584487275191</td>\n",
              "      <td>NaN</td>\n",
              "      <td>NaN</td>\n",
              "      <td>NaN</td>\n",
              "      <td>NaN</td>\n",
              "      <td>NaN</td>\n",
              "      <td>03/17/20</td>\n",
              "    </tr>\n",
              "    <tr>\n",
              "      <th>1</th>\n",
              "      <td>美属维尔京群岛</td>\n",
              "      <td>2.0</td>\n",
              "      <td>2</td>\n",
              "      <td>0.0</td>\n",
              "      <td>0</td>\n",
              "      <td>0</td>\n",
              "      <td>NaN</td>\n",
              "      <td>chend</td>\n",
              "      <td>0</td>\n",
              "      <td>USVI</td>\n",
              "      <td>United States Virgin Islands</td>\n",
              "      <td>北美洲</td>\n",
              "      <td>美属维尔京群岛</td>\n",
              "      <td>美属维尔京群岛</td>\n",
              "      <td>North America</td>\n",
              "      <td>NaN</td>\n",
              "      <td>NaN</td>\n",
              "      <td>1584487275191</td>\n",
              "      <td>NaN</td>\n",
              "      <td>NaN</td>\n",
              "      <td>NaN</td>\n",
              "      <td>NaN</td>\n",
              "      <td>NaN</td>\n",
              "      <td>03/17/20</td>\n",
              "    </tr>\n",
              "  </tbody>\n",
              "</table>\n",
              "</div>"
            ],
            "text/plain": [
              "  provinceName  currentConfirmedCount  ...  cityName  updateTime_cleaned\n",
              "0           关岛                    3.0  ...       NaN            03/17/20\n",
              "1      美属维尔京群岛                    2.0  ...       NaN            03/17/20\n",
              "\n",
              "[2 rows x 24 columns]"
            ]
          },
          "metadata": {
            "tags": []
          },
          "execution_count": 411
        }
      ]
    },
    {
      "cell_type": "code",
      "metadata": {
        "id": "9bPUQ2ly0Wxy",
        "colab_type": "code",
        "outputId": "cd5e7f31-80d9-4db9-9eb7-042c660312a5",
        "colab": {
          "base_uri": "https://localhost:8080/",
          "height": 148
        }
      },
      "source": [
        "df_coronavirus['cities'].fillna('[]', inplace = True)\n",
        "df_coronavirus[df_coronavirus['cities']=='[]'].head(2)"
      ],
      "execution_count": 412,
      "outputs": [
        {
          "output_type": "execute_result",
          "data": {
            "text/html": [
              "<div>\n",
              "<style scoped>\n",
              "    .dataframe tbody tr th:only-of-type {\n",
              "        vertical-align: middle;\n",
              "    }\n",
              "\n",
              "    .dataframe tbody tr th {\n",
              "        vertical-align: top;\n",
              "    }\n",
              "\n",
              "    .dataframe thead th {\n",
              "        text-align: right;\n",
              "    }\n",
              "</style>\n",
              "<table border=\"1\" class=\"dataframe\">\n",
              "  <thead>\n",
              "    <tr style=\"text-align: right;\">\n",
              "      <th></th>\n",
              "      <th>provinceName</th>\n",
              "      <th>currentConfirmedCount</th>\n",
              "      <th>confirmedCount</th>\n",
              "      <th>suspectedCount</th>\n",
              "      <th>curedCount</th>\n",
              "      <th>deadCount</th>\n",
              "      <th>comment</th>\n",
              "      <th>operator</th>\n",
              "      <th>locationId</th>\n",
              "      <th>countryShortCode</th>\n",
              "      <th>countryFullName</th>\n",
              "      <th>continentName</th>\n",
              "      <th>countryName</th>\n",
              "      <th>provinceShortName</th>\n",
              "      <th>continentEnglishName</th>\n",
              "      <th>countryEnglishName</th>\n",
              "      <th>provinceEnglishName</th>\n",
              "      <th>updateTime</th>\n",
              "      <th>statisticsData</th>\n",
              "      <th>cities</th>\n",
              "      <th>createTime</th>\n",
              "      <th>modifyTime</th>\n",
              "      <th>cityName</th>\n",
              "      <th>updateTime_cleaned</th>\n",
              "    </tr>\n",
              "  </thead>\n",
              "  <tbody>\n",
              "    <tr>\n",
              "      <th>0</th>\n",
              "      <td>关岛</td>\n",
              "      <td>3.0</td>\n",
              "      <td>3</td>\n",
              "      <td>0.0</td>\n",
              "      <td>0</td>\n",
              "      <td>0</td>\n",
              "      <td>NaN</td>\n",
              "      <td>chend</td>\n",
              "      <td>0</td>\n",
              "      <td>GU</td>\n",
              "      <td>Guam</td>\n",
              "      <td>北美洲</td>\n",
              "      <td>关岛</td>\n",
              "      <td>关岛</td>\n",
              "      <td>North America</td>\n",
              "      <td>Guam</td>\n",
              "      <td>Guam</td>\n",
              "      <td>1584487275191</td>\n",
              "      <td>NaN</td>\n",
              "      <td>[]</td>\n",
              "      <td>NaN</td>\n",
              "      <td>NaN</td>\n",
              "      <td>NaN</td>\n",
              "      <td>03/17/20</td>\n",
              "    </tr>\n",
              "    <tr>\n",
              "      <th>1</th>\n",
              "      <td>美属维尔京群岛</td>\n",
              "      <td>2.0</td>\n",
              "      <td>2</td>\n",
              "      <td>0.0</td>\n",
              "      <td>0</td>\n",
              "      <td>0</td>\n",
              "      <td>NaN</td>\n",
              "      <td>chend</td>\n",
              "      <td>0</td>\n",
              "      <td>USVI</td>\n",
              "      <td>United States Virgin Islands</td>\n",
              "      <td>北美洲</td>\n",
              "      <td>美属维尔京群岛</td>\n",
              "      <td>美属维尔京群岛</td>\n",
              "      <td>North America</td>\n",
              "      <td>NaN</td>\n",
              "      <td>NaN</td>\n",
              "      <td>1584487275191</td>\n",
              "      <td>NaN</td>\n",
              "      <td>[]</td>\n",
              "      <td>NaN</td>\n",
              "      <td>NaN</td>\n",
              "      <td>NaN</td>\n",
              "      <td>03/17/20</td>\n",
              "    </tr>\n",
              "  </tbody>\n",
              "</table>\n",
              "</div>"
            ],
            "text/plain": [
              "  provinceName  currentConfirmedCount  ...  cityName  updateTime_cleaned\n",
              "0           关岛                    3.0  ...       NaN            03/17/20\n",
              "1      美属维尔京群岛                    2.0  ...       NaN            03/17/20\n",
              "\n",
              "[2 rows x 24 columns]"
            ]
          },
          "metadata": {
            "tags": []
          },
          "execution_count": 412
        }
      ]
    },
    {
      "cell_type": "code",
      "metadata": {
        "id": "4yv6JybB0mY-",
        "colab_type": "code",
        "outputId": "55d07fd1-273d-4a1b-d21f-8cd7c9033cf9",
        "colab": {
          "base_uri": "https://localhost:8080/",
          "height": 131
        }
      },
      "source": [
        "df_coronavirus_filtered = df_coronavirus[df_coronavirus['countryEnglishName']\n",
        "                                         .isna() != True]\n",
        "df_coronavirus_filtered.head(2)"
      ],
      "execution_count": 413,
      "outputs": [
        {
          "output_type": "execute_result",
          "data": {
            "text/html": [
              "<div>\n",
              "<style scoped>\n",
              "    .dataframe tbody tr th:only-of-type {\n",
              "        vertical-align: middle;\n",
              "    }\n",
              "\n",
              "    .dataframe tbody tr th {\n",
              "        vertical-align: top;\n",
              "    }\n",
              "\n",
              "    .dataframe thead th {\n",
              "        text-align: right;\n",
              "    }\n",
              "</style>\n",
              "<table border=\"1\" class=\"dataframe\">\n",
              "  <thead>\n",
              "    <tr style=\"text-align: right;\">\n",
              "      <th></th>\n",
              "      <th>provinceName</th>\n",
              "      <th>currentConfirmedCount</th>\n",
              "      <th>confirmedCount</th>\n",
              "      <th>suspectedCount</th>\n",
              "      <th>curedCount</th>\n",
              "      <th>deadCount</th>\n",
              "      <th>comment</th>\n",
              "      <th>operator</th>\n",
              "      <th>locationId</th>\n",
              "      <th>countryShortCode</th>\n",
              "      <th>countryFullName</th>\n",
              "      <th>continentName</th>\n",
              "      <th>countryName</th>\n",
              "      <th>provinceShortName</th>\n",
              "      <th>continentEnglishName</th>\n",
              "      <th>countryEnglishName</th>\n",
              "      <th>provinceEnglishName</th>\n",
              "      <th>updateTime</th>\n",
              "      <th>statisticsData</th>\n",
              "      <th>cities</th>\n",
              "      <th>createTime</th>\n",
              "      <th>modifyTime</th>\n",
              "      <th>cityName</th>\n",
              "      <th>updateTime_cleaned</th>\n",
              "    </tr>\n",
              "  </thead>\n",
              "  <tbody>\n",
              "    <tr>\n",
              "      <th>0</th>\n",
              "      <td>关岛</td>\n",
              "      <td>3.0</td>\n",
              "      <td>3</td>\n",
              "      <td>0.0</td>\n",
              "      <td>0</td>\n",
              "      <td>0</td>\n",
              "      <td>NaN</td>\n",
              "      <td>chend</td>\n",
              "      <td>0</td>\n",
              "      <td>GU</td>\n",
              "      <td>Guam</td>\n",
              "      <td>北美洲</td>\n",
              "      <td>关岛</td>\n",
              "      <td>关岛</td>\n",
              "      <td>North America</td>\n",
              "      <td>Guam</td>\n",
              "      <td>Guam</td>\n",
              "      <td>1584487275191</td>\n",
              "      <td>NaN</td>\n",
              "      <td>[]</td>\n",
              "      <td>NaN</td>\n",
              "      <td>NaN</td>\n",
              "      <td>NaN</td>\n",
              "      <td>03/17/20</td>\n",
              "    </tr>\n",
              "    <tr>\n",
              "      <th>2</th>\n",
              "      <td>以色列</td>\n",
              "      <td>332.0</td>\n",
              "      <td>337</td>\n",
              "      <td>0.0</td>\n",
              "      <td>5</td>\n",
              "      <td>0</td>\n",
              "      <td>NaN</td>\n",
              "      <td>chend</td>\n",
              "      <td>955009</td>\n",
              "      <td>ISR</td>\n",
              "      <td>Israel</td>\n",
              "      <td>亚洲</td>\n",
              "      <td>以色列</td>\n",
              "      <td>以色列</td>\n",
              "      <td>Asia</td>\n",
              "      <td>Israel</td>\n",
              "      <td>Israel</td>\n",
              "      <td>1584484401599</td>\n",
              "      <td>https://file1.dxycdn.com/2020/0315/982/3402160...</td>\n",
              "      <td>[]</td>\n",
              "      <td>NaN</td>\n",
              "      <td>NaN</td>\n",
              "      <td>NaN</td>\n",
              "      <td>03/17/20</td>\n",
              "    </tr>\n",
              "  </tbody>\n",
              "</table>\n",
              "</div>"
            ],
            "text/plain": [
              "  provinceName  currentConfirmedCount  ...  cityName  updateTime_cleaned\n",
              "0           关岛                    3.0  ...       NaN            03/17/20\n",
              "2          以色列                  332.0  ...       NaN            03/17/20\n",
              "\n",
              "[2 rows x 24 columns]"
            ]
          },
          "metadata": {
            "tags": []
          },
          "execution_count": 413
        }
      ]
    },
    {
      "cell_type": "markdown",
      "metadata": {
        "id": "MzYEL9R-moFv",
        "colab_type": "text"
      },
      "source": [
        "# **Machine Learning and Model Selection**"
      ]
    },
    {
      "cell_type": "markdown",
      "metadata": {
        "id": "OzgjQ3v-m1Ud",
        "colab_type": "text"
      },
      "source": [
        "## Regression Models (supervised prediction)"
      ]
    },
    {
      "cell_type": "code",
      "metadata": {
        "id": "apQUmLQlm9wU",
        "colab_type": "code",
        "outputId": "dae8afa9-30ee-4ad7-a593-96d344947f8f",
        "colab": {
          "base_uri": "https://localhost:8080/",
          "height": 204
        }
      },
      "source": [
        "df_by_countries_filtered = pd.read_csv(\"covid_by_country_filtered.csv\")\n",
        "df_by_countries_filtered.head()"
      ],
      "execution_count": 414,
      "outputs": [
        {
          "output_type": "execute_result",
          "data": {
            "text/html": [
              "<div>\n",
              "<style scoped>\n",
              "    .dataframe tbody tr th:only-of-type {\n",
              "        vertical-align: middle;\n",
              "    }\n",
              "\n",
              "    .dataframe tbody tr th {\n",
              "        vertical-align: top;\n",
              "    }\n",
              "\n",
              "    .dataframe thead th {\n",
              "        text-align: right;\n",
              "    }\n",
              "</style>\n",
              "<table border=\"1\" class=\"dataframe\">\n",
              "  <thead>\n",
              "    <tr style=\"text-align: right;\">\n",
              "      <th></th>\n",
              "      <th>countryEnglishName</th>\n",
              "      <th>currentConfirmedCount</th>\n",
              "      <th>confirmedCount</th>\n",
              "      <th>suspectedCount</th>\n",
              "      <th>curedCount</th>\n",
              "      <th>deadCount</th>\n",
              "    </tr>\n",
              "  </thead>\n",
              "  <tbody>\n",
              "    <tr>\n",
              "      <th>0</th>\n",
              "      <td>Afghanistan</td>\n",
              "      <td>22</td>\n",
              "      <td>22</td>\n",
              "      <td>0</td>\n",
              "      <td>0</td>\n",
              "      <td>0</td>\n",
              "    </tr>\n",
              "    <tr>\n",
              "      <th>1</th>\n",
              "      <td>Albania</td>\n",
              "      <td>54</td>\n",
              "      <td>55</td>\n",
              "      <td>0</td>\n",
              "      <td>0</td>\n",
              "      <td>1</td>\n",
              "    </tr>\n",
              "    <tr>\n",
              "      <th>2</th>\n",
              "      <td>Algeria</td>\n",
              "      <td>45</td>\n",
              "      <td>60</td>\n",
              "      <td>0</td>\n",
              "      <td>10</td>\n",
              "      <td>5</td>\n",
              "    </tr>\n",
              "    <tr>\n",
              "      <th>3</th>\n",
              "      <td>Andorra</td>\n",
              "      <td>14</td>\n",
              "      <td>15</td>\n",
              "      <td>0</td>\n",
              "      <td>1</td>\n",
              "      <td>0</td>\n",
              "    </tr>\n",
              "    <tr>\n",
              "      <th>4</th>\n",
              "      <td>Antigua and Barbuda</td>\n",
              "      <td>1</td>\n",
              "      <td>1</td>\n",
              "      <td>0</td>\n",
              "      <td>0</td>\n",
              "      <td>0</td>\n",
              "    </tr>\n",
              "  </tbody>\n",
              "</table>\n",
              "</div>"
            ],
            "text/plain": [
              "    countryEnglishName  currentConfirmedCount  ...  curedCount  deadCount\n",
              "0          Afghanistan                     22  ...           0          0\n",
              "1              Albania                     54  ...           0          1\n",
              "2              Algeria                     45  ...          10          5\n",
              "3              Andorra                     14  ...           1          0\n",
              "4  Antigua and Barbuda                      1  ...           0          0\n",
              "\n",
              "[5 rows x 6 columns]"
            ]
          },
          "metadata": {
            "tags": []
          },
          "execution_count": 414
        }
      ]
    },
    {
      "cell_type": "markdown",
      "metadata": {
        "id": "etzECRv-vAla",
        "colab_type": "text"
      },
      "source": [
        "Attempt to use linear regression to predict death counts, based on confirmed and/or cured count. Went somewhat poorly since there are not enough variables to predict on but linear regression seems to do a decent job of generalizing..."
      ]
    },
    {
      "cell_type": "code",
      "metadata": {
        "id": "zsfGDbNf2igp",
        "colab_type": "code",
        "outputId": "1899e3d5-5d82-4794-97e1-8b541f1da323",
        "colab": {
          "base_uri": "https://localhost:8080/",
          "height": 265
        }
      },
      "source": [
        "model = LinearRegression()\n",
        "model.fit(df_by_countries_filtered[[\"confirmedCount\"]], df_by_countries_filtered[\"deadCount\"])\n",
        "\n",
        "y_new = model.predict(df_by_countries_filtered[[\"confirmedCount\"]])\n",
        "\n",
        "plt.scatter(range(0, len(df_by_countries_filtered)), df_by_countries_filtered['deadCount'])\n",
        "plt.scatter(range(0, len(df_by_countries_filtered)), y_new)\n",
        "plt.ylabel('Death Counts')\n",
        "plt.legend(['Actual', 'Predicted'])\n",
        "plt.savefig('LinReg')"
      ],
      "execution_count": 415,
      "outputs": [
        {
          "output_type": "display_data",
          "data": {
            "image/png": "[encoded data removed]",
            "text/plain": [
              "<Figure size 432x288 with 1 Axes>"
            ]
          },
          "metadata": {
            "tags": []
          }
        }
      ]
    },
    {
      "cell_type": "code",
      "metadata": {
        "id": "HBCbDzPvs2lk",
        "colab_type": "code",
        "colab": {}
      },
      "source": [
        "def get_cv_error_(features, model):\n",
        "  pipeline = make_pipeline(\n",
        "      StandardScaler(),\n",
        "      model\n",
        "  )\n",
        "\n",
        "  # calculate errors from cross-validation\n",
        "  cv_errs = -cross_val_score(pipeline, X=df_by_countries_filtered[features], \n",
        "                             y=df_by_countries_filtered[\"deadCount\"],\n",
        "                             scoring=\"neg_mean_squared_error\", cv=10)\n",
        "  \n",
        "  # calculate average of the cross-validation errors\n",
        "  return cv_errs.mean()"
      ],
      "execution_count": 0,
      "outputs": []
    },
    {
      "cell_type": "code",
      "metadata": {
        "id": "soGMT1sxtka8",
        "colab_type": "code",
        "outputId": "30e2f19d-1a82-43c4-d41e-a31c043125c6",
        "colab": {
          "base_uri": "https://localhost:8080/",
          "height": 85
        }
      },
      "source": [
        "from sklearn import linear_model\n",
        "\n",
        "errs = pd.Series()\n",
        "for features in [([\"confirmedCount\", \"curedCount\"]),\n",
        "                 ([\"confirmedCount\"]),\n",
        "                 ([\"curedCount\"])]:\n",
        "                errs[str(features)] = get_cv_error_(features, LinearRegression())\n",
        "errs**0.5"
      ],
      "execution_count": 417,
      "outputs": [
        {
          "output_type": "execute_result",
          "data": {
            "text/plain": [
              "['confirmedCount', 'curedCount']     274.119160\n",
              "['confirmedCount']                   190.641866\n",
              "['curedCount']                      1519.002010\n",
              "dtype: float64"
            ]
          },
          "metadata": {
            "tags": []
          },
          "execution_count": 417
        }
      ]
    },
    {
      "cell_type": "markdown",
      "metadata": {
        "id": "-vuUNFJv31yL",
        "colab_type": "text"
      },
      "source": [
        "SGD does worse... not my much, but it isn't doing better than linear"
      ]
    },
    {
      "cell_type": "code",
      "metadata": {
        "id": "gSKtZuOI1hOr",
        "colab_type": "code",
        "outputId": "1b9ae70d-bdab-43f1-9a8d-e61d6c513f57",
        "colab": {
          "base_uri": "https://localhost:8080/",
          "height": 85
        }
      },
      "source": [
        "errs = pd.Series()\n",
        "for features in [([\"confirmedCount\", \"curedCount\"]),\n",
        "                 ([\"confirmedCount\"]),\n",
        "                 ([\"curedCount\"])]:\n",
        "                errs[str(features)] = get_cv_error_(features, linear_model.SGDRegressor(max_iter=1000))\n",
        "errs**0.5"
      ],
      "execution_count": 418,
      "outputs": [
        {
          "output_type": "execute_result",
          "data": {
            "text/plain": [
              "['confirmedCount', 'curedCount']     307.099167\n",
              "['confirmedCount']                   194.433402\n",
              "['curedCount']                      1504.605582\n",
              "dtype: float64"
            ]
          },
          "metadata": {
            "tags": []
          },
          "execution_count": 418
        }
      ]
    },
    {
      "cell_type": "markdown",
      "metadata": {
        "id": "P2Fxd0Ft06Qa",
        "colab_type": "text"
      },
      "source": [
        "Attempt to use K-nearest regressor for the same feature set (here, confirmedCount was the only feature that made sense to include)... seemed to  produce very wonky results, moreso than simple linear regression. "
      ]
    },
    {
      "cell_type": "code",
      "metadata": {
        "id": "X0UvkLTfva3F",
        "colab_type": "code",
        "outputId": "764cddb6-a1c0-45f1-cfd3-ae93e19461f2",
        "colab": {
          "base_uri": "https://localhost:8080/",
          "height": 283
        }
      },
      "source": [
        "df_errors = pd.DataFrame(columns = ['k', 'test_MSE'])\n",
        "\n",
        "for k in range(1, 50):\n",
        "  pipeline_errors = make_pipeline(\n",
        "        StandardScaler(),\n",
        "        KNeighborsRegressor(k))\n",
        "  \n",
        "  pipeline_errors.fit(X=df_by_countries_filtered[[\"confirmedCount\"]],\n",
        "                      y=df_by_countries_filtered[\"deadCount\"])\n",
        "  \n",
        "  cv_mse_test = -cross_val_score(pipeline_errors, X= df_by_countries_filtered[[\"confirmedCount\"]], \n",
        "                                y=df_by_countries_filtered[\"deadCount\"],\n",
        "                                scoring=\"neg_mean_squared_error\", cv=10)\n",
        "  \n",
        "  df_errors.loc[k] = [k, cv_mse_test.mean()]\n",
        "\n",
        "df_errors.plot(y = 'test_MSE', label = \"Test Error\")"
      ],
      "execution_count": 419,
      "outputs": [
        {
          "output_type": "execute_result",
          "data": {
            "text/plain": [
              "<matplotlib.axes._subplots.AxesSubplot at 0x7f0d8988f8d0>"
            ]
          },
          "metadata": {
            "tags": []
          },
          "execution_count": 419
        },
        {
          "output_type": "display_data",
          "data": {
            "image/png": "[encoded data removed]",
            "text/plain": [
              "<Figure size 432x288 with 1 Axes>"
            ]
          },
          "metadata": {
            "tags": []
          }
        }
      ]
    },
    {
      "cell_type": "markdown",
      "metadata": {
        "id": "Aihi3Svw-XX2",
        "colab_type": "text"
      },
      "source": [
        "When using Random Forest, the results look closer to what we would expect, with lower values of estimators yielding better MSE/RMSE score..."
      ]
    },
    {
      "cell_type": "code",
      "metadata": {
        "id": "dBD1c_0T1PKq",
        "colab_type": "code",
        "outputId": "b264233b-7ce6-46dd-eb91-c83868d812f4",
        "colab": {
          "base_uri": "https://localhost:8080/",
          "height": 282
        }
      },
      "source": [
        "from sklearn.ensemble import RandomForestRegressor\n",
        "\n",
        "df_errors = pd.DataFrame(columns = ['k', 'test_MSE'])\n",
        "\n",
        "for k in range(1, 50):\n",
        "  pipeline_errors = make_pipeline(\n",
        "        StandardScaler(),\n",
        "        RandomForestRegressor(n_estimators = k))\n",
        "  \n",
        "  pipeline_errors.fit(X=df_by_countries_filtered[[\"confirmedCount\"]],\n",
        "                      y=df_by_countries_filtered[\"deadCount\"])\n",
        "  \n",
        "  cv_mse_test = -cross_val_score(pipeline_errors, X= df_by_countries_filtered[[\"confirmedCount\"]], \n",
        "                                y=df_by_countries_filtered[\"deadCount\"],\n",
        "                                scoring=\"neg_mean_squared_error\", cv=10)\n",
        "  \n",
        "  df_errors.loc[k] = [k, cv_mse_test.mean()]\n",
        "\n",
        "df_errors.plot(y = 'test_MSE', label = \"Test Error\")"
      ],
      "execution_count": 420,
      "outputs": [
        {
          "output_type": "execute_result",
          "data": {
            "text/plain": [
              "<matplotlib.axes._subplots.AxesSubplot at 0x7f0d89864da0>"
            ]
          },
          "metadata": {
            "tags": []
          },
          "execution_count": 420
        },
        {
          "output_type": "display_data",
          "data": {
            "image/png": "[encoded data removed]",
            "text/plain": [
              "<Figure size 432x288 with 1 Axes>"
            ]
          },
          "metadata": {
            "tags": []
          }
        }
      ]
    },
    {
      "cell_type": "code",
      "metadata": {
        "id": "YRfyv8Vq_Kux",
        "colab_type": "code",
        "outputId": "15eb1a20-b55c-4c28-e0fb-c02ea1812bac",
        "colab": {
          "base_uri": "https://localhost:8080/",
          "height": 289
        }
      },
      "source": [
        "clf = GridSearchCV(pipeline_errors,\n",
        "                   param_grid={\n",
        "                       \"randomforestregressor__n_estimators\": range(1, 50)\n",
        "                       },\n",
        "                   scoring=\"neg_mean_squared_error\",\n",
        "                   cv=10)\n",
        "clf.fit(df_by_countries_filtered[[\"confirmedCount\"]],df_by_countries_filtered[\"deadCount\"])\n",
        "clf.best_estimator_"
      ],
      "execution_count": 421,
      "outputs": [
        {
          "output_type": "execute_result",
          "data": {
            "text/plain": [
              "Pipeline(memory=None,\n",
              "         steps=[('standardscaler',\n",
              "                 StandardScaler(copy=True, with_mean=True, with_std=True)),\n",
              "                ('randomforestregressor',\n",
              "                 RandomForestRegressor(bootstrap=True, ccp_alpha=0.0,\n",
              "                                       criterion='mse', max_depth=None,\n",
              "                                       max_features='auto', max_leaf_nodes=None,\n",
              "                                       max_samples=None,\n",
              "                                       min_impurity_decrease=0.0,\n",
              "                                       min_impurity_split=None,\n",
              "                                       min_samples_leaf=1, min_samples_split=2,\n",
              "                                       min_weight_fraction_leaf=0.0,\n",
              "                                       n_estimators=7, n_jobs=None,\n",
              "                                       oob_score=False, random_state=None,\n",
              "                                       verbose=0, warm_start=False))],\n",
              "         verbose=False)"
            ]
          },
          "metadata": {
            "tags": []
          },
          "execution_count": 421
        }
      ]
    },
    {
      "cell_type": "markdown",
      "metadata": {
        "id": "fFRM0_9jDHBC",
        "colab_type": "text"
      },
      "source": [
        "At its best... Random Forest compares favorably to the other regression models I looked at (specifically linear and k-nearest). Although, Linear Regressor did do a good job of generalizing, as I mentioned before."
      ]
    },
    {
      "cell_type": "markdown",
      "metadata": {
        "id": "Q4NHlcQ1DaR4",
        "colab_type": "text"
      },
      "source": [
        "## Time Series (Forecasting)"
      ]
    },
    {
      "cell_type": "code",
      "metadata": {
        "id": "cOiurOFBDklC",
        "colab_type": "code",
        "outputId": "07b87b03-444b-4b3e-a02b-59472f2a3a47",
        "colab": {
          "base_uri": "https://localhost:8080/",
          "height": 470
        }
      },
      "source": [
        "df_coronavirus_filtered.index = pd.to_datetime(df_coronavirus_filtered['updateTime_cleaned'])\n",
        "df_coronavirus_filtered"
      ],
      "execution_count": 422,
      "outputs": [
        {
          "output_type": "execute_result",
          "data": {
            "text/html": [
              "<div>\n",
              "<style scoped>\n",
              "    .dataframe tbody tr th:only-of-type {\n",
              "        vertical-align: middle;\n",
              "    }\n",
              "\n",
              "    .dataframe tbody tr th {\n",
              "        vertical-align: top;\n",
              "    }\n",
              "\n",
              "    .dataframe thead th {\n",
              "        text-align: right;\n",
              "    }\n",
              "</style>\n",
              "<table border=\"1\" class=\"dataframe\">\n",
              "  <thead>\n",
              "    <tr style=\"text-align: right;\">\n",
              "      <th></th>\n",
              "      <th>provinceName</th>\n",
              "      <th>currentConfirmedCount</th>\n",
              "      <th>confirmedCount</th>\n",
              "      <th>suspectedCount</th>\n",
              "      <th>curedCount</th>\n",
              "      <th>deadCount</th>\n",
              "      <th>comment</th>\n",
              "      <th>operator</th>\n",
              "      <th>locationId</th>\n",
              "      <th>countryShortCode</th>\n",
              "      <th>countryFullName</th>\n",
              "      <th>continentName</th>\n",
              "      <th>countryName</th>\n",
              "      <th>provinceShortName</th>\n",
              "      <th>continentEnglishName</th>\n",
              "      <th>countryEnglishName</th>\n",
              "      <th>provinceEnglishName</th>\n",
              "      <th>updateTime</th>\n",
              "      <th>statisticsData</th>\n",
              "      <th>cities</th>\n",
              "      <th>createTime</th>\n",
              "      <th>modifyTime</th>\n",
              "      <th>cityName</th>\n",
              "      <th>updateTime_cleaned</th>\n",
              "    </tr>\n",
              "    <tr>\n",
              "      <th>updateTime_cleaned</th>\n",
              "      <th></th>\n",
              "      <th></th>\n",
              "      <th></th>\n",
              "      <th></th>\n",
              "      <th></th>\n",
              "      <th></th>\n",
              "      <th></th>\n",
              "      <th></th>\n",
              "      <th></th>\n",
              "      <th></th>\n",
              "      <th></th>\n",
              "      <th></th>\n",
              "      <th></th>\n",
              "      <th></th>\n",
              "      <th></th>\n",
              "      <th></th>\n",
              "      <th></th>\n",
              "      <th></th>\n",
              "      <th></th>\n",
              "      <th></th>\n",
              "      <th></th>\n",
              "      <th></th>\n",
              "      <th></th>\n",
              "      <th></th>\n",
              "    </tr>\n",
              "  </thead>\n",
              "  <tbody>\n",
              "    <tr>\n",
              "      <th>2020-03-17</th>\n",
              "      <td>关岛</td>\n",
              "      <td>3.0</td>\n",
              "      <td>3</td>\n",
              "      <td>0.0</td>\n",
              "      <td>0</td>\n",
              "      <td>0</td>\n",
              "      <td>NaN</td>\n",
              "      <td>chend</td>\n",
              "      <td>0</td>\n",
              "      <td>GU</td>\n",
              "      <td>Guam</td>\n",
              "      <td>北美洲</td>\n",
              "      <td>关岛</td>\n",
              "      <td>关岛</td>\n",
              "      <td>North America</td>\n",
              "      <td>Guam</td>\n",
              "      <td>Guam</td>\n",
              "      <td>1584487275191</td>\n",
              "      <td>NaN</td>\n",
              "      <td>[]</td>\n",
              "      <td>NaN</td>\n",
              "      <td>NaN</td>\n",
              "      <td>NaN</td>\n",
              "      <td>03/17/20</td>\n",
              "    </tr>\n",
              "    <tr>\n",
              "      <th>2020-03-17</th>\n",
              "      <td>以色列</td>\n",
              "      <td>332.0</td>\n",
              "      <td>337</td>\n",
              "      <td>0.0</td>\n",
              "      <td>5</td>\n",
              "      <td>0</td>\n",
              "      <td>NaN</td>\n",
              "      <td>chend</td>\n",
              "      <td>955009</td>\n",
              "      <td>ISR</td>\n",
              "      <td>Israel</td>\n",
              "      <td>亚洲</td>\n",
              "      <td>以色列</td>\n",
              "      <td>以色列</td>\n",
              "      <td>Asia</td>\n",
              "      <td>Israel</td>\n",
              "      <td>Israel</td>\n",
              "      <td>1584484401599</td>\n",
              "      <td>https://file1.dxycdn.com/2020/0315/982/3402160...</td>\n",
              "      <td>[]</td>\n",
              "      <td>NaN</td>\n",
              "      <td>NaN</td>\n",
              "      <td>NaN</td>\n",
              "      <td>03/17/20</td>\n",
              "    </tr>\n",
              "    <tr>\n",
              "      <th>2020-03-17</th>\n",
              "      <td>斯洛伐克</td>\n",
              "      <td>97.0</td>\n",
              "      <td>97</td>\n",
              "      <td>0.0</td>\n",
              "      <td>0</td>\n",
              "      <td>0</td>\n",
              "      <td>NaN</td>\n",
              "      <td>chend</td>\n",
              "      <td>963007</td>\n",
              "      <td>SVK</td>\n",
              "      <td>Slovakia</td>\n",
              "      <td>欧洲</td>\n",
              "      <td>斯洛伐克</td>\n",
              "      <td>斯洛伐克</td>\n",
              "      <td>Europe</td>\n",
              "      <td>Slovakia</td>\n",
              "      <td>Slovakia</td>\n",
              "      <td>1584483818068</td>\n",
              "      <td>https://file1.dxycdn.com/2020/0315/353/3402160...</td>\n",
              "      <td>[]</td>\n",
              "      <td>NaN</td>\n",
              "      <td>NaN</td>\n",
              "      <td>NaN</td>\n",
              "      <td>03/17/20</td>\n",
              "    </tr>\n",
              "    <tr>\n",
              "      <th>2020-03-17</th>\n",
              "      <td>冈比亚</td>\n",
              "      <td>1.0</td>\n",
              "      <td>1</td>\n",
              "      <td>0.0</td>\n",
              "      <td>0</td>\n",
              "      <td>0</td>\n",
              "      <td>NaN</td>\n",
              "      <td>chend</td>\n",
              "      <td>982005</td>\n",
              "      <td>GMB</td>\n",
              "      <td>Gambia</td>\n",
              "      <td>非洲</td>\n",
              "      <td>冈比亚</td>\n",
              "      <td>冈比亚</td>\n",
              "      <td>Africa</td>\n",
              "      <td>Gambia</td>\n",
              "      <td>Gambia</td>\n",
              "      <td>1584483753903</td>\n",
              "      <td>NaN</td>\n",
              "      <td>[]</td>\n",
              "      <td>NaN</td>\n",
              "      <td>NaN</td>\n",
              "      <td>NaN</td>\n",
              "      <td>03/17/20</td>\n",
              "    </tr>\n",
              "    <tr>\n",
              "      <th>2020-03-17</th>\n",
              "      <td>阿曼</td>\n",
              "      <td>21.0</td>\n",
              "      <td>33</td>\n",
              "      <td>0.0</td>\n",
              "      <td>12</td>\n",
              "      <td>0</td>\n",
              "      <td>NaN</td>\n",
              "      <td>chend</td>\n",
              "      <td>955013</td>\n",
              "      <td>OMN</td>\n",
              "      <td>Oman</td>\n",
              "      <td>亚洲</td>\n",
              "      <td>阿曼</td>\n",
              "      <td>阿曼</td>\n",
              "      <td>Asia</td>\n",
              "      <td>Oman</td>\n",
              "      <td>Oman</td>\n",
              "      <td>1584483497693</td>\n",
              "      <td>https://file1.dxycdn.com/2020/0315/945/3402160...</td>\n",
              "      <td>[]</td>\n",
              "      <td>NaN</td>\n",
              "      <td>NaN</td>\n",
              "      <td>NaN</td>\n",
              "      <td>03/17/20</td>\n",
              "    </tr>\n",
              "    <tr>\n",
              "      <th>...</th>\n",
              "      <td>...</td>\n",
              "      <td>...</td>\n",
              "      <td>...</td>\n",
              "      <td>...</td>\n",
              "      <td>...</td>\n",
              "      <td>...</td>\n",
              "      <td>...</td>\n",
              "      <td>...</td>\n",
              "      <td>...</td>\n",
              "      <td>...</td>\n",
              "      <td>...</td>\n",
              "      <td>...</td>\n",
              "      <td>...</td>\n",
              "      <td>...</td>\n",
              "      <td>...</td>\n",
              "      <td>...</td>\n",
              "      <td>...</td>\n",
              "      <td>...</td>\n",
              "      <td>...</td>\n",
              "      <td>...</td>\n",
              "      <td>...</td>\n",
              "      <td>...</td>\n",
              "      <td>...</td>\n",
              "      <td>...</td>\n",
              "    </tr>\n",
              "    <tr>\n",
              "      <th>2020-01-21</th>\n",
              "      <td>辽宁省</td>\n",
              "      <td>NaN</td>\n",
              "      <td>0</td>\n",
              "      <td>1.0</td>\n",
              "      <td>0</td>\n",
              "      <td>0</td>\n",
              "      <td>NaN</td>\n",
              "      <td>zyyun</td>\n",
              "      <td>210000</td>\n",
              "      <td>NaN</td>\n",
              "      <td>NaN</td>\n",
              "      <td>亚洲</td>\n",
              "      <td>中国</td>\n",
              "      <td>辽宁</td>\n",
              "      <td>Asia</td>\n",
              "      <td>China</td>\n",
              "      <td>Liaoning</td>\n",
              "      <td>1579634890131</td>\n",
              "      <td>NaN</td>\n",
              "      <td>[]</td>\n",
              "      <td>1.579626e+12</td>\n",
              "      <td>1.579626e+12</td>\n",
              "      <td>NaN</td>\n",
              "      <td>01/21/20</td>\n",
              "    </tr>\n",
              "    <tr>\n",
              "      <th>2020-01-21</th>\n",
              "      <td>台湾</td>\n",
              "      <td>NaN</td>\n",
              "      <td>1</td>\n",
              "      <td>0.0</td>\n",
              "      <td>0</td>\n",
              "      <td>0</td>\n",
              "      <td>NaN</td>\n",
              "      <td>huanshi</td>\n",
              "      <td>710000</td>\n",
              "      <td>NaN</td>\n",
              "      <td>NaN</td>\n",
              "      <td>亚洲</td>\n",
              "      <td>中国</td>\n",
              "      <td>台湾</td>\n",
              "      <td>Asia</td>\n",
              "      <td>China</td>\n",
              "      <td>Taiwan</td>\n",
              "      <td>1579634890131</td>\n",
              "      <td>NaN</td>\n",
              "      <td>[]</td>\n",
              "      <td>1.579617e+12</td>\n",
              "      <td>1.579617e+12</td>\n",
              "      <td>NaN</td>\n",
              "      <td>01/21/20</td>\n",
              "    </tr>\n",
              "    <tr>\n",
              "      <th>2020-01-21</th>\n",
              "      <td>香港</td>\n",
              "      <td>NaN</td>\n",
              "      <td>0</td>\n",
              "      <td>117.0</td>\n",
              "      <td>0</td>\n",
              "      <td>0</td>\n",
              "      <td>NaN</td>\n",
              "      <td>huanshi</td>\n",
              "      <td>810000</td>\n",
              "      <td>NaN</td>\n",
              "      <td>NaN</td>\n",
              "      <td>亚洲</td>\n",
              "      <td>中国</td>\n",
              "      <td>香港</td>\n",
              "      <td>Asia</td>\n",
              "      <td>Hongkong</td>\n",
              "      <td>Hongkong</td>\n",
              "      <td>1579634890131</td>\n",
              "      <td>NaN</td>\n",
              "      <td>[]</td>\n",
              "      <td>1.579617e+12</td>\n",
              "      <td>1.579617e+12</td>\n",
              "      <td>NaN</td>\n",
              "      <td>01/21/20</td>\n",
              "    </tr>\n",
              "    <tr>\n",
              "      <th>2020-01-21</th>\n",
              "      <td>黑龙江省</td>\n",
              "      <td>NaN</td>\n",
              "      <td>0</td>\n",
              "      <td>1.0</td>\n",
              "      <td>0</td>\n",
              "      <td>0</td>\n",
              "      <td>NaN</td>\n",
              "      <td>huanshi</td>\n",
              "      <td>230000</td>\n",
              "      <td>NaN</td>\n",
              "      <td>NaN</td>\n",
              "      <td>亚洲</td>\n",
              "      <td>中国</td>\n",
              "      <td>黑龙江</td>\n",
              "      <td>Asia</td>\n",
              "      <td>China</td>\n",
              "      <td>Heilongjiang</td>\n",
              "      <td>1579634890131</td>\n",
              "      <td>NaN</td>\n",
              "      <td>[]</td>\n",
              "      <td>1.579621e+12</td>\n",
              "      <td>1.579621e+12</td>\n",
              "      <td>NaN</td>\n",
              "      <td>01/21/20</td>\n",
              "    </tr>\n",
              "    <tr>\n",
              "      <th>2020-01-21</th>\n",
              "      <td>湖南省</td>\n",
              "      <td>NaN</td>\n",
              "      <td>1</td>\n",
              "      <td>0.0</td>\n",
              "      <td>0</td>\n",
              "      <td>0</td>\n",
              "      <td>NaN</td>\n",
              "      <td>huanshi</td>\n",
              "      <td>430000</td>\n",
              "      <td>NaN</td>\n",
              "      <td>NaN</td>\n",
              "      <td>亚洲</td>\n",
              "      <td>中国</td>\n",
              "      <td>湖南</td>\n",
              "      <td>Asia</td>\n",
              "      <td>China</td>\n",
              "      <td>Hunan</td>\n",
              "      <td>1579634890131</td>\n",
              "      <td>NaN</td>\n",
              "      <td>[]</td>\n",
              "      <td>1.579623e+12</td>\n",
              "      <td>1.579623e+12</td>\n",
              "      <td>NaN</td>\n",
              "      <td>01/21/20</td>\n",
              "    </tr>\n",
              "  </tbody>\n",
              "</table>\n",
              "<p>15879 rows × 24 columns</p>\n",
              "</div>"
            ],
            "text/plain": [
              "                   provinceName  ...  updateTime_cleaned\n",
              "updateTime_cleaned               ...                    \n",
              "2020-03-17                   关岛  ...            03/17/20\n",
              "2020-03-17                  以色列  ...            03/17/20\n",
              "2020-03-17                 斯洛伐克  ...            03/17/20\n",
              "2020-03-17                  冈比亚  ...            03/17/20\n",
              "2020-03-17                   阿曼  ...            03/17/20\n",
              "...                         ...  ...                 ...\n",
              "2020-01-21                  辽宁省  ...            01/21/20\n",
              "2020-01-21                   台湾  ...            01/21/20\n",
              "2020-01-21                   香港  ...            01/21/20\n",
              "2020-01-21                 黑龙江省  ...            01/21/20\n",
              "2020-01-21                  湖南省  ...            01/21/20\n",
              "\n",
              "[15879 rows x 24 columns]"
            ]
          },
          "metadata": {
            "tags": []
          },
          "execution_count": 422
        }
      ]
    },
    {
      "cell_type": "code",
      "metadata": {
        "id": "4cJmANJwE3ek",
        "colab_type": "code",
        "outputId": "6ad93bd0-215c-4407-b091-9edab2ed6868",
        "colab": {
          "base_uri": "https://localhost:8080/",
          "height": 295
        }
      },
      "source": [
        "df_time_series_hub = df_coronavirus_filtered[\n",
        "    df_coronavirus_filtered[\"provinceEnglishName\"] == \"Hubei\"]\n",
        "df_time_series_hub.head(3)"
      ],
      "execution_count": 423,
      "outputs": [
        {
          "output_type": "execute_result",
          "data": {
            "text/html": [
              "<div>\n",
              "<style scoped>\n",
              "    .dataframe tbody tr th:only-of-type {\n",
              "        vertical-align: middle;\n",
              "    }\n",
              "\n",
              "    .dataframe tbody tr th {\n",
              "        vertical-align: top;\n",
              "    }\n",
              "\n",
              "    .dataframe thead th {\n",
              "        text-align: right;\n",
              "    }\n",
              "</style>\n",
              "<table border=\"1\" class=\"dataframe\">\n",
              "  <thead>\n",
              "    <tr style=\"text-align: right;\">\n",
              "      <th></th>\n",
              "      <th>provinceName</th>\n",
              "      <th>currentConfirmedCount</th>\n",
              "      <th>confirmedCount</th>\n",
              "      <th>suspectedCount</th>\n",
              "      <th>curedCount</th>\n",
              "      <th>deadCount</th>\n",
              "      <th>comment</th>\n",
              "      <th>operator</th>\n",
              "      <th>locationId</th>\n",
              "      <th>countryShortCode</th>\n",
              "      <th>countryFullName</th>\n",
              "      <th>continentName</th>\n",
              "      <th>countryName</th>\n",
              "      <th>provinceShortName</th>\n",
              "      <th>continentEnglishName</th>\n",
              "      <th>countryEnglishName</th>\n",
              "      <th>provinceEnglishName</th>\n",
              "      <th>updateTime</th>\n",
              "      <th>statisticsData</th>\n",
              "      <th>cities</th>\n",
              "      <th>createTime</th>\n",
              "      <th>modifyTime</th>\n",
              "      <th>cityName</th>\n",
              "      <th>updateTime_cleaned</th>\n",
              "    </tr>\n",
              "    <tr>\n",
              "      <th>updateTime_cleaned</th>\n",
              "      <th></th>\n",
              "      <th></th>\n",
              "      <th></th>\n",
              "      <th></th>\n",
              "      <th></th>\n",
              "      <th></th>\n",
              "      <th></th>\n",
              "      <th></th>\n",
              "      <th></th>\n",
              "      <th></th>\n",
              "      <th></th>\n",
              "      <th></th>\n",
              "      <th></th>\n",
              "      <th></th>\n",
              "      <th></th>\n",
              "      <th></th>\n",
              "      <th></th>\n",
              "      <th></th>\n",
              "      <th></th>\n",
              "      <th></th>\n",
              "      <th></th>\n",
              "      <th></th>\n",
              "      <th></th>\n",
              "      <th></th>\n",
              "    </tr>\n",
              "  </thead>\n",
              "  <tbody>\n",
              "    <tr>\n",
              "      <th>2020-03-17</th>\n",
              "      <td>湖北省</td>\n",
              "      <td>8685.0</td>\n",
              "      <td>67799</td>\n",
              "      <td>0.0</td>\n",
              "      <td>56003</td>\n",
              "      <td>3111</td>\n",
              "      <td>NaN</td>\n",
              "      <td>NaN</td>\n",
              "      <td>420000</td>\n",
              "      <td>NaN</td>\n",
              "      <td>NaN</td>\n",
              "      <td>亚洲</td>\n",
              "      <td>中国</td>\n",
              "      <td>湖北</td>\n",
              "      <td>Asia</td>\n",
              "      <td>China</td>\n",
              "      <td>Hubei</td>\n",
              "      <td>1584445621306</td>\n",
              "      <td>https://file1.dxycdn.com/2020/0223/618/3398299...</td>\n",
              "      <td>[{'cityName': '武汉', 'currentConfirmedCount': 8...</td>\n",
              "      <td>NaN</td>\n",
              "      <td>NaN</td>\n",
              "      <td>NaN</td>\n",
              "      <td>03/17/20</td>\n",
              "    </tr>\n",
              "    <tr>\n",
              "      <th>2020-03-17</th>\n",
              "      <td>湖北省</td>\n",
              "      <td>8691.0</td>\n",
              "      <td>67799</td>\n",
              "      <td>0.0</td>\n",
              "      <td>55997</td>\n",
              "      <td>3111</td>\n",
              "      <td>NaN</td>\n",
              "      <td>NaN</td>\n",
              "      <td>420000</td>\n",
              "      <td>NaN</td>\n",
              "      <td>NaN</td>\n",
              "      <td>亚洲</td>\n",
              "      <td>中国</td>\n",
              "      <td>湖北</td>\n",
              "      <td>Asia</td>\n",
              "      <td>China</td>\n",
              "      <td>Hubei</td>\n",
              "      <td>1584440660265</td>\n",
              "      <td>https://file1.dxycdn.com/2020/0223/618/3398299...</td>\n",
              "      <td>[{'cityName': '武汉', 'currentConfirmedCount': 8...</td>\n",
              "      <td>NaN</td>\n",
              "      <td>NaN</td>\n",
              "      <td>NaN</td>\n",
              "      <td>03/17/20</td>\n",
              "    </tr>\n",
              "    <tr>\n",
              "      <th>2020-03-17</th>\n",
              "      <td>湖北省</td>\n",
              "      <td>8701.0</td>\n",
              "      <td>67799</td>\n",
              "      <td>0.0</td>\n",
              "      <td>55987</td>\n",
              "      <td>3111</td>\n",
              "      <td>NaN</td>\n",
              "      <td>NaN</td>\n",
              "      <td>420000</td>\n",
              "      <td>NaN</td>\n",
              "      <td>NaN</td>\n",
              "      <td>亚洲</td>\n",
              "      <td>中国</td>\n",
              "      <td>湖北</td>\n",
              "      <td>Asia</td>\n",
              "      <td>China</td>\n",
              "      <td>Hubei</td>\n",
              "      <td>1584403998257</td>\n",
              "      <td>https://file1.dxycdn.com/2020/0223/618/3398299...</td>\n",
              "      <td>[{'cityName': '武汉', 'currentConfirmedCount': 9...</td>\n",
              "      <td>NaN</td>\n",
              "      <td>NaN</td>\n",
              "      <td>NaN</td>\n",
              "      <td>03/17/20</td>\n",
              "    </tr>\n",
              "  </tbody>\n",
              "</table>\n",
              "</div>"
            ],
            "text/plain": [
              "                   provinceName  ...  updateTime_cleaned\n",
              "updateTime_cleaned               ...                    \n",
              "2020-03-17                  湖北省  ...            03/17/20\n",
              "2020-03-17                  湖北省  ...            03/17/20\n",
              "2020-03-17                  湖北省  ...            03/17/20\n",
              "\n",
              "[3 rows x 24 columns]"
            ]
          },
          "metadata": {
            "tags": []
          },
          "execution_count": 423
        }
      ]
    },
    {
      "cell_type": "code",
      "metadata": {
        "id": "8BzJwR9pL50n",
        "colab_type": "code",
        "outputId": "d3d42a14-7ed3-4512-d5c8-7508bf8c7298",
        "colab": {
          "base_uri": "https://localhost:8080/",
          "height": 303
        }
      },
      "source": [
        "df_time_series_hub[\"deadCount\"].plot.line()"
      ],
      "execution_count": 424,
      "outputs": [
        {
          "output_type": "execute_result",
          "data": {
            "text/plain": [
              "<matplotlib.axes._subplots.AxesSubplot at 0x7f0d8988f0b8>"
            ]
          },
          "metadata": {
            "tags": []
          },
          "execution_count": 424
        },
        {
          "output_type": "display_data",
          "data": {
            "image/png": "[encoded data removed]",
            "text/plain": [
              "<Figure size 432x288 with 1 Axes>"
            ]
          },
          "metadata": {
            "tags": []
          }
        }
      ]
    },
    {
      "cell_type": "code",
      "metadata": {
        "id": "11foz9cEEnPC",
        "colab_type": "code",
        "outputId": "c37c7667-1c91-4c86-888b-aea703e6e113",
        "colab": {
          "base_uri": "https://localhost:8080/",
          "height": 244
        }
      },
      "source": [
        "df_time_series_us = df_coronavirus_filtered[\n",
        "    df_coronavirus_filtered[\"countryEnglishName\"] == \"United States of America\"]\n",
        "df_time_series_us.head(3)\n"
      ],
      "execution_count": 425,
      "outputs": [
        {
          "output_type": "execute_result",
          "data": {
            "text/html": [
              "<div>\n",
              "<style scoped>\n",
              "    .dataframe tbody tr th:only-of-type {\n",
              "        vertical-align: middle;\n",
              "    }\n",
              "\n",
              "    .dataframe tbody tr th {\n",
              "        vertical-align: top;\n",
              "    }\n",
              "\n",
              "    .dataframe thead th {\n",
              "        text-align: right;\n",
              "    }\n",
              "</style>\n",
              "<table border=\"1\" class=\"dataframe\">\n",
              "  <thead>\n",
              "    <tr style=\"text-align: right;\">\n",
              "      <th></th>\n",
              "      <th>provinceName</th>\n",
              "      <th>currentConfirmedCount</th>\n",
              "      <th>confirmedCount</th>\n",
              "      <th>suspectedCount</th>\n",
              "      <th>curedCount</th>\n",
              "      <th>deadCount</th>\n",
              "      <th>comment</th>\n",
              "      <th>operator</th>\n",
              "      <th>locationId</th>\n",
              "      <th>countryShortCode</th>\n",
              "      <th>countryFullName</th>\n",
              "      <th>continentName</th>\n",
              "      <th>countryName</th>\n",
              "      <th>provinceShortName</th>\n",
              "      <th>continentEnglishName</th>\n",
              "      <th>countryEnglishName</th>\n",
              "      <th>provinceEnglishName</th>\n",
              "      <th>updateTime</th>\n",
              "      <th>statisticsData</th>\n",
              "      <th>cities</th>\n",
              "      <th>createTime</th>\n",
              "      <th>modifyTime</th>\n",
              "      <th>cityName</th>\n",
              "      <th>updateTime_cleaned</th>\n",
              "    </tr>\n",
              "    <tr>\n",
              "      <th>updateTime_cleaned</th>\n",
              "      <th></th>\n",
              "      <th></th>\n",
              "      <th></th>\n",
              "      <th></th>\n",
              "      <th></th>\n",
              "      <th></th>\n",
              "      <th></th>\n",
              "      <th></th>\n",
              "      <th></th>\n",
              "      <th></th>\n",
              "      <th></th>\n",
              "      <th></th>\n",
              "      <th></th>\n",
              "      <th></th>\n",
              "      <th></th>\n",
              "      <th></th>\n",
              "      <th></th>\n",
              "      <th></th>\n",
              "      <th></th>\n",
              "      <th></th>\n",
              "      <th></th>\n",
              "      <th></th>\n",
              "      <th></th>\n",
              "      <th></th>\n",
              "    </tr>\n",
              "  </thead>\n",
              "  <tbody>\n",
              "    <tr>\n",
              "      <th>2020-03-17</th>\n",
              "      <td>美国</td>\n",
              "      <td>5538.0</td>\n",
              "      <td>5709</td>\n",
              "      <td>0.0</td>\n",
              "      <td>74</td>\n",
              "      <td>97</td>\n",
              "      <td>NaN</td>\n",
              "      <td>chend</td>\n",
              "      <td>971002</td>\n",
              "      <td>USA</td>\n",
              "      <td>United States of America</td>\n",
              "      <td>北美洲</td>\n",
              "      <td>美国</td>\n",
              "      <td>美国</td>\n",
              "      <td>North America</td>\n",
              "      <td>United States of America</td>\n",
              "      <td>United States of America</td>\n",
              "      <td>1584476307899</td>\n",
              "      <td>https://file1.dxycdn.com/2020/0315/553/3402160...</td>\n",
              "      <td>[]</td>\n",
              "      <td>NaN</td>\n",
              "      <td>NaN</td>\n",
              "      <td>NaN</td>\n",
              "      <td>03/17/20</td>\n",
              "    </tr>\n",
              "    <tr>\n",
              "      <th>2020-03-17</th>\n",
              "      <td>美国</td>\n",
              "      <td>5538.0</td>\n",
              "      <td>5709</td>\n",
              "      <td>0.0</td>\n",
              "      <td>74</td>\n",
              "      <td>97</td>\n",
              "      <td>NaN</td>\n",
              "      <td>yuyb</td>\n",
              "      <td>971002</td>\n",
              "      <td>USA</td>\n",
              "      <td>United States of America</td>\n",
              "      <td>北美洲</td>\n",
              "      <td>美国</td>\n",
              "      <td>美国</td>\n",
              "      <td>North America</td>\n",
              "      <td>United States of America</td>\n",
              "      <td>United States of America</td>\n",
              "      <td>1584470183217</td>\n",
              "      <td>https://file1.dxycdn.com/2020/0315/553/3402160...</td>\n",
              "      <td>[]</td>\n",
              "      <td>NaN</td>\n",
              "      <td>NaN</td>\n",
              "      <td>NaN</td>\n",
              "      <td>03/17/20</td>\n",
              "    </tr>\n",
              "    <tr>\n",
              "      <th>2020-03-17</th>\n",
              "      <td>美国</td>\n",
              "      <td>4994.0</td>\n",
              "      <td>5139</td>\n",
              "      <td>0.0</td>\n",
              "      <td>48</td>\n",
              "      <td>97</td>\n",
              "      <td>NaN</td>\n",
              "      <td>yuyb</td>\n",
              "      <td>971002</td>\n",
              "      <td>USA</td>\n",
              "      <td>United States of America</td>\n",
              "      <td>北美洲</td>\n",
              "      <td>美国</td>\n",
              "      <td>美国</td>\n",
              "      <td>North America</td>\n",
              "      <td>United States of America</td>\n",
              "      <td>United States of America</td>\n",
              "      <td>1584468710736</td>\n",
              "      <td>https://file1.dxycdn.com/2020/0315/553/3402160...</td>\n",
              "      <td>[]</td>\n",
              "      <td>NaN</td>\n",
              "      <td>NaN</td>\n",
              "      <td>NaN</td>\n",
              "      <td>03/17/20</td>\n",
              "    </tr>\n",
              "  </tbody>\n",
              "</table>\n",
              "</div>"
            ],
            "text/plain": [
              "                   provinceName  ...  updateTime_cleaned\n",
              "updateTime_cleaned               ...                    \n",
              "2020-03-17                   美国  ...            03/17/20\n",
              "2020-03-17                   美国  ...            03/17/20\n",
              "2020-03-17                   美国  ...            03/17/20\n",
              "\n",
              "[3 rows x 24 columns]"
            ]
          },
          "metadata": {
            "tags": []
          },
          "execution_count": 425
        }
      ]
    },
    {
      "cell_type": "code",
      "metadata": {
        "id": "N9IP_oYwLvAa",
        "colab_type": "code",
        "outputId": "dc105191-24ed-41f1-98a6-563d0ac51e12",
        "colab": {
          "base_uri": "https://localhost:8080/",
          "height": 304
        }
      },
      "source": [
        "df_time_series_us[\"deadCount\"].plot.line()"
      ],
      "execution_count": 426,
      "outputs": [
        {
          "output_type": "execute_result",
          "data": {
            "text/plain": [
              "<matplotlib.axes._subplots.AxesSubplot at 0x7f0d89af8518>"
            ]
          },
          "metadata": {
            "tags": []
          },
          "execution_count": 426
        },
        {
          "output_type": "display_data",
          "data": {
            "image/png": "[encoded data removed]",
            "text/plain": [
              "<Figure size 432x288 with 1 Axes>"
            ]
          },
          "metadata": {
            "tags": []
          }
        }
      ]
    },
    {
      "cell_type": "code",
      "metadata": {
        "id": "18a4oqXIFSpf",
        "colab_type": "code",
        "outputId": "e216e5c5-bccb-4ec3-ca94-1369c51f779c",
        "colab": {
          "base_uri": "https://localhost:8080/",
          "height": 187
        }
      },
      "source": [
        "# Convert dates to a decimal year\n",
        "date = df_time_series_hub.index\n",
        "t = date.year + (30 * (date.month - 1) + date.day) / 365\n",
        "t"
      ],
      "execution_count": 427,
      "outputs": [
        {
          "output_type": "execute_result",
          "data": {
            "text/plain": [
              "Float64Index([2020.2109589041097, 2020.2109589041097, 2020.2109589041097,\n",
              "              2020.2082191780821, 2020.2082191780821, 2020.2082191780821,\n",
              "              2020.2054794520548, 2020.2054794520548, 2020.2027397260274,\n",
              "              2020.2027397260274,\n",
              "              ...\n",
              "              2020.0657534246575, 2020.0657534246575, 2020.0657534246575,\n",
              "              2020.0630136986301, 2020.0602739726028, 2020.0602739726028,\n",
              "              2020.0602739726028, 2020.0602739726028, 2020.0602739726028,\n",
              "              2020.0575342465754],\n",
              "             dtype='float64', name='updateTime_cleaned', length=380)"
            ]
          },
          "metadata": {
            "tags": []
          },
          "execution_count": 427
        }
      ]
    },
    {
      "cell_type": "markdown",
      "metadata": {
        "id": "j0ejmEC6LQaC",
        "colab_type": "text"
      },
      "source": [
        "Started with linear regression for time series data.... not doing too well."
      ]
    },
    {
      "cell_type": "code",
      "metadata": {
        "id": "kejFNLOWF-Gk",
        "colab_type": "code",
        "outputId": "c5792d59-23d2-49f6-a293-9e95ed2506bd",
        "colab": {
          "base_uri": "https://localhost:8080/",
          "height": 303
        }
      },
      "source": [
        "from sklearn.preprocessing import PolynomialFeatures\n",
        "import lightgbm as lgb \n",
        "\n",
        "y_train = df_time_series_hub['deadCount']\n",
        "\n",
        "# Fit linear regression of y on t and t^2\n",
        "pipeline = make_pipeline(\n",
        "    #PolynomialFeatures(degree=2, include_bias=False),\n",
        "    LinearRegression()\n",
        ")\n",
        "pipeline.fit(X=t.to_frame(), y=y_train)\n",
        "\n",
        "# Store model predictions in a Series for easy plotting\n",
        "y_train_ = pd.Series(\n",
        "    pipeline.predict(X=t.to_frame()),\n",
        "    index=y_train.index\n",
        ")\n",
        "\n",
        "# Plot the data and the fitted trend\n",
        "y_train.plot.line(style=\":\")\n",
        "y_train_.plot.line()"
      ],
      "execution_count": 428,
      "outputs": [
        {
          "output_type": "execute_result",
          "data": {
            "text/plain": [
              "<matplotlib.axes._subplots.AxesSubplot at 0x7f0d896b8f98>"
            ]
          },
          "metadata": {
            "tags": []
          },
          "execution_count": 428
        },
        {
          "output_type": "display_data",
          "data": {
            "image/png": "[encoded data removed]",
            "text/plain": [
              "<Figure size 432x288 with 1 Axes>"
            ]
          },
          "metadata": {
            "tags": []
          }
        }
      ]
    },
    {
      "cell_type": "code",
      "metadata": {
        "id": "HS5QWmgsY03U",
        "colab_type": "code",
        "outputId": "1d725c54-2aed-4121-a7ac-f52bb5223cd7",
        "colab": {
          "base_uri": "https://localhost:8080/",
          "height": 238
        }
      },
      "source": [
        "y_train = df_time_series_hub['deadCount']\n",
        "X = t.to_frame()\n",
        "y_new = y_train.copy().sort_index()\n",
        "#y_shifted .shift(1, axis = 0)\n",
        "\n",
        "y_new"
      ],
      "execution_count": 429,
      "outputs": [
        {
          "output_type": "execute_result",
          "data": {
            "text/plain": [
              "updateTime_cleaned\n",
              "2020-01-21       6\n",
              "2020-01-22      17\n",
              "2020-01-22      17\n",
              "2020-01-22       9\n",
              "2020-01-22       9\n",
              "              ... \n",
              "2020-03-16    3099\n",
              "2020-03-16    3099\n",
              "2020-03-17    3111\n",
              "2020-03-17    3111\n",
              "2020-03-17    3111\n",
              "Name: deadCount, Length: 380, dtype: int64"
            ]
          },
          "metadata": {
            "tags": []
          },
          "execution_count": 429
        }
      ]
    },
    {
      "cell_type": "markdown",
      "metadata": {
        "id": "9qI_ydw3MNsj",
        "colab_type": "text"
      },
      "source": [
        "In Hubei, the upwards curve started on the 22nd of Jan... in the US, it started on the first of March. Use the loose trend that we got from Hubei to predict what would happen to death rates in the future for the US..."
      ]
    },
    {
      "cell_type": "code",
      "metadata": {
        "id": "f8PK3QUbpHYX",
        "colab_type": "code",
        "colab": {}
      },
      "source": [
        "#X_agg['updateTime_cleaned'].min()\n",
        "X_new = X.copy().sort_index()\n",
        "X_new = pd.DataFrame(X_new)\n",
        "X_new['y'] = y_new.values\n",
        "X_new = X_new.drop(['updateTime_cleaned'], axis=1)\n",
        "X_new = X_new.reset_index()\n",
        "X_agg = X_new.groupby(['updateTime_cleaned']).max()\n",
        "y_t =  X_agg['y']\n",
        "X_agg['y0'] =y_t.shift(1, axis = 0)\n",
        "X_agg = X_agg[np.isnan(X_agg['y0']) == False]\n",
        "X_a =  X_agg.reset_index()\n",
        "X_a['updateTime_cleaned'] = X_a['updateTime_cleaned']  - X_a['updateTime_cleaned'].min()\n",
        "X_a = X_a.set_index(['updateTime_cleaned'])\n",
        "\n"
      ],
      "execution_count": 0,
      "outputs": []
    },
    {
      "cell_type": "markdown",
      "metadata": {
        "id": "u0fTCf85eiPi",
        "colab_type": "text"
      },
      "source": [
        "Train time series model on China with previous day's number of death as a paramater to the Linear Regressor (does MUCH better now)"
      ]
    },
    {
      "cell_type": "code",
      "metadata": {
        "id": "y5ZJuY-Jk5ce",
        "colab_type": "code",
        "outputId": "724e18a0-3923-4b96-b759-0661801bae5f",
        "colab": {
          "base_uri": "https://localhost:8080/",
          "height": 297
        }
      },
      "source": [
        "y_n = X_a['y']\n",
        "\n",
        "\n",
        "pipeline = make_pipeline(\n",
        "    LinearRegression()\n",
        ")\n",
        "X_n = X_a.drop(['y'], axis = 1)\n",
        "pipeline.fit(X=X_n.reset_index(), y=y_n)\n",
        "\n",
        "# Store model predictions in a Series for easy plotting\n",
        "y_n_ = pd.Series(\n",
        "    pipeline.predict(X=X_n.reset_index()),\n",
        "    index=X_n.index\n",
        ")\n",
        "\n",
        "# Plot the data and the fitted trend\n",
        "y_n.plot.line(style=\"*\")\n",
        "y_n_.plot.line()\n"
      ],
      "execution_count": 437,
      "outputs": [
        {
          "output_type": "execute_result",
          "data": {
            "text/plain": [
              "<matplotlib.axes._subplots.AxesSubplot at 0x7f0d896001d0>"
            ]
          },
          "metadata": {
            "tags": []
          },
          "execution_count": 437
        },
        {
          "output_type": "display_data",
          "data": {
            "image/png": "[encoded data removed]",
            "text/plain": [
              "<Figure size 432x288 with 1 Axes>"
            ]
          },
          "metadata": {
            "tags": []
          }
        }
      ]
    },
    {
      "cell_type": "markdown",
      "metadata": {
        "id": "XvJZhI3yevV5",
        "colab_type": "text"
      },
      "source": [
        "Refitted the model that was trained on the Chinese death count data with US data, and previous day (first-differences procedure followed) death count as a parameter still..."
      ]
    },
    {
      "cell_type": "code",
      "metadata": {
        "id": "oeBVuTkkusb2",
        "colab_type": "code",
        "outputId": "32aafb9b-a211-4607-aa48-897fcec1dcf3",
        "colab": {
          "base_uri": "https://localhost:8080/",
          "height": 297
        }
      },
      "source": [
        "y_train_us = df_time_series_us['deadCount']\n",
        "#y_shifted .shift(1, axis = 0)\n",
        "date = df_time_series_us.index\n",
        "t_us = date.year + (30 * (date.month - 1) + date.day) / 365\n",
        "X_us = t_us.to_frame()\n",
        "y_new_us = y_train_us.copy().sort_index()\n",
        "X_new_us = X_us.copy().sort_index()\n",
        "X_new_us = pd.DataFrame(X_new_us)\n",
        "X_new_us['y'] = y_new_us.values\n",
        "X_new_us = X_new_us.drop(['updateTime_cleaned'], axis=1)\n",
        "X_new_us = X_new_us.reset_index()\n",
        "X_agg_us = X_new_us.groupby(['updateTime_cleaned']).max()\n",
        "y_new_us =X_agg_us['y']\n",
        "X_agg_us['y0'] =y_new_us.shift(1, axis = 0)\n",
        "X_agg_us = X_agg_us[np.isnan(X_agg_us['y0']) == False]\n",
        "#X_agg_us = X_agg_us[X_agg_us['y0']> 0 ]\n",
        "X_a_us =  X_agg_us.reset_index()\n",
        "X_a_us['updateTime_cleaned'] = X_a_us['updateTime_cleaned']  - X_a_us['updateTime_cleaned'].min()\n",
        "X_a_us = X_a_us.set_index(['updateTime_cleaned'])\n",
        "y_t_us =  X_a_us['y'].sort_index()\n",
        "X_a_us = X_a_us.drop(['y'], axis = 1)\n",
        "pipeline.fit(X=X_a_us.reset_index(), y=y_t_us)\n",
        "\n",
        "# train US with data from China prefitted\n",
        "y_train_us_ = pd.Series(\n",
        "    pipeline.predict(X=X_a_us.reset_index()),\n",
        "    index=X_a_us.index\n",
        ")\n",
        "\n",
        "# Plot the data and the fitted trend\n",
        "y_t_us.plot.line(style=\"*\")\n",
        "y_train_us_.plot.line()\n",
        "\n",
        "\n",
        "\n"
      ],
      "execution_count": 442,
      "outputs": [
        {
          "output_type": "execute_result",
          "data": {
            "text/plain": [
              "<matplotlib.axes._subplots.AxesSubplot at 0x7f0d89504b38>"
            ]
          },
          "metadata": {
            "tags": []
          },
          "execution_count": 442
        },
        {
          "output_type": "display_data",
          "data": {
            "image/png": "[encoded data removed]",
            "text/plain": [
              "<Figure size 432x288 with 1 Axes>"
            ]
          },
          "metadata": {
            "tags": []
          }
        }
      ]
    },
    {
      "cell_type": "code",
      "metadata": {
        "id": "fM9T8Qcvztvw",
        "colab_type": "code",
        "outputId": "8b205b41-98c7-4449-f72a-3f51acad919d",
        "colab": {
          "base_uri": "https://localhost:8080/",
          "height": 452
        }
      },
      "source": [
        "#y_train_us\n",
        "off = 2020 + (30*0 + 27)/365\n",
        "#date.year + (30 * (date.month - 1) + date.day) / 365\n",
        "index = pd.date_range(start='3/18/2020', end='3/30/2020')\n",
        "X_pf = pd.DataFrame(index)\n",
        "X_pf['updateTime_cleaned'] =pd.to_datetime(X_pf[0] )\n",
        "X_pf['updateTime_cleaned_orig'] = X_pf['updateTime_cleaned'].dt.year + \\\n",
        "                                  ((30 * X_pf['updateTime_cleaned'].dt.month - 1) \\\n",
        "                                   + X_pf['updateTime_cleaned'].dt.day) / 365 \n",
        "X_pf['updateTime_cleaned'] = X_pf['updateTime_cleaned_orig'] - off\n",
        "X_pf"
      ],
      "execution_count": 447,
      "outputs": [
        {
          "output_type": "execute_result",
          "data": {
            "text/html": [
              "<div>\n",
              "<style scoped>\n",
              "    .dataframe tbody tr th:only-of-type {\n",
              "        vertical-align: middle;\n",
              "    }\n",
              "\n",
              "    .dataframe tbody tr th {\n",
              "        vertical-align: top;\n",
              "    }\n",
              "\n",
              "    .dataframe thead th {\n",
              "        text-align: right;\n",
              "    }\n",
              "</style>\n",
              "<table border=\"1\" class=\"dataframe\">\n",
              "  <thead>\n",
              "    <tr style=\"text-align: right;\">\n",
              "      <th></th>\n",
              "      <th>0</th>\n",
              "      <th>updateTime_cleaned</th>\n",
              "      <th>updateTime_cleaned_orig</th>\n",
              "    </tr>\n",
              "  </thead>\n",
              "  <tbody>\n",
              "    <tr>\n",
              "      <th>0</th>\n",
              "      <td>2020-03-18</td>\n",
              "      <td>0.219178</td>\n",
              "      <td>2020.293151</td>\n",
              "    </tr>\n",
              "    <tr>\n",
              "      <th>1</th>\n",
              "      <td>2020-03-19</td>\n",
              "      <td>0.221918</td>\n",
              "      <td>2020.295890</td>\n",
              "    </tr>\n",
              "    <tr>\n",
              "      <th>2</th>\n",
              "      <td>2020-03-20</td>\n",
              "      <td>0.224658</td>\n",
              "      <td>2020.298630</td>\n",
              "    </tr>\n",
              "    <tr>\n",
              "      <th>3</th>\n",
              "      <td>2020-03-21</td>\n",
              "      <td>0.227397</td>\n",
              "      <td>2020.301370</td>\n",
              "    </tr>\n",
              "    <tr>\n",
              "      <th>4</th>\n",
              "      <td>2020-03-22</td>\n",
              "      <td>0.230137</td>\n",
              "      <td>2020.304110</td>\n",
              "    </tr>\n",
              "    <tr>\n",
              "      <th>5</th>\n",
              "      <td>2020-03-23</td>\n",
              "      <td>0.232877</td>\n",
              "      <td>2020.306849</td>\n",
              "    </tr>\n",
              "    <tr>\n",
              "      <th>6</th>\n",
              "      <td>2020-03-24</td>\n",
              "      <td>0.235616</td>\n",
              "      <td>2020.309589</td>\n",
              "    </tr>\n",
              "    <tr>\n",
              "      <th>7</th>\n",
              "      <td>2020-03-25</td>\n",
              "      <td>0.238356</td>\n",
              "      <td>2020.312329</td>\n",
              "    </tr>\n",
              "    <tr>\n",
              "      <th>8</th>\n",
              "      <td>2020-03-26</td>\n",
              "      <td>0.241096</td>\n",
              "      <td>2020.315068</td>\n",
              "    </tr>\n",
              "    <tr>\n",
              "      <th>9</th>\n",
              "      <td>2020-03-27</td>\n",
              "      <td>0.243836</td>\n",
              "      <td>2020.317808</td>\n",
              "    </tr>\n",
              "    <tr>\n",
              "      <th>10</th>\n",
              "      <td>2020-03-28</td>\n",
              "      <td>0.246575</td>\n",
              "      <td>2020.320548</td>\n",
              "    </tr>\n",
              "    <tr>\n",
              "      <th>11</th>\n",
              "      <td>2020-03-29</td>\n",
              "      <td>0.249315</td>\n",
              "      <td>2020.323288</td>\n",
              "    </tr>\n",
              "    <tr>\n",
              "      <th>12</th>\n",
              "      <td>2020-03-30</td>\n",
              "      <td>0.252055</td>\n",
              "      <td>2020.326027</td>\n",
              "    </tr>\n",
              "  </tbody>\n",
              "</table>\n",
              "</div>"
            ],
            "text/plain": [
              "            0  updateTime_cleaned  updateTime_cleaned_orig\n",
              "0  2020-03-18            0.219178              2020.293151\n",
              "1  2020-03-19            0.221918              2020.295890\n",
              "2  2020-03-20            0.224658              2020.298630\n",
              "3  2020-03-21            0.227397              2020.301370\n",
              "4  2020-03-22            0.230137              2020.304110\n",
              "5  2020-03-23            0.232877              2020.306849\n",
              "6  2020-03-24            0.235616              2020.309589\n",
              "7  2020-03-25            0.238356              2020.312329\n",
              "8  2020-03-26            0.241096              2020.315068\n",
              "9  2020-03-27            0.243836              2020.317808\n",
              "10 2020-03-28            0.246575              2020.320548\n",
              "11 2020-03-29            0.249315              2020.323288\n",
              "12 2020-03-30            0.252055              2020.326027"
            ]
          },
          "metadata": {
            "tags": []
          },
          "execution_count": 447
        }
      ]
    },
    {
      "cell_type": "markdown",
      "metadata": {
        "id": "YqpJagofe_pm",
        "colab_type": "text"
      },
      "source": [
        "Let's see 5 days from now, what the death count is US is predicted to be from this time series model..."
      ]
    },
    {
      "cell_type": "code",
      "metadata": {
        "id": "z3dEjSwHdkdm",
        "colab_type": "code",
        "colab": {
          "base_uri": "https://localhost:8080/",
          "height": 34
        },
        "outputId": "04db36b2-83c8-430e-b267-5068ecbfc541"
      },
      "source": [
        "pipeline.predict(X=[[0.235616\t, 97]])"
      ],
      "execution_count": 449,
      "outputs": [
        {
          "output_type": "execute_result",
          "data": {
            "text/plain": [
              "array([115.99615885])"
            ]
          },
          "metadata": {
            "tags": []
          },
          "execution_count": 449
        }
      ]
    },
    {
      "cell_type": "markdown",
      "metadata": {
        "id": "rgpLZWdVfJ7c",
        "colab_type": "text"
      },
      "source": [
        "Even further along, 10 days from now--given that death toll then was 115..., the model predicts that death rises again to 137. It suggests that the death rate still climbs fast, but training on China data tamed the growth a little bit."
      ]
    },
    {
      "cell_type": "code",
      "metadata": {
        "id": "xuzMqoDS_vS8",
        "colab_type": "code",
        "outputId": "0bb96998-da95-4f35-c298-a6b0dc9c74d2",
        "colab": {
          "base_uri": "https://localhost:8080/",
          "height": 34
        }
      },
      "source": [
        "pipeline.predict(X=[[0.249315,115]])\n"
      ],
      "execution_count": 455,
      "outputs": [
        {
          "output_type": "execute_result",
          "data": {
            "text/plain": [
              "array([137.00340543])"
            ]
          },
          "metadata": {
            "tags": []
          },
          "execution_count": 455
        }
      ]
    }
  ]
}